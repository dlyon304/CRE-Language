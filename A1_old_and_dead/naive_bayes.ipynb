{
 "cells": [
  {
   "cell_type": "code",
   "execution_count": 14,
   "id": "02a74dff",
   "metadata": {},
   "outputs": [],
   "source": [
    "import pandas as pd\n",
    "import os\n",
    "import glob\n",
    "import numpy as np\n",
    "import statistics as stats\n",
    "import scipy\n",
    "import src.mpra_tools.predicted_occupancy as po\n",
    "import src.mpra_tools.fasta_utils as fu\n",
    "import math\n",
    "import matplotlib.pyplot as plt\n",
    "from collections import Counter, defaultdict\n",
    "import random\n",
    "from sklearn.metrics import f1_score\n",
    "from src.grammar.sentences import *"
   ]
  },
  {
   "cell_type": "code",
   "execution_count": 15,
   "id": "8624e4e1",
   "metadata": {},
   "outputs": [
    {
     "name": "stdout",
     "output_type": "stream",
     "text": [
      "114527 samples\n"
     ]
    }
   ],
   "source": [
    "activity_df = pd.read_csv(\"Data/activity.csv\", index_col=0)\n",
    "retinopathy_df = pd.read_csv(\"Data/retinopathy.csv\", index_col=0)\n",
    "test_labels = activity_df[activity_df['test_set'] | activity_df['cnn_validation_set']].index\n",
    "train_labels = activity_df[~activity_df.index.isin(test_labels)].index\n",
    "L = 164\n",
    "print(len(train_labels), \"samples\")"
   ]
  },
  {
   "cell_type": "markdown",
   "id": "5ed2a97d",
   "metadata": {},
   "source": [
    "### Transform Each Sequence into a sentence"
   ]
  },
  {
   "cell_type": "code",
   "execution_count": 17,
   "id": "ff1dcb6b",
   "metadata": {},
   "outputs": [
    {
     "name": "stdout",
     "output_type": "stream",
     "text": [
      "118364 sentences to create\n",
      "\t 29591 / 118364 sentences created\n",
      "\t 59182 / 118364 sentences created\n",
      "\t 88773 / 118364 sentences created\n",
      "All sentences created\n",
      "1723 sentences to create\n",
      "\t 430 / 1723 sentences created\n",
      "\t 860 / 1723 sentences created\n",
      "\t 1290 / 1723 sentences created\n",
      "\t 1720 / 1723 sentences created\n",
      "All sentences created\n"
     ]
    }
   ],
   "source": [
    "k=5\n",
    "divs=4\n",
    "\n",
    "activity_df['sentence'] = po_sentences(activity_df.index.to_list(), \"Data/Motifs/summarized_motifs.parquet\", k=k, divs=divs)\n",
    "retinopathy_df['sentence'] = po_sentences(retinopathy_df.index.to_list(), \"Data/Motifs/retinopathy_motifs.parquet\", k=k, divs=divs)\n",
    "\n",
    "\n"
   ]
  },
  {
   "cell_type": "markdown",
   "id": "e7cb9193",
   "metadata": {},
   "source": [
    "### Get word counts for each document class"
   ]
  },
  {
   "cell_type": "code",
   "execution_count": 18,
   "id": "61f37718",
   "metadata": {},
   "outputs": [],
   "source": [
    "classes = ['Silencer','Inactive','WeakEnhancer','StrongEnhancer']"
   ]
  },
  {
   "cell_type": "code",
   "execution_count": 19,
   "id": "30a5e2a2",
   "metadata": {},
   "outputs": [],
   "source": [
    "#Total word counts for each class\n",
    "\n",
    "class_counts = dict()\n",
    "priors = dict()\n",
    "total = 0\n",
    "\n",
    "for c, sentences in activity_df.loc[train_labels].groupby('activity_bin')['sentence']:\n",
    "    word_counter = Counter()\n",
    "    [word_counter.update(s.split()) for s in sentences.to_list()]\n",
    "    class_counts[c] = word_counter\n",
    "    priors[c] = len(sentences)\n",
    "    total += len(sentences)\n",
    "    \n",
    "class_priors = dict([(c, v / total) for c,v in priors.items()])\n"
   ]
  },
  {
   "cell_type": "code",
   "execution_count": 20,
   "id": "8c4c7556",
   "metadata": {},
   "outputs": [],
   "source": [
    "\n",
    "\n",
    "#If no priors are passed then set all class priors to zero = log(1)\n",
    "class_priors = pd.Series(np.zeros(len(classes)), index = classes)\n",
    "\n",
    "#Determine the entire vocabulary seen or to be seen\n",
    "all = activity_df['sentence'].to_list()+retinopathy_df['sentence'].to_list()\n",
    "\n",
    "# Create a set with all known characters\n",
    "alphabet = set()\n",
    "[alphabet.update(s.split()) for s in all]\n",
    "V = len(alphabet)\n",
    "\n",
    "#Convert raw counts to log probs use smoothing by adding 1 to each word in alphabet for each class\n",
    "[class_counts[c].update(alphabet) for c in classes]\n",
    "class_word_logs = dict([\n",
    "    (c,\n",
    "    dict([\n",
    "        (word,\n",
    "        math.log(count / class_counts[c].total()))\n",
    "        for word,count in class_counts[c].items()\n",
    "    ]))\n",
    "    for c in classes\n",
    "])    \n",
    "    \n",
    "    "
   ]
  },
  {
   "cell_type": "markdown",
   "id": "97e674aa",
   "metadata": {},
   "source": [
    "### Get class probabilities for all docs in the testing set"
   ]
  },
  {
   "cell_type": "code",
   "execution_count": 21,
   "id": "7c72d5be",
   "metadata": {},
   "outputs": [],
   "source": [
    "# CNN Mutagenesis test\n",
    "\n",
    "preds_test = []\n",
    "truths_test = activity_df.loc[test_labels]['activity_bin'].to_list()\n",
    "\n",
    "\n",
    "for sentence in activity_df.loc[test_labels]['sentence']:\n",
    "    preds = class_priors.copy()\n",
    "    for c in classes:\n",
    "        preds.loc[c] += sum(class_word_logs[c][w] for w in sentence.split())\n",
    "    preds_test.append(preds.idxmax())\n",
    "    \n",
    "    "
   ]
  },
  {
   "cell_type": "code",
   "execution_count": 22,
   "id": "f00a6969",
   "metadata": {},
   "outputs": [],
   "source": [
    "# Retinopathy Test\n",
    "\n",
    "preds_ret = []\n",
    "truths_ret = retinopathy_df['activity_bin'].to_list()\n",
    "\n",
    "\n",
    "for sentence in retinopathy_df['sentence']:\n",
    "    preds = class_priors.copy()\n",
    "    for c in classes:\n",
    "        preds.loc[c] += sum(class_word_logs[c][w] for w in sentence.split())\n",
    "    preds_ret.append(preds.idxmax())\n",
    "    \n",
    "    "
   ]
  },
  {
   "cell_type": "code",
   "execution_count": 23,
   "id": "db358a7c",
   "metadata": {},
   "outputs": [],
   "source": [
    "averages = ['micro', 'macro','weighted']\n",
    "\n",
    "f1_ret = [f1_score(truths_ret,preds_ret, labels=classes, average=a) for a in averages]\n",
    "f1_test = [f1_score(truths_test,preds_test, labels=classes, average=a) for a in averages]"
   ]
  },
  {
   "cell_type": "code",
   "execution_count": 24,
   "id": "f3b5822d",
   "metadata": {},
   "outputs": [
    {
     "data": {
      "text/html": [
       "<div>\n",
       "<style scoped>\n",
       "    .dataframe tbody tr th:only-of-type {\n",
       "        vertical-align: middle;\n",
       "    }\n",
       "\n",
       "    .dataframe tbody tr th {\n",
       "        vertical-align: top;\n",
       "    }\n",
       "\n",
       "    .dataframe thead th {\n",
       "        text-align: right;\n",
       "    }\n",
       "</style>\n",
       "<table border=\"1\" class=\"dataframe\">\n",
       "  <thead>\n",
       "    <tr style=\"text-align: right;\">\n",
       "      <th></th>\n",
       "      <th>micro</th>\n",
       "      <th>macro</th>\n",
       "      <th>weighted</th>\n",
       "    </tr>\n",
       "  </thead>\n",
       "  <tbody>\n",
       "    <tr>\n",
       "      <th>Retinopathy Set</th>\n",
       "      <td>0.413233</td>\n",
       "      <td>0.296562</td>\n",
       "      <td>0.382855</td>\n",
       "    </tr>\n",
       "    <tr>\n",
       "      <th>Test Set</th>\n",
       "      <td>0.379984</td>\n",
       "      <td>0.329694</td>\n",
       "      <td>0.375722</td>\n",
       "    </tr>\n",
       "  </tbody>\n",
       "</table>\n",
       "</div>"
      ],
      "text/plain": [
       "                    micro     macro  weighted\n",
       "Retinopathy Set  0.413233  0.296562  0.382855\n",
       "Test Set         0.379984  0.329694  0.375722"
      ]
     },
     "execution_count": 24,
     "metadata": {},
     "output_type": "execute_result"
    }
   ],
   "source": [
    "bayes_preformance = pd.DataFrame(\n",
    "    data = [f1_ret,f1_test],\n",
    "    columns=averages,\n",
    "    index=['Retinopathy Set', 'Test Set']\n",
    ")\n",
    "bayes_preformance"
   ]
  },
  {
   "cell_type": "code",
   "execution_count": 70,
   "id": "b72201b3",
   "metadata": {},
   "outputs": [],
   "source": [
    "# Import standard CLF performance metrics\n",
    "Clf_performance = pd.read_csv(\"Data/cnn_dataset_performance_metrics.txt\", sep ='\\t', index_col=[0,1])\n",
    "clf_test = Clf_performance[Clf_performance['test_set']=='test_set'][averages].groupby(level=0).agg('median')\n",
    "clf_ret = Clf_performance[Clf_performance['test_set']=='test_retinopathy'][averages].groupby(level=0).agg('median')\n"
   ]
  },
  {
   "cell_type": "code",
   "execution_count": null,
   "id": "87dd1083",
   "metadata": {},
   "outputs": [],
   "source": []
  },
  {
   "cell_type": "code",
   "execution_count": 81,
   "id": "1673477f",
   "metadata": {},
   "outputs": [
    {
     "data": {
      "text/html": [
       "<div>\n",
       "<style scoped>\n",
       "    .dataframe tbody tr th:only-of-type {\n",
       "        vertical-align: middle;\n",
       "    }\n",
       "\n",
       "    .dataframe tbody tr th {\n",
       "        vertical-align: top;\n",
       "    }\n",
       "\n",
       "    .dataframe thead th {\n",
       "        text-align: right;\n",
       "    }\n",
       "</style>\n",
       "<table border=\"1\" class=\"dataframe\">\n",
       "  <thead>\n",
       "    <tr style=\"text-align: right;\">\n",
       "      <th></th>\n",
       "      <th>micro</th>\n",
       "      <th>macro</th>\n",
       "      <th>weighted</th>\n",
       "    </tr>\n",
       "  </thead>\n",
       "  <tbody>\n",
       "    <tr>\n",
       "      <th>Retinopathy Set</th>\n",
       "      <td>0.412652</td>\n",
       "      <td>0.296304</td>\n",
       "      <td>0.382456</td>\n",
       "    </tr>\n",
       "    <tr>\n",
       "      <th>Test Set</th>\n",
       "      <td>0.379203</td>\n",
       "      <td>0.328883</td>\n",
       "      <td>0.375029</td>\n",
       "    </tr>\n",
       "  </tbody>\n",
       "</table>\n",
       "</div>"
      ],
      "text/plain": [
       "                    micro     macro  weighted\n",
       "Retinopathy Set  0.412652  0.296304  0.382456\n",
       "Test Set         0.379203  0.328883  0.375029"
      ]
     },
     "execution_count": 81,
     "metadata": {},
     "output_type": "execute_result"
    }
   ],
   "source": [
    "bayes_preformance #No allostery"
   ]
  },
  {
   "cell_type": "code",
   "execution_count": null,
   "id": "be465c09",
   "metadata": {},
   "outputs": [],
   "source": []
  },
  {
   "cell_type": "code",
   "execution_count": null,
   "id": "bf3ae398",
   "metadata": {},
   "outputs": [],
   "source": []
  }
 ],
 "metadata": {
  "kernelspec": {
   "display_name": "Python 3 (ipykernel)",
   "language": "python",
   "name": "python3"
  },
  "language_info": {
   "codemirror_mode": {
    "name": "ipython",
    "version": 3
   },
   "file_extension": ".py",
   "mimetype": "text/x-python",
   "name": "python",
   "nbconvert_exporter": "python",
   "pygments_lexer": "ipython3",
   "version": "3.12.1"
  }
 },
 "nbformat": 4,
 "nbformat_minor": 5
}
