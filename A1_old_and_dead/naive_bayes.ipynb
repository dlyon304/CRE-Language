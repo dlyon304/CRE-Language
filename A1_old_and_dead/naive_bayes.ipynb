{
 "cells": [
  {
   "cell_type": "code",
   "execution_count": 4,
   "id": "02a74dff",
   "metadata": {},
   "outputs": [],
   "source": [
    "import pandas as pd\n",
    "import os\n",
    "import glob\n",
    "import numpy as np\n",
    "import statistics as stats\n",
    "import scipy\n",
    "import src.mpra_tools.predicted_occupancy as po\n",
    "import src.mpra_tools.fasta_utils as fu\n",
    "import math\n",
    "import matplotlib.pyplot as plt\n",
    "from collections import Counter, defaultdict\n",
    "import random\n",
    "from sklearn.metrics import f1_score\n",
    "from src.grammar.sentences import po_sentences"
   ]
  },
  {
   "cell_type": "code",
   "execution_count": 9,
   "id": "8624e4e1",
   "metadata": {},
   "outputs": [
    {
     "name": "stdout",
     "output_type": "stream",
     "text": [
      "118364 samples\n"
     ]
    }
   ],
   "source": [
    "activity_df = pd.read_csv(\"Data/activity.csv\", index_col=0)\n",
    "retinopathy_df = pd.read_csv(\"Data/retinopathy.csv\", index_col=0)\n",
    "test_labels = set(activity_df[activity_df['test_set'] | activity_df['cnn_validation_set']].index)\n",
    "train_labels = set(activity_df[~activity_df.index.isin(test_labels)].index)\n",
    "L = 164\n",
    "print(len(activity_df), \"samples\")"
   ]
  },
  {
   "cell_type": "code",
   "execution_count": 3,
   "id": "869dfed9",
   "metadata": {},
   "outputs": [],
   "source": [
    "# fimo_df = pd.concat([pd.read_csv('Data/Motifs/fimo_eLife_activity/fimo.tsv', sep='\\t'),pd.read_csv('Data/Motifs/fimo_eLife_retinopathy/fimo.tsv', sep='\\t')], ignore_index=True)\n",
    "# del fimo_df['motif_alt_id']\n",
    "# fimo_df.dropna(inplace=True)\n",
    "# fimo_df['motif_id'] = fimo_df['motif_id'].map(lambda x: x.split('_')[0])\n",
    "# fimo_df = fimo_df.astype({'start':int, 'stop':int})\n",
    "# print(len(fimo_df),\"motifs\")\n",
    "# list(set(fimo_df['motif_id']))"
   ]
  },
  {
   "cell_type": "code",
   "execution_count": 5,
   "id": "92cc5ed5",
   "metadata": {},
   "outputs": [
    {
     "name": "stdout",
     "output_type": "stream",
     "text": [
      "856599 motifs\n"
     ]
    },
    {
     "data": {
      "text/plain": [
       "{'CRX', 'GFI1', 'MAZ', 'MEF2D', 'NDF1', 'NRL', 'RAX', 'RORB'}"
      ]
     },
     "execution_count": 5,
     "metadata": {},
     "output_type": "execute_result"
    }
   ],
   "source": [
    "po_df = pd.concat([pd.read_parquet(\"Data/Motifs/summarized_motifs.parquet\"),pd.read_parquet(\"Data/Motifs/retinopathy_motifs.parquet\")])\n",
    "print(len(po_df), \"motifs\")\n",
    "set(po_df['motif'])"
   ]
  },
  {
   "cell_type": "markdown",
   "id": "5ed2a97d",
   "metadata": {},
   "source": [
    "### Transform Each Sequence into a sentence"
   ]
  },
  {
   "cell_type": "code",
   "execution_count": 15,
   "id": "ff1dcb6b",
   "metadata": {},
   "outputs": [
    {
     "name": "stdout",
     "output_type": "stream",
     "text": [
      "118364 sentences to create\n",
      "\t 29591 / 118364 sentences created\n",
      "\t 59182 / 118364 sentences created\n",
      "\t 88773 / 118364 sentences created\n",
      "All sentences created\n",
      "1723 sentences to create\n",
      "\t 430 / 1723 sentences created\n",
      "\t 860 / 1723 sentences created\n",
      "\t 1290 / 1723 sentences created\n",
      "\t 1720 / 1723 sentences created\n",
      "All sentences created\n"
     ]
    }
   ],
   "source": [
    "k=5\n",
    "divs=4\n",
    "\n",
    "activity_df['sentence'] = po_sentences(activity_df.index.to_list(), \"Data/Motifs/summarized_motifs.parquet\", k=k, divs=divs)\n",
    "retinopathy_df['sentence'] = po_sentences(retinopathy_df.index.to_list(), \"Data/Motifs/retinopathy_motifs.parquet\", k=k, divs=divs)\n",
    "\n",
    "\n"
   ]
  },
  {
   "cell_type": "code",
   "execution_count": 16,
   "id": "df6543c6",
   "metadata": {},
   "outputs": [
    {
     "data": {
      "text/plain": [
       "Index(['expression', 'expression_std', 'expression_reps', 'mu', 'sigma',\n",
       "       'pval', 'qval', 'expression_log2', 'library', 'sequence',\n",
       "       'standard_seq', 'scrambled', 'immediate_precursor', 'original_seq',\n",
       "       'activity_bin', 'rational_mutagenesis', 'ic_scan', 'original_genomic',\n",
       "       'mut_all_crx', 'mut_shape', 'entropy_sampling', 'margin_sampling',\n",
       "       'random_sampling', 'high_conf_pilot', 'high_conf_cnn', 'l9_controls',\n",
       "       'l9_repeat_l8', 'test_set', 'derived_from_test_set_seq',\n",
       "       'cnn_validation_set', 'data_batch_name', 'svm_train', 'cnn_train',\n",
       "       'sentence'],\n",
       "      dtype='object')"
      ]
     },
     "execution_count": 16,
     "metadata": {},
     "output_type": "execute_result"
    }
   ],
   "source": [
    "activity_df.columns"
   ]
  },
  {
   "cell_type": "code",
   "execution_count": 17,
   "id": "50103e95",
   "metadata": {},
   "outputs": [],
   "source": [
    "# FIMO motifs\n",
    "# # main dataset\n",
    "# labels = fimo_df.groupby(by=\"sequence_name\")\n",
    "# sentences = dict()\n",
    "# IVAL = 5.0\n",
    "\n",
    "# for name, df in labels:\n",
    "#     sdf = df.sort_values(by=\"start\")\n",
    "#     i = 1\n",
    "#     s = []\n",
    "#     for index, row in sdf.iterrows():\n",
    "#         d = row['start']-i\n",
    "#         if d > 0:\n",
    "#             xIVALmer = math.ceil(d/IVAL)\n",
    "#             s.append(xIVALmer)\n",
    "#         s.append(row['motif_id']+row['strand'])\n",
    "#         i = row['stop']+1\n",
    "#     if i < L:\n",
    "#         xIVALmer = math.ceil((L-i)/IVAL)\n",
    "#         s.append(xIVALmer)\n",
    "#     sentences[name] = s\n"
   ]
  },
  {
   "cell_type": "markdown",
   "id": "e7cb9193",
   "metadata": {},
   "source": [
    "### Get word counts for each document class"
   ]
  },
  {
   "cell_type": "code",
   "execution_count": 23,
   "id": "61f37718",
   "metadata": {},
   "outputs": [],
   "source": [
    "classes = ['Silencer','Inactive','WeakEnhancer','StrongEnhancer']"
   ]
  },
  {
   "cell_type": "code",
   "execution_count": 24,
   "id": "30a5e2a2",
   "metadata": {},
   "outputs": [],
   "source": [
    "#Total word counts for each class\n",
    "\n",
    "class_counts = dict()\n",
    "priors = dict()\n",
    "total = 0\n",
    "\n",
    "for c, sentences in activity_df[activity_df.index.isin(train_labels)].groupby('activity_bin')['sentence']:\n",
    "    word_counter = Counter()\n",
    "    [word_counter.update(s.split()) for s in sentences.to_list()]\n",
    "    class_counts[c] = word_counter\n",
    "    priors[c] = len(sentences)\n",
    "    total += len(sentences)\n",
    "    \n",
    "class_priors = dict([(c, v / total) for c,v in priors.items()])\n"
   ]
  },
  {
   "cell_type": "code",
   "execution_count": 28,
   "id": "8c4c7556",
   "metadata": {},
   "outputs": [
    {
     "ename": "TypeError",
     "evalue": "unhashable type: 'list'",
     "output_type": "error",
     "traceback": [
      "\u001b[0;31m---------------------------------------------------------------------------\u001b[0m",
      "\u001b[0;31mTypeError\u001b[0m                                 Traceback (most recent call last)",
      "Cell \u001b[0;32mIn[28], line 7\u001b[0m\n\u001b[1;32m      5\u001b[0m \u001b[38;5;66;03m#Determine the entire vocabulary seen or to be seen\u001b[39;00m\n\u001b[1;32m      6\u001b[0m \u001b[38;5;28mall\u001b[39m \u001b[38;5;241m=\u001b[39m activity_df[\u001b[38;5;124m'\u001b[39m\u001b[38;5;124msentence\u001b[39m\u001b[38;5;124m'\u001b[39m]\u001b[38;5;241m.\u001b[39mto_list()\u001b[38;5;241m+\u001b[39mretinopathy_df[\u001b[38;5;124m'\u001b[39m\u001b[38;5;124msentence\u001b[39m\u001b[38;5;124m'\u001b[39m]\u001b[38;5;241m.\u001b[39mto_list()\n\u001b[0;32m----> 7\u001b[0m alphabet \u001b[38;5;241m=\u001b[39m \u001b[38;5;28;43mset\u001b[39;49m\u001b[43m(\u001b[49m\u001b[43m[\u001b[49m\u001b[38;5;28;43mstr\u001b[39;49m\u001b[43m(\u001b[49m\u001b[43ms\u001b[49m\u001b[43m)\u001b[49m\u001b[38;5;241;43m.\u001b[39;49m\u001b[43msplit\u001b[49m\u001b[43m(\u001b[49m\u001b[43m)\u001b[49m\u001b[43m \u001b[49m\u001b[38;5;28;43;01mfor\u001b[39;49;00m\u001b[43m \u001b[49m\u001b[43ms\u001b[49m\u001b[43m \u001b[49m\u001b[38;5;129;43;01min\u001b[39;49;00m\u001b[43m \u001b[49m\u001b[38;5;28;43mall\u001b[39;49m\u001b[43m]\u001b[49m\u001b[43m)\u001b[49m\n\u001b[1;32m      8\u001b[0m V \u001b[38;5;241m=\u001b[39m \u001b[38;5;28mlen\u001b[39m(alphabet)\n\u001b[1;32m     10\u001b[0m \u001b[38;5;66;03m#Convert raw counts to log probs use smoothing by adding 1 to each word in alphabet for each class\u001b[39;00m\n",
      "\u001b[0;31mTypeError\u001b[0m: unhashable type: 'list'"
     ]
    }
   ],
   "source": [
    "\n",
    "\n",
    "#If no priors are passed then set all class priors to zero = log(1)\n",
    "class_priors = pd.Series(np.zeros(len(classes)), index = classes)\n",
    "\n",
    "\n",
    "#Determine the entire vocabulary seen or to be seen\n",
    "all = activity_df['sentence'].to_list()+retinopathy_df['sentence'].to_list()\n",
    "alphabet = set([str(s).split() for s in all])\n",
    "V = len(alphabet)\n",
    "\n",
    "#Convert raw counts to log probs use smoothing by adding 1 to each word in alphabet for each class\n",
    "[class_counts[c].update(alphabet) for c in classes]\n",
    "class_word_logs = dict([\n",
    "    (c,\n",
    "    dict([\n",
    "        (word,\n",
    "        math.log(count / class_counts[c].total()))\n",
    "        for word,count in class_counts[c].items()\n",
    "    ]))\n",
    "    for c in classes\n",
    "])    \n",
    "    \n",
    "    "
   ]
  },
  {
   "cell_type": "markdown",
   "id": "97e674aa",
   "metadata": {},
   "source": [
    "### Get class probabilities for all docs in the testing set"
   ]
  },
  {
   "cell_type": "code",
   "execution_count": 89,
   "id": "7c72d5be",
   "metadata": {},
   "outputs": [],
   "source": [
    "preds_test = dict()\n",
    "truths_test = dict()\n",
    "\n",
    "test_labels = test_labels[test_labels.isin(sentences.keys())]\n",
    "test_bins = activity_df.loc[test_labels]['activity_bin']\n",
    "\n",
    "for i in test_labels:\n",
    "    #Inititial probabilities for each doc P(c_i)\n",
    "    probs = dict([(b,p_c[b]) for b in bins])\n",
    "    for b in bins:\n",
    "        for w in sentences[i]:\n",
    "            # Probability that a word appears in the doc.  Log transform means we can add\n",
    "            probs[b] = probs[b] * (counts[b][w]+1)/(counts[b].total()+V)\n",
    "    norm = sum(probs.values())\n",
    "    preds_test[i] = np.array(list(probs.values())) / norm\n",
    "    truths_test[i] = bins.index(test_bins.loc[i])\n",
    "\n",
    "\n",
    "\n"
   ]
  },
  {
   "cell_type": "code",
   "execution_count": 90,
   "id": "f00a6969",
   "metadata": {},
   "outputs": [],
   "source": [
    "preds_ret = dict()\n",
    "truths_ret = dict()\n",
    "\n",
    "ret_labels = retinopathy_df[retinopathy_df.index.isin(sentences.keys())].index\n",
    "ret_bins = retinopathy_df.loc[ret_labels]['activity_bin']\n",
    "\n",
    "for i in ret_labels:\n",
    "    #Inititial probabilities for each doc P(c_i)\n",
    "    probs = dict([(b,p_c[b]) for b in bins])\n",
    "    for b in bins:\n",
    "        for w in sentences[i]:\n",
    "            # Probability that a word appears in the doc.  Log transform means we can add\n",
    "            probs[b] = probs[b] + math.log((counts[b][w]+1)/(counts[b].total()+V))\n",
    "    #norm = sum(probs.values())\n",
    "    preds_ret[i] = np.array(list(probs.values())) #/ norm\n",
    "    truths_ret[i] = bins.index(ret_bins.loc[i])\n",
    "\n",
    "\n"
   ]
  },
  {
   "cell_type": "code",
   "execution_count": 91,
   "id": "db358a7c",
   "metadata": {},
   "outputs": [
    {
     "name": "stdout",
     "output_type": "stream",
     "text": [
      "retinopathy test\n"
     ]
    }
   ],
   "source": [
    "averages = ['micro', 'macro','weighted']\n",
    "\n",
    "print(\"retinopathy test\")\n",
    "t = list(truths_ret.values())\n",
    "p = [a.argmax() for a in preds_ret.values()]\n",
    "\n",
    "correct = 0\n",
    "for truth, pred in zip(t,p):\n",
    "    if truth == pred:\n",
    "        correct += 1\n",
    "        \n",
    "correct = correct/len(t)\n",
    "\n",
    "\n",
    "f1_ret = [f1_score(t,p, labels=range(len(bins)), average=a) for a in averages] + [correct]"
   ]
  },
  {
   "cell_type": "code",
   "execution_count": 92,
   "id": "d2643b66",
   "metadata": {},
   "outputs": [],
   "source": [
    "\n",
    "t = list(truths_test.values())\n",
    "p = [a.argmax() for a in preds_test.values()]\n",
    "\n",
    "correct = 0\n",
    "for truth, pred in zip(t,p):\n",
    "    if truth == pred:\n",
    "        correct += 1\n",
    "        \n",
    "correct = correct/len(t)\n",
    "\n",
    "f1_test = [f1_score(t,p, labels=range(len(bins)), average=a) for a in averages] + [correct]\n"
   ]
  },
  {
   "cell_type": "code",
   "execution_count": 93,
   "id": "f3b5822d",
   "metadata": {},
   "outputs": [],
   "source": [
    "bayes_preformance = pd.DataFrame(\n",
    "    data = [f1_ret,f1_test],\n",
    "    columns=averages+['correct'],\n",
    "    index=['Retinopathy Set', 'Test Set']\n",
    ")"
   ]
  },
  {
   "cell_type": "code",
   "execution_count": 5,
   "id": "b72201b3",
   "metadata": {},
   "outputs": [],
   "source": [
    "Clf_performance = pd.read_csv(\"Data/cnn_dataset_performance_metrics.txt\", sep ='\\t', index_col=[0,1])\n",
    "clf_test = Clf_performance[Clf_performance['test_set']=='test_set'].copy()\n",
    "clf_ret = Clf_performance[Clf_performance['test_set']=='test_retinopathy'].copy()\n",
    "clf_test.drop(columns=['test_set','nseqs_train','nseqs_test'],inplace=True)\n",
    "clf_ret.drop(columns=['test_set','nseqs_train','nseqs_test'],inplace=True)\n"
   ]
  },
  {
   "cell_type": "code",
   "execution_count": 6,
   "id": "af96a822",
   "metadata": {},
   "outputs": [
    {
     "data": {
      "text/html": [
       "<div>\n",
       "<style scoped>\n",
       "    .dataframe tbody tr th:only-of-type {\n",
       "        vertical-align: middle;\n",
       "    }\n",
       "\n",
       "    .dataframe tbody tr th {\n",
       "        vertical-align: top;\n",
       "    }\n",
       "\n",
       "    .dataframe thead th {\n",
       "        text-align: right;\n",
       "    }\n",
       "</style>\n",
       "<table border=\"1\" class=\"dataframe\">\n",
       "  <thead>\n",
       "    <tr style=\"text-align: right;\">\n",
       "      <th></th>\n",
       "      <th></th>\n",
       "      <th>micro</th>\n",
       "      <th>macro</th>\n",
       "      <th>weighted</th>\n",
       "      <th>Si</th>\n",
       "      <th>In</th>\n",
       "      <th>WE</th>\n",
       "      <th>SE</th>\n",
       "    </tr>\n",
       "    <tr>\n",
       "      <th>dataset</th>\n",
       "      <th>fold</th>\n",
       "      <th></th>\n",
       "      <th></th>\n",
       "      <th></th>\n",
       "      <th></th>\n",
       "      <th></th>\n",
       "      <th></th>\n",
       "      <th></th>\n",
       "    </tr>\n",
       "  </thead>\n",
       "  <tbody>\n",
       "    <tr>\n",
       "      <th rowspan=\"5\" valign=\"top\">GenomicOnly</th>\n",
       "      <th>1</th>\n",
       "      <td>0.340366</td>\n",
       "      <td>0.135456</td>\n",
       "      <td>0.190666</td>\n",
       "      <td>0.0</td>\n",
       "      <td>0.015748</td>\n",
       "      <td>0.508004</td>\n",
       "      <td>0.018072</td>\n",
       "    </tr>\n",
       "    <tr>\n",
       "      <th>2</th>\n",
       "      <td>0.340366</td>\n",
       "      <td>0.143296</td>\n",
       "      <td>0.200819</td>\n",
       "      <td>0.0</td>\n",
       "      <td>0.028986</td>\n",
       "      <td>0.508696</td>\n",
       "      <td>0.035503</td>\n",
       "    </tr>\n",
       "    <tr>\n",
       "      <th>3</th>\n",
       "      <td>0.354430</td>\n",
       "      <td>0.134794</td>\n",
       "      <td>0.188082</td>\n",
       "      <td>0.0</td>\n",
       "      <td>0.016260</td>\n",
       "      <td>0.522917</td>\n",
       "      <td>0.000000</td>\n",
       "    </tr>\n",
       "    <tr>\n",
       "      <th>4</th>\n",
       "      <td>0.338959</td>\n",
       "      <td>0.152656</td>\n",
       "      <td>0.226782</td>\n",
       "      <td>0.0</td>\n",
       "      <td>0.000000</td>\n",
       "      <td>0.489888</td>\n",
       "      <td>0.120735</td>\n",
       "    </tr>\n",
       "    <tr>\n",
       "      <th>5</th>\n",
       "      <td>0.353024</td>\n",
       "      <td>0.139779</td>\n",
       "      <td>0.201786</td>\n",
       "      <td>0.0</td>\n",
       "      <td>0.000000</td>\n",
       "      <td>0.516949</td>\n",
       "      <td>0.042169</td>\n",
       "    </tr>\n",
       "    <tr>\n",
       "      <th>...</th>\n",
       "      <th>...</th>\n",
       "      <td>...</td>\n",
       "      <td>...</td>\n",
       "      <td>...</td>\n",
       "      <td>...</td>\n",
       "      <td>...</td>\n",
       "      <td>...</td>\n",
       "      <td>...</td>\n",
       "    </tr>\n",
       "    <tr>\n",
       "      <th rowspan=\"5\" valign=\"top\">Round3aNoRound2</th>\n",
       "      <th>6</th>\n",
       "      <td>0.412096</td>\n",
       "      <td>0.281765</td>\n",
       "      <td>0.398091</td>\n",
       "      <td>0.0</td>\n",
       "      <td>0.212963</td>\n",
       "      <td>0.469256</td>\n",
       "      <td>0.444840</td>\n",
       "    </tr>\n",
       "    <tr>\n",
       "      <th>7</th>\n",
       "      <td>0.395218</td>\n",
       "      <td>0.280363</td>\n",
       "      <td>0.390207</td>\n",
       "      <td>0.0</td>\n",
       "      <td>0.237918</td>\n",
       "      <td>0.453427</td>\n",
       "      <td>0.430108</td>\n",
       "    </tr>\n",
       "    <tr>\n",
       "      <th>8</th>\n",
       "      <td>0.424754</td>\n",
       "      <td>0.282919</td>\n",
       "      <td>0.409341</td>\n",
       "      <td>0.0</td>\n",
       "      <td>0.188119</td>\n",
       "      <td>0.440433</td>\n",
       "      <td>0.503125</td>\n",
       "    </tr>\n",
       "    <tr>\n",
       "      <th>9</th>\n",
       "      <td>0.406470</td>\n",
       "      <td>0.285823</td>\n",
       "      <td>0.400776</td>\n",
       "      <td>0.0</td>\n",
       "      <td>0.240000</td>\n",
       "      <td>0.435714</td>\n",
       "      <td>0.467577</td>\n",
       "    </tr>\n",
       "    <tr>\n",
       "      <th>10</th>\n",
       "      <td>0.426160</td>\n",
       "      <td>0.294245</td>\n",
       "      <td>0.418910</td>\n",
       "      <td>0.0</td>\n",
       "      <td>0.223140</td>\n",
       "      <td>0.450549</td>\n",
       "      <td>0.503289</td>\n",
       "    </tr>\n",
       "  </tbody>\n",
       "</table>\n",
       "<p>90 rows × 7 columns</p>\n",
       "</div>"
      ],
      "text/plain": [
       "                         micro     macro  weighted   Si        In        WE  \\\n",
       "dataset         fold                                                          \n",
       "GenomicOnly     1     0.340366  0.135456  0.190666  0.0  0.015748  0.508004   \n",
       "                2     0.340366  0.143296  0.200819  0.0  0.028986  0.508696   \n",
       "                3     0.354430  0.134794  0.188082  0.0  0.016260  0.522917   \n",
       "                4     0.338959  0.152656  0.226782  0.0  0.000000  0.489888   \n",
       "                5     0.353024  0.139779  0.201786  0.0  0.000000  0.516949   \n",
       "...                        ...       ...       ...  ...       ...       ...   \n",
       "Round3aNoRound2 6     0.412096  0.281765  0.398091  0.0  0.212963  0.469256   \n",
       "                7     0.395218  0.280363  0.390207  0.0  0.237918  0.453427   \n",
       "                8     0.424754  0.282919  0.409341  0.0  0.188119  0.440433   \n",
       "                9     0.406470  0.285823  0.400776  0.0  0.240000  0.435714   \n",
       "                10    0.426160  0.294245  0.418910  0.0  0.223140  0.450549   \n",
       "\n",
       "                            SE  \n",
       "dataset         fold            \n",
       "GenomicOnly     1     0.018072  \n",
       "                2     0.035503  \n",
       "                3     0.000000  \n",
       "                4     0.120735  \n",
       "                5     0.042169  \n",
       "...                        ...  \n",
       "Round3aNoRound2 6     0.444840  \n",
       "                7     0.430108  \n",
       "                8     0.503125  \n",
       "                9     0.467577  \n",
       "                10    0.503289  \n",
       "\n",
       "[90 rows x 7 columns]"
      ]
     },
     "execution_count": 6,
     "metadata": {},
     "output_type": "execute_result"
    }
   ],
   "source": [
    "clf_test"
   ]
  },
  {
   "cell_type": "code",
   "execution_count": null,
   "id": "87dd1083",
   "metadata": {},
   "outputs": [],
   "source": []
  },
  {
   "cell_type": "code",
   "execution_count": 95,
   "id": "92f4fb98",
   "metadata": {},
   "outputs": [
    {
     "data": {
      "text/html": [
       "<div>\n",
       "<style scoped>\n",
       "    .dataframe tbody tr th:only-of-type {\n",
       "        vertical-align: middle;\n",
       "    }\n",
       "\n",
       "    .dataframe tbody tr th {\n",
       "        vertical-align: top;\n",
       "    }\n",
       "\n",
       "    .dataframe thead th {\n",
       "        text-align: right;\n",
       "    }\n",
       "</style>\n",
       "<table border=\"1\" class=\"dataframe\">\n",
       "  <thead>\n",
       "    <tr style=\"text-align: right;\">\n",
       "      <th></th>\n",
       "      <th>micro</th>\n",
       "      <th>macro</th>\n",
       "      <th>weighted</th>\n",
       "      <th>correct</th>\n",
       "    </tr>\n",
       "  </thead>\n",
       "  <tbody>\n",
       "    <tr>\n",
       "      <th>Retinopathy Set</th>\n",
       "      <td>0.334301</td>\n",
       "      <td>0.288965</td>\n",
       "      <td>0.342043</td>\n",
       "      <td>0.334301</td>\n",
       "    </tr>\n",
       "    <tr>\n",
       "      <th>Test Set</th>\n",
       "      <td>0.363368</td>\n",
       "      <td>0.323388</td>\n",
       "      <td>0.371521</td>\n",
       "      <td>0.363368</td>\n",
       "    </tr>\n",
       "  </tbody>\n",
       "</table>\n",
       "</div>"
      ],
      "text/plain": [
       "                    micro     macro  weighted   correct\n",
       "Retinopathy Set  0.334301  0.288965  0.342043  0.334301\n",
       "Test Set         0.363368  0.323388  0.371521  0.363368"
      ]
     },
     "execution_count": 95,
     "metadata": {},
     "output_type": "execute_result"
    }
   ],
   "source": [
    "bayes_preformance"
   ]
  },
  {
   "cell_type": "code",
   "execution_count": null,
   "id": "5c894df7",
   "metadata": {},
   "outputs": [],
   "source": []
  },
  {
   "cell_type": "code",
   "execution_count": null,
   "id": "d4868825",
   "metadata": {},
   "outputs": [],
   "source": []
  },
  {
   "cell_type": "code",
   "execution_count": null,
   "id": "6a680f46",
   "metadata": {},
   "outputs": [],
   "source": []
  },
  {
   "cell_type": "code",
   "execution_count": 47,
   "id": "79a7f2d9",
   "metadata": {},
   "outputs": [
    {
     "data": {
      "text/html": [
       "<div>\n",
       "<style scoped>\n",
       "    .dataframe tbody tr th:only-of-type {\n",
       "        vertical-align: middle;\n",
       "    }\n",
       "\n",
       "    .dataframe tbody tr th {\n",
       "        vertical-align: top;\n",
       "    }\n",
       "\n",
       "    .dataframe thead th {\n",
       "        text-align: right;\n",
       "    }\n",
       "</style>\n",
       "<table border=\"1\" class=\"dataframe\">\n",
       "  <thead>\n",
       "    <tr style=\"text-align: right;\">\n",
       "      <th></th>\n",
       "      <th>micro</th>\n",
       "      <th>macro</th>\n",
       "      <th>weighted</th>\n",
       "      <th>correct</th>\n",
       "    </tr>\n",
       "  </thead>\n",
       "  <tbody>\n",
       "    <tr>\n",
       "      <th>Retinopathy Set</th>\n",
       "      <td>0.346051</td>\n",
       "      <td>0.306759</td>\n",
       "      <td>0.369134</td>\n",
       "      <td>0.346051</td>\n",
       "    </tr>\n",
       "    <tr>\n",
       "      <th>Test Set</th>\n",
       "      <td>0.399625</td>\n",
       "      <td>0.333877</td>\n",
       "      <td>0.413703</td>\n",
       "      <td>0.399625</td>\n",
       "    </tr>\n",
       "  </tbody>\n",
       "</table>\n",
       "</div>"
      ],
      "text/plain": [
       "                    micro     macro  weighted   correct\n",
       "Retinopathy Set  0.346051  0.306759  0.369134  0.346051\n",
       "Test Set         0.399625  0.333877  0.413703  0.399625"
      ]
     },
     "execution_count": 47,
     "metadata": {},
     "output_type": "execute_result"
    }
   ],
   "source": [
    "bayes_preformance #Without Prior IVAL=5"
   ]
  },
  {
   "cell_type": "code",
   "execution_count": null,
   "id": "1673477f",
   "metadata": {},
   "outputs": [],
   "source": []
  }
 ],
 "metadata": {
  "kernelspec": {
   "display_name": "Python 3 (ipykernel)",
   "language": "python",
   "name": "python3"
  },
  "language_info": {
   "codemirror_mode": {
    "name": "ipython",
    "version": 3
   },
   "file_extension": ".py",
   "mimetype": "text/x-python",
   "name": "python",
   "nbconvert_exporter": "python",
   "pygments_lexer": "ipython3",
   "version": "3.12.1"
  }
 },
 "nbformat": 4,
 "nbformat_minor": 5
}
