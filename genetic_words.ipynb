{
 "cells": [
  {
   "cell_type": "code",
   "execution_count": 1,
   "id": "02a74dff",
   "metadata": {},
   "outputs": [],
   "source": [
    "import pandas as pd\n",
    "import os\n",
    "import glob\n",
    "import numpy as np\n",
    "import statistics as stats\n",
    "import scipy\n",
    "import src.mpra_tools.predicted_occupancy as po\n",
    "import src.mpra_tools.fasta_utils as fu\n",
    "from src.grammar.sentences import clean_sentences\n",
    "import math\n",
    "import matplotlib.pyplot as plt\n",
    "from collections import Counter, defaultdict\n",
    "import random"
   ]
  },
  {
   "cell_type": "code",
   "execution_count": 2,
   "id": "79955c59",
   "metadata": {},
   "outputs": [],
   "source": [
    "activity_df = pd.read_csv(\"Data/activity.csv\", index_col=0)\n",
    "motif_df = pd.read_parquet(\"Data/Motifs/summarized_all_motifs.parquet\")"
   ]
  },
  {
   "cell_type": "code",
   "execution_count": 3,
   "id": "41beb2f2",
   "metadata": {},
   "outputs": [
    {
     "name": "stdout",
     "output_type": "stream",
     "text": [
      "118364 sentences to create\n",
      "\t 29591 / 118364 sentences created\n",
      "\t 59182 / 118364 sentences created\n",
      "\t 88773 / 118364 sentences created\n",
      "\t 118364 / 118364 sentences created\n",
      "All sentences created\n"
     ]
    }
   ],
   "source": [
    "motif_path = \"Data/Motifs/summarized_all_motifs.parquet\"\n",
    "labels = activity_df.index.to_list()\n",
    "\n",
    "sentences = clean_sentences(labels, motif_path)\n",
    "    \n",
    "    "
   ]
  },
  {
   "cell_type": "code",
   "execution_count": 5,
   "id": "b58aa6bc",
   "metadata": {},
   "outputs": [],
   "source": [
    "ss = pd.Series(\n",
    "    sentences,\n",
    "    index=labels,\n",
    "    name='sentence'\n",
    ")\n",
    "ss.to_csv(\"Data/all_sentences.csv\")"
   ]
  },
  {
   "cell_type": "code",
   "execution_count": null,
   "id": "52a6c9dd",
   "metadata": {},
   "outputs": [],
   "source": []
  }
 ],
 "metadata": {
  "kernelspec": {
   "display_name": "Python 3 (ipykernel)",
   "language": "python",
   "name": "python3"
  },
  "language_info": {
   "codemirror_mode": {
    "name": "ipython",
    "version": 3
   },
   "file_extension": ".py",
   "mimetype": "text/x-python",
   "name": "python",
   "nbconvert_exporter": "python",
   "pygments_lexer": "ipython3",
   "version": "3.11.7"
  }
 },
 "nbformat": 4,
 "nbformat_minor": 5
}
