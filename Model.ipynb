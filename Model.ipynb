{
 "cells": [
  {
   "cell_type": "code",
   "execution_count": 8,
   "id": "02a74dff",
   "metadata": {},
   "outputs": [],
   "source": [
    "import pandas as pd\n",
    "import numpy as np\n",
    "import random\n",
    "import matplotlib.pyplot as plt\n",
    "import os\n",
    "\n",
    "import tensorflow as tf\n",
    "from tensorflow import keras\n",
    "from keras import datasets, layers, models, Input, Model, activations\n",
    "from sklearn.preprocessing import LabelEncoder\n",
    "from sklearn.metrics import confusion_matrix, ConfusionMatrixDisplay, classification_report, f1_score, confusion_matrix, roc_auc_score, precision_recall_curve, PrecisionRecallDisplay, average_precision_score\n",
    "from src.tf_tools import cnn_classifier\n"
   ]
  },
  {
   "cell_type": "code",
   "execution_count": 9,
   "id": "dce06bc2",
   "metadata": {},
   "outputs": [],
   "source": [
    "def one_hot_seqs(seqs) -> np.array:\n",
    "    static_1hotmap = {\n",
    "        'A' : np.array([1,0,0,0]),\n",
    "        'a' : np.array([1,0,0,0]),\n",
    "        'C' : np.array([0,1,0,0]),\n",
    "        'c' : np.array([0,1,0,0]),\n",
    "        'G' : np.array([0,0,1,0]),\n",
    "        'g' : np.array([0,0,1,0]),\n",
    "        'T' : np.array([0,0,0,1]),\n",
    "        't' : np.array([0,0,0,1]),\n",
    "    }\n",
    "    onehot_seqs = []\n",
    "    for seq in seqs:\n",
    "        onehot_seqs.append(\n",
    "            [static_1hotmap[seq[i]] if seq[i] in static_1hotmap.keys() else static_1hotmap[random.choice(['A','C','G','T'])] for i in range(len(seq))]\n",
    "        )\n",
    "    return np.stack(onehot_seqs)\n"
   ]
  },
  {
   "cell_type": "code",
   "execution_count": 10,
   "id": "27b3a070",
   "metadata": {},
   "outputs": [],
   "source": [
    "LABEL_KEY = 'open'\n",
    "data_file = \"Data/ATAC/labeled_data_164.csv\"\n",
    "FEATURE_KEY = 'sequence'\n",
    "fold=1\n",
    "epochs=50\n",
    "batch_size=164\n",
    "lr = 0.0001 "
   ]
  },
  {
   "cell_type": "code",
   "execution_count": 11,
   "id": "e9faf5ad",
   "metadata": {},
   "outputs": [
    {
     "name": "stdout",
     "output_type": "stream",
     "text": [
      "39127 : training points\n",
      "6494 : validation points\n",
      "8011 : reserved testing points\n"
     ]
    }
   ],
   "source": [
    "\n",
    "data_df = pd.read_csv(data_file, index_col = 0)\n",
    "test_df = data_df[data_df['set'] == 'TEST']\n",
    "validation_df = data_df[(data_df['fold'] == fold) & ((data_df['set'] != 'TEST'))]\n",
    "train_df = data_df[(data_df['fold'] != fold) & (data_df['set'] != 'TEST')]\n",
    "\n",
    "print(len(train_df), \": training points\", flush=True)\n",
    "print(len(validation_df), \": validation points\", flush=True)\n",
    "print(len(test_df), \": reserved testing points\", flush=True)\n",
    "\n",
    "#############################################################\n",
    "# Prepare data for fitting\n",
    "x_train = one_hot_seqs(train_df[FEATURE_KEY])\n",
    "x_validation = one_hot_seqs(validation_df[FEATURE_KEY])\n",
    "x_test = one_hot_seqs(test_df[FEATURE_KEY])\n",
    "\n",
    "encoder = LabelEncoder()\n",
    "encoder.fit(data_df[LABEL_KEY])\n",
    "classes = encoder.classes_\n",
    "num_classes = len(classes)\n",
    "y_train = encoder.transform(train_df[LABEL_KEY])\n",
    "y_validation = encoder.transform(validation_df[LABEL_KEY])\n",
    "y_test = encoder.transform(test_df[LABEL_KEY])\n",
    "\n",
    "y_train = keras.utils.to_categorical(y_train, num_classes)\n",
    "y_validation = keras.utils.to_categorical(y_validation, num_classes)\n",
    "y_test = keras.utils.to_categorical(y_test, num_classes)\n"
   ]
  },
  {
   "cell_type": "code",
   "execution_count": 12,
   "id": "678d6e4c",
   "metadata": {},
   "outputs": [
    {
     "name": "stdout",
     "output_type": "stream",
     "text": [
      "Epoch 1/50\n",
      "239/239 [==============================] - 101s 412ms/step - loss: 0.7208 - accuracy: 0.5838 - val_loss: 0.7912 - val_accuracy: 0.4640\n",
      "Epoch 2/50\n",
      "239/239 [==============================] - 98s 412ms/step - loss: 0.6180 - accuracy: 0.6625 - val_loss: 0.6560 - val_accuracy: 0.6155\n",
      "Epoch 3/50\n",
      "239/239 [==============================] - 98s 410ms/step - loss: 0.5878 - accuracy: 0.6902 - val_loss: 0.5824 - val_accuracy: 0.7051\n",
      "Epoch 4/50\n",
      "239/239 [==============================] - 96s 404ms/step - loss: 0.5734 - accuracy: 0.7029 - val_loss: 0.5781 - val_accuracy: 0.6991\n",
      "Epoch 5/50\n",
      "239/239 [==============================] - 99s 414ms/step - loss: 0.5576 - accuracy: 0.7148 - val_loss: 0.5807 - val_accuracy: 0.6891\n",
      "Epoch 6/50\n",
      "239/239 [==============================] - 99s 414ms/step - loss: 0.5424 - accuracy: 0.7292 - val_loss: 0.6047 - val_accuracy: 0.6702\n",
      "Epoch 7/50\n",
      "239/239 [==============================] - 97s 407ms/step - loss: 0.5260 - accuracy: 0.7391 - val_loss: 0.6795 - val_accuracy: 0.6258\n",
      "Epoch 8/50\n",
      "239/239 [==============================] - 99s 413ms/step - loss: 0.5192 - accuracy: 0.7434 - val_loss: 0.5433 - val_accuracy: 0.7270\n",
      "Epoch 9/50\n",
      "239/239 [==============================] - 99s 415ms/step - loss: 0.5079 - accuracy: 0.7535 - val_loss: 0.5404 - val_accuracy: 0.7261\n",
      "Epoch 10/50\n",
      "239/239 [==============================] - 97s 408ms/step - loss: 0.4994 - accuracy: 0.7592 - val_loss: 0.5448 - val_accuracy: 0.7154\n",
      "Epoch 11/50\n",
      "239/239 [==============================] - 98s 408ms/step - loss: 0.4897 - accuracy: 0.7630 - val_loss: 0.5900 - val_accuracy: 0.6933\n",
      "Epoch 12/50\n",
      "239/239 [==============================] - 99s 413ms/step - loss: 0.4819 - accuracy: 0.7700 - val_loss: 0.5677 - val_accuracy: 0.7156\n",
      "Epoch 13/50\n",
      "239/239 [==============================] - 98s 411ms/step - loss: 0.4730 - accuracy: 0.7762 - val_loss: 0.5495 - val_accuracy: 0.7073\n",
      "Epoch 14/50\n",
      "239/239 [==============================] - 97s 405ms/step - loss: 0.4647 - accuracy: 0.7810 - val_loss: 0.5020 - val_accuracy: 0.7521\n",
      "Epoch 15/50\n",
      "239/239 [==============================] - 99s 415ms/step - loss: 0.4526 - accuracy: 0.7861 - val_loss: 0.5522 - val_accuracy: 0.7051\n",
      "Epoch 16/50\n",
      "239/239 [==============================] - 99s 413ms/step - loss: 0.4459 - accuracy: 0.7901 - val_loss: 0.6753 - val_accuracy: 0.6207\n",
      "Epoch 17/50\n",
      "239/239 [==============================] - 97s 407ms/step - loss: 0.4337 - accuracy: 0.7959 - val_loss: 0.5397 - val_accuracy: 0.7193\n",
      "Epoch 18/50\n",
      "239/239 [==============================] - 102s 425ms/step - loss: 0.4241 - accuracy: 0.8023 - val_loss: 0.5274 - val_accuracy: 0.7239\n",
      "Epoch 19/50\n",
      "239/239 [==============================] - 99s 415ms/step - loss: 0.4133 - accuracy: 0.8117 - val_loss: 0.5622 - val_accuracy: 0.6879\n",
      "Epoch 20/50\n",
      "239/239 [==============================] - 97s 408ms/step - loss: 0.4063 - accuracy: 0.8137 - val_loss: 0.5888 - val_accuracy: 0.6832\n",
      "Epoch 21/50\n",
      "100/239 [===========>..................] - ETA: 54s - loss: 0.3869 - accuracy: 0.8255"
     ]
    },
    {
     "ename": "KeyboardInterrupt",
     "evalue": "",
     "output_type": "error",
     "traceback": [
      "\u001b[0;31m---------------------------------------------------------------------------\u001b[0m",
      "\u001b[0;31mKeyboardInterrupt\u001b[0m                         Traceback (most recent call last)",
      "Cell \u001b[0;32mIn[12], line 7\u001b[0m\n\u001b[1;32m      4\u001b[0m \u001b[38;5;66;03m# Load model\u001b[39;00m\n\u001b[1;32m      5\u001b[0m model \u001b[38;5;241m=\u001b[39m cnn_classifier\u001b[38;5;241m.\u001b[39mgetClassCNN(\u001b[38;5;28mlen\u001b[39m(x_train[\u001b[38;5;241m0\u001b[39m]),num_classes)\n\u001b[0;32m----> 7\u001b[0m history \u001b[38;5;241m=\u001b[39m \u001b[43mmodel\u001b[49m\u001b[38;5;241;43m.\u001b[39;49m\u001b[43mfit\u001b[49m\u001b[43m(\u001b[49m\n\u001b[1;32m      8\u001b[0m \u001b[43m    \u001b[49m\u001b[43mx_train\u001b[49m\u001b[43m,\u001b[49m\n\u001b[1;32m      9\u001b[0m \u001b[43m    \u001b[49m\u001b[43my_train\u001b[49m\u001b[43m,\u001b[49m\n\u001b[1;32m     10\u001b[0m \u001b[43m    \u001b[49m\u001b[43mepochs\u001b[49m\u001b[38;5;241;43m=\u001b[39;49m\u001b[43mepochs\u001b[49m\u001b[43m,\u001b[49m\n\u001b[1;32m     11\u001b[0m \u001b[43m    \u001b[49m\u001b[43mvalidation_data\u001b[49m\u001b[38;5;241;43m=\u001b[39;49m\u001b[43m(\u001b[49m\u001b[43mx_validation\u001b[49m\u001b[43m,\u001b[49m\u001b[43m \u001b[49m\u001b[43my_validation\u001b[49m\u001b[43m)\u001b[49m\u001b[43m,\u001b[49m\n\u001b[1;32m     12\u001b[0m \u001b[43m    \u001b[49m\u001b[43mbatch_size\u001b[49m\u001b[38;5;241;43m=\u001b[39;49m\u001b[43mbatch_size\u001b[49m\u001b[43m,\u001b[49m\n\u001b[1;32m     13\u001b[0m \u001b[43m    \u001b[49m\u001b[43mshuffle\u001b[49m\u001b[38;5;241;43m=\u001b[39;49m\u001b[38;5;28;43;01mTrue\u001b[39;49;00m\u001b[43m,\u001b[49m\n\u001b[1;32m     14\u001b[0m \u001b[43m    \u001b[49m\u001b[43mcallbacks\u001b[49m\u001b[43m \u001b[49m\u001b[38;5;241;43m=\u001b[39;49m\u001b[43m[\u001b[49m\u001b[43mearlystop_cb\u001b[49m\u001b[43m]\u001b[49m\u001b[43m,\u001b[49m\n\u001b[1;32m     15\u001b[0m \u001b[43m    \u001b[49m\u001b[43mverbose\u001b[49m\u001b[38;5;241;43m=\u001b[39;49m\u001b[38;5;241;43m1\u001b[39;49m\u001b[43m,\u001b[49m\n\u001b[1;32m     16\u001b[0m \u001b[43m)\u001b[49m\n",
      "File \u001b[0;32m/ref/bclab/software/spack-0.17.2/var/spack/environments/tensorflow/.spack-env/._view/rqhmcyh7nypoz5rdv2dhlle4drkq4xlg/lib/python3.10/site-packages/keras/src/utils/traceback_utils.py:65\u001b[0m, in \u001b[0;36mfilter_traceback.<locals>.error_handler\u001b[0;34m(*args, **kwargs)\u001b[0m\n\u001b[1;32m     63\u001b[0m filtered_tb \u001b[38;5;241m=\u001b[39m \u001b[38;5;28;01mNone\u001b[39;00m\n\u001b[1;32m     64\u001b[0m \u001b[38;5;28;01mtry\u001b[39;00m:\n\u001b[0;32m---> 65\u001b[0m     \u001b[38;5;28;01mreturn\u001b[39;00m \u001b[43mfn\u001b[49m\u001b[43m(\u001b[49m\u001b[38;5;241;43m*\u001b[39;49m\u001b[43margs\u001b[49m\u001b[43m,\u001b[49m\u001b[43m \u001b[49m\u001b[38;5;241;43m*\u001b[39;49m\u001b[38;5;241;43m*\u001b[39;49m\u001b[43mkwargs\u001b[49m\u001b[43m)\u001b[49m\n\u001b[1;32m     66\u001b[0m \u001b[38;5;28;01mexcept\u001b[39;00m \u001b[38;5;167;01mException\u001b[39;00m \u001b[38;5;28;01mas\u001b[39;00m e:\n\u001b[1;32m     67\u001b[0m     filtered_tb \u001b[38;5;241m=\u001b[39m _process_traceback_frames(e\u001b[38;5;241m.\u001b[39m__traceback__)\n",
      "File \u001b[0;32m/ref/bclab/software/spack-0.17.2/var/spack/environments/tensorflow/.spack-env/._view/rqhmcyh7nypoz5rdv2dhlle4drkq4xlg/lib/python3.10/site-packages/keras/src/engine/training.py:1807\u001b[0m, in \u001b[0;36mModel.fit\u001b[0;34m(self, x, y, batch_size, epochs, verbose, callbacks, validation_split, validation_data, shuffle, class_weight, sample_weight, initial_epoch, steps_per_epoch, validation_steps, validation_batch_size, validation_freq, max_queue_size, workers, use_multiprocessing)\u001b[0m\n\u001b[1;32m   1799\u001b[0m \u001b[38;5;28;01mwith\u001b[39;00m tf\u001b[38;5;241m.\u001b[39mprofiler\u001b[38;5;241m.\u001b[39mexperimental\u001b[38;5;241m.\u001b[39mTrace(\n\u001b[1;32m   1800\u001b[0m     \u001b[38;5;124m\"\u001b[39m\u001b[38;5;124mtrain\u001b[39m\u001b[38;5;124m\"\u001b[39m,\n\u001b[1;32m   1801\u001b[0m     epoch_num\u001b[38;5;241m=\u001b[39mepoch,\n\u001b[0;32m   (...)\u001b[0m\n\u001b[1;32m   1804\u001b[0m     _r\u001b[38;5;241m=\u001b[39m\u001b[38;5;241m1\u001b[39m,\n\u001b[1;32m   1805\u001b[0m ):\n\u001b[1;32m   1806\u001b[0m     callbacks\u001b[38;5;241m.\u001b[39mon_train_batch_begin(step)\n\u001b[0;32m-> 1807\u001b[0m     tmp_logs \u001b[38;5;241m=\u001b[39m \u001b[38;5;28;43mself\u001b[39;49m\u001b[38;5;241;43m.\u001b[39;49m\u001b[43mtrain_function\u001b[49m\u001b[43m(\u001b[49m\u001b[43miterator\u001b[49m\u001b[43m)\u001b[49m\n\u001b[1;32m   1808\u001b[0m     \u001b[38;5;28;01mif\u001b[39;00m data_handler\u001b[38;5;241m.\u001b[39mshould_sync:\n\u001b[1;32m   1809\u001b[0m         context\u001b[38;5;241m.\u001b[39masync_wait()\n",
      "File \u001b[0;32m/ref/bclab/software/spack-0.17.2/var/spack/environments/tensorflow/.spack-env/._view/rqhmcyh7nypoz5rdv2dhlle4drkq4xlg/lib/python3.10/site-packages/tensorflow/python/util/traceback_utils.py:150\u001b[0m, in \u001b[0;36mfilter_traceback.<locals>.error_handler\u001b[0;34m(*args, **kwargs)\u001b[0m\n\u001b[1;32m    148\u001b[0m filtered_tb \u001b[38;5;241m=\u001b[39m \u001b[38;5;28;01mNone\u001b[39;00m\n\u001b[1;32m    149\u001b[0m \u001b[38;5;28;01mtry\u001b[39;00m:\n\u001b[0;32m--> 150\u001b[0m   \u001b[38;5;28;01mreturn\u001b[39;00m \u001b[43mfn\u001b[49m\u001b[43m(\u001b[49m\u001b[38;5;241;43m*\u001b[39;49m\u001b[43margs\u001b[49m\u001b[43m,\u001b[49m\u001b[43m \u001b[49m\u001b[38;5;241;43m*\u001b[39;49m\u001b[38;5;241;43m*\u001b[39;49m\u001b[43mkwargs\u001b[49m\u001b[43m)\u001b[49m\n\u001b[1;32m    151\u001b[0m \u001b[38;5;28;01mexcept\u001b[39;00m \u001b[38;5;167;01mException\u001b[39;00m \u001b[38;5;28;01mas\u001b[39;00m e:\n\u001b[1;32m    152\u001b[0m   filtered_tb \u001b[38;5;241m=\u001b[39m _process_traceback_frames(e\u001b[38;5;241m.\u001b[39m__traceback__)\n",
      "File \u001b[0;32m/ref/bclab/software/spack-0.17.2/var/spack/environments/tensorflow/.spack-env/._view/rqhmcyh7nypoz5rdv2dhlle4drkq4xlg/lib/python3.10/site-packages/tensorflow/python/eager/polymorphic_function/polymorphic_function.py:832\u001b[0m, in \u001b[0;36mFunction.__call__\u001b[0;34m(self, *args, **kwds)\u001b[0m\n\u001b[1;32m    829\u001b[0m compiler \u001b[38;5;241m=\u001b[39m \u001b[38;5;124m\"\u001b[39m\u001b[38;5;124mxla\u001b[39m\u001b[38;5;124m\"\u001b[39m \u001b[38;5;28;01mif\u001b[39;00m \u001b[38;5;28mself\u001b[39m\u001b[38;5;241m.\u001b[39m_jit_compile \u001b[38;5;28;01melse\u001b[39;00m \u001b[38;5;124m\"\u001b[39m\u001b[38;5;124mnonXla\u001b[39m\u001b[38;5;124m\"\u001b[39m\n\u001b[1;32m    831\u001b[0m \u001b[38;5;28;01mwith\u001b[39;00m OptionalXlaContext(\u001b[38;5;28mself\u001b[39m\u001b[38;5;241m.\u001b[39m_jit_compile):\n\u001b[0;32m--> 832\u001b[0m   result \u001b[38;5;241m=\u001b[39m \u001b[38;5;28;43mself\u001b[39;49m\u001b[38;5;241;43m.\u001b[39;49m\u001b[43m_call\u001b[49m\u001b[43m(\u001b[49m\u001b[38;5;241;43m*\u001b[39;49m\u001b[43margs\u001b[49m\u001b[43m,\u001b[49m\u001b[43m \u001b[49m\u001b[38;5;241;43m*\u001b[39;49m\u001b[38;5;241;43m*\u001b[39;49m\u001b[43mkwds\u001b[49m\u001b[43m)\u001b[49m\n\u001b[1;32m    834\u001b[0m new_tracing_count \u001b[38;5;241m=\u001b[39m \u001b[38;5;28mself\u001b[39m\u001b[38;5;241m.\u001b[39mexperimental_get_tracing_count()\n\u001b[1;32m    835\u001b[0m without_tracing \u001b[38;5;241m=\u001b[39m (tracing_count \u001b[38;5;241m==\u001b[39m new_tracing_count)\n",
      "File \u001b[0;32m/ref/bclab/software/spack-0.17.2/var/spack/environments/tensorflow/.spack-env/._view/rqhmcyh7nypoz5rdv2dhlle4drkq4xlg/lib/python3.10/site-packages/tensorflow/python/eager/polymorphic_function/polymorphic_function.py:868\u001b[0m, in \u001b[0;36mFunction._call\u001b[0;34m(self, *args, **kwds)\u001b[0m\n\u001b[1;32m    865\u001b[0m   \u001b[38;5;28mself\u001b[39m\u001b[38;5;241m.\u001b[39m_lock\u001b[38;5;241m.\u001b[39mrelease()\n\u001b[1;32m    866\u001b[0m   \u001b[38;5;66;03m# In this case we have created variables on the first call, so we run the\u001b[39;00m\n\u001b[1;32m    867\u001b[0m   \u001b[38;5;66;03m# defunned version which is guaranteed to never create variables.\u001b[39;00m\n\u001b[0;32m--> 868\u001b[0m   \u001b[38;5;28;01mreturn\u001b[39;00m \u001b[43mtracing_compilation\u001b[49m\u001b[38;5;241;43m.\u001b[39;49m\u001b[43mcall_function\u001b[49m\u001b[43m(\u001b[49m\n\u001b[1;32m    869\u001b[0m \u001b[43m      \u001b[49m\u001b[43margs\u001b[49m\u001b[43m,\u001b[49m\u001b[43m \u001b[49m\u001b[43mkwds\u001b[49m\u001b[43m,\u001b[49m\u001b[43m \u001b[49m\u001b[38;5;28;43mself\u001b[39;49m\u001b[38;5;241;43m.\u001b[39;49m\u001b[43m_no_variable_creation_config\u001b[49m\n\u001b[1;32m    870\u001b[0m \u001b[43m  \u001b[49m\u001b[43m)\u001b[49m\n\u001b[1;32m    871\u001b[0m \u001b[38;5;28;01melif\u001b[39;00m \u001b[38;5;28mself\u001b[39m\u001b[38;5;241m.\u001b[39m_variable_creation_config \u001b[38;5;129;01mis\u001b[39;00m \u001b[38;5;129;01mnot\u001b[39;00m \u001b[38;5;28;01mNone\u001b[39;00m:\n\u001b[1;32m    872\u001b[0m   \u001b[38;5;66;03m# Release the lock early so that multiple threads can perform the call\u001b[39;00m\n\u001b[1;32m    873\u001b[0m   \u001b[38;5;66;03m# in parallel.\u001b[39;00m\n\u001b[1;32m    874\u001b[0m   \u001b[38;5;28mself\u001b[39m\u001b[38;5;241m.\u001b[39m_lock\u001b[38;5;241m.\u001b[39mrelease()\n",
      "File \u001b[0;32m/ref/bclab/software/spack-0.17.2/var/spack/environments/tensorflow/.spack-env/._view/rqhmcyh7nypoz5rdv2dhlle4drkq4xlg/lib/python3.10/site-packages/tensorflow/python/eager/polymorphic_function/tracing_compilation.py:139\u001b[0m, in \u001b[0;36mcall_function\u001b[0;34m(args, kwargs, tracing_options)\u001b[0m\n\u001b[1;32m    137\u001b[0m bound_args \u001b[38;5;241m=\u001b[39m function\u001b[38;5;241m.\u001b[39mfunction_type\u001b[38;5;241m.\u001b[39mbind(\u001b[38;5;241m*\u001b[39margs, \u001b[38;5;241m*\u001b[39m\u001b[38;5;241m*\u001b[39mkwargs)\n\u001b[1;32m    138\u001b[0m flat_inputs \u001b[38;5;241m=\u001b[39m function\u001b[38;5;241m.\u001b[39mfunction_type\u001b[38;5;241m.\u001b[39munpack_inputs(bound_args)\n\u001b[0;32m--> 139\u001b[0m \u001b[38;5;28;01mreturn\u001b[39;00m \u001b[43mfunction\u001b[49m\u001b[38;5;241;43m.\u001b[39;49m\u001b[43m_call_flat\u001b[49m\u001b[43m(\u001b[49m\u001b[43m  \u001b[49m\u001b[38;5;66;43;03m# pylint: disable=protected-access\u001b[39;49;00m\n\u001b[1;32m    140\u001b[0m \u001b[43m    \u001b[49m\u001b[43mflat_inputs\u001b[49m\u001b[43m,\u001b[49m\u001b[43m \u001b[49m\u001b[43mcaptured_inputs\u001b[49m\u001b[38;5;241;43m=\u001b[39;49m\u001b[43mfunction\u001b[49m\u001b[38;5;241;43m.\u001b[39;49m\u001b[43mcaptured_inputs\u001b[49m\n\u001b[1;32m    141\u001b[0m \u001b[43m\u001b[49m\u001b[43m)\u001b[49m\n",
      "File \u001b[0;32m/ref/bclab/software/spack-0.17.2/var/spack/environments/tensorflow/.spack-env/._view/rqhmcyh7nypoz5rdv2dhlle4drkq4xlg/lib/python3.10/site-packages/tensorflow/python/eager/polymorphic_function/concrete_function.py:1323\u001b[0m, in \u001b[0;36mConcreteFunction._call_flat\u001b[0;34m(self, tensor_inputs, captured_inputs)\u001b[0m\n\u001b[1;32m   1319\u001b[0m possible_gradient_type \u001b[38;5;241m=\u001b[39m gradients_util\u001b[38;5;241m.\u001b[39mPossibleTapeGradientTypes(args)\n\u001b[1;32m   1320\u001b[0m \u001b[38;5;28;01mif\u001b[39;00m (possible_gradient_type \u001b[38;5;241m==\u001b[39m gradients_util\u001b[38;5;241m.\u001b[39mPOSSIBLE_GRADIENT_TYPES_NONE\n\u001b[1;32m   1321\u001b[0m     \u001b[38;5;129;01mand\u001b[39;00m executing_eagerly):\n\u001b[1;32m   1322\u001b[0m   \u001b[38;5;66;03m# No tape is watching; skip to running the function.\u001b[39;00m\n\u001b[0;32m-> 1323\u001b[0m   \u001b[38;5;28;01mreturn\u001b[39;00m \u001b[38;5;28;43mself\u001b[39;49m\u001b[38;5;241;43m.\u001b[39;49m\u001b[43m_inference_function\u001b[49m\u001b[38;5;241;43m.\u001b[39;49m\u001b[43mcall_preflattened\u001b[49m\u001b[43m(\u001b[49m\u001b[43margs\u001b[49m\u001b[43m)\u001b[49m\n\u001b[1;32m   1324\u001b[0m forward_backward \u001b[38;5;241m=\u001b[39m \u001b[38;5;28mself\u001b[39m\u001b[38;5;241m.\u001b[39m_select_forward_and_backward_functions(\n\u001b[1;32m   1325\u001b[0m     args,\n\u001b[1;32m   1326\u001b[0m     possible_gradient_type,\n\u001b[1;32m   1327\u001b[0m     executing_eagerly)\n\u001b[1;32m   1328\u001b[0m forward_function, args_with_tangents \u001b[38;5;241m=\u001b[39m forward_backward\u001b[38;5;241m.\u001b[39mforward()\n",
      "File \u001b[0;32m/ref/bclab/software/spack-0.17.2/var/spack/environments/tensorflow/.spack-env/._view/rqhmcyh7nypoz5rdv2dhlle4drkq4xlg/lib/python3.10/site-packages/tensorflow/python/eager/polymorphic_function/atomic_function.py:216\u001b[0m, in \u001b[0;36mAtomicFunction.call_preflattened\u001b[0;34m(self, args)\u001b[0m\n\u001b[1;32m    214\u001b[0m \u001b[38;5;28;01mdef\u001b[39;00m \u001b[38;5;21mcall_preflattened\u001b[39m(\u001b[38;5;28mself\u001b[39m, args: Sequence[core\u001b[38;5;241m.\u001b[39mTensor]) \u001b[38;5;241m-\u001b[39m\u001b[38;5;241m>\u001b[39m Any:\n\u001b[1;32m    215\u001b[0m \u001b[38;5;250m  \u001b[39m\u001b[38;5;124;03m\"\"\"Calls with flattened tensor inputs and returns the structured output.\"\"\"\u001b[39;00m\n\u001b[0;32m--> 216\u001b[0m   flat_outputs \u001b[38;5;241m=\u001b[39m \u001b[38;5;28;43mself\u001b[39;49m\u001b[38;5;241;43m.\u001b[39;49m\u001b[43mcall_flat\u001b[49m\u001b[43m(\u001b[49m\u001b[38;5;241;43m*\u001b[39;49m\u001b[43margs\u001b[49m\u001b[43m)\u001b[49m\n\u001b[1;32m    217\u001b[0m   \u001b[38;5;28;01mreturn\u001b[39;00m \u001b[38;5;28mself\u001b[39m\u001b[38;5;241m.\u001b[39mfunction_type\u001b[38;5;241m.\u001b[39mpack_output(flat_outputs)\n",
      "File \u001b[0;32m/ref/bclab/software/spack-0.17.2/var/spack/environments/tensorflow/.spack-env/._view/rqhmcyh7nypoz5rdv2dhlle4drkq4xlg/lib/python3.10/site-packages/tensorflow/python/eager/polymorphic_function/atomic_function.py:251\u001b[0m, in \u001b[0;36mAtomicFunction.call_flat\u001b[0;34m(self, *args)\u001b[0m\n\u001b[1;32m    249\u001b[0m \u001b[38;5;28;01mwith\u001b[39;00m record\u001b[38;5;241m.\u001b[39mstop_recording():\n\u001b[1;32m    250\u001b[0m   \u001b[38;5;28;01mif\u001b[39;00m \u001b[38;5;28mself\u001b[39m\u001b[38;5;241m.\u001b[39m_bound_context\u001b[38;5;241m.\u001b[39mexecuting_eagerly():\n\u001b[0;32m--> 251\u001b[0m     outputs \u001b[38;5;241m=\u001b[39m \u001b[38;5;28;43mself\u001b[39;49m\u001b[38;5;241;43m.\u001b[39;49m\u001b[43m_bound_context\u001b[49m\u001b[38;5;241;43m.\u001b[39;49m\u001b[43mcall_function\u001b[49m\u001b[43m(\u001b[49m\n\u001b[1;32m    252\u001b[0m \u001b[43m        \u001b[49m\u001b[38;5;28;43mself\u001b[39;49m\u001b[38;5;241;43m.\u001b[39;49m\u001b[43mname\u001b[49m\u001b[43m,\u001b[49m\n\u001b[1;32m    253\u001b[0m \u001b[43m        \u001b[49m\u001b[38;5;28;43mlist\u001b[39;49m\u001b[43m(\u001b[49m\u001b[43margs\u001b[49m\u001b[43m)\u001b[49m\u001b[43m,\u001b[49m\n\u001b[1;32m    254\u001b[0m \u001b[43m        \u001b[49m\u001b[38;5;28;43mlen\u001b[39;49m\u001b[43m(\u001b[49m\u001b[38;5;28;43mself\u001b[39;49m\u001b[38;5;241;43m.\u001b[39;49m\u001b[43mfunction_type\u001b[49m\u001b[38;5;241;43m.\u001b[39;49m\u001b[43mflat_outputs\u001b[49m\u001b[43m)\u001b[49m\u001b[43m,\u001b[49m\n\u001b[1;32m    255\u001b[0m \u001b[43m    \u001b[49m\u001b[43m)\u001b[49m\n\u001b[1;32m    256\u001b[0m   \u001b[38;5;28;01melse\u001b[39;00m:\n\u001b[1;32m    257\u001b[0m     outputs \u001b[38;5;241m=\u001b[39m make_call_op_in_graph(\n\u001b[1;32m    258\u001b[0m         \u001b[38;5;28mself\u001b[39m,\n\u001b[1;32m    259\u001b[0m         \u001b[38;5;28mlist\u001b[39m(args),\n\u001b[1;32m    260\u001b[0m         \u001b[38;5;28mself\u001b[39m\u001b[38;5;241m.\u001b[39m_bound_context\u001b[38;5;241m.\u001b[39mfunction_call_options\u001b[38;5;241m.\u001b[39mas_attrs(),\n\u001b[1;32m    261\u001b[0m     )\n",
      "File \u001b[0;32m/ref/bclab/software/spack-0.17.2/var/spack/environments/tensorflow/.spack-env/._view/rqhmcyh7nypoz5rdv2dhlle4drkq4xlg/lib/python3.10/site-packages/tensorflow/python/eager/context.py:1486\u001b[0m, in \u001b[0;36mContext.call_function\u001b[0;34m(self, name, tensor_inputs, num_outputs)\u001b[0m\n\u001b[1;32m   1484\u001b[0m cancellation_context \u001b[38;5;241m=\u001b[39m cancellation\u001b[38;5;241m.\u001b[39mcontext()\n\u001b[1;32m   1485\u001b[0m \u001b[38;5;28;01mif\u001b[39;00m cancellation_context \u001b[38;5;129;01mis\u001b[39;00m \u001b[38;5;28;01mNone\u001b[39;00m:\n\u001b[0;32m-> 1486\u001b[0m   outputs \u001b[38;5;241m=\u001b[39m \u001b[43mexecute\u001b[49m\u001b[38;5;241;43m.\u001b[39;49m\u001b[43mexecute\u001b[49m\u001b[43m(\u001b[49m\n\u001b[1;32m   1487\u001b[0m \u001b[43m      \u001b[49m\u001b[43mname\u001b[49m\u001b[38;5;241;43m.\u001b[39;49m\u001b[43mdecode\u001b[49m\u001b[43m(\u001b[49m\u001b[38;5;124;43m\"\u001b[39;49m\u001b[38;5;124;43mutf-8\u001b[39;49m\u001b[38;5;124;43m\"\u001b[39;49m\u001b[43m)\u001b[49m\u001b[43m,\u001b[49m\n\u001b[1;32m   1488\u001b[0m \u001b[43m      \u001b[49m\u001b[43mnum_outputs\u001b[49m\u001b[38;5;241;43m=\u001b[39;49m\u001b[43mnum_outputs\u001b[49m\u001b[43m,\u001b[49m\n\u001b[1;32m   1489\u001b[0m \u001b[43m      \u001b[49m\u001b[43minputs\u001b[49m\u001b[38;5;241;43m=\u001b[39;49m\u001b[43mtensor_inputs\u001b[49m\u001b[43m,\u001b[49m\n\u001b[1;32m   1490\u001b[0m \u001b[43m      \u001b[49m\u001b[43mattrs\u001b[49m\u001b[38;5;241;43m=\u001b[39;49m\u001b[43mattrs\u001b[49m\u001b[43m,\u001b[49m\n\u001b[1;32m   1491\u001b[0m \u001b[43m      \u001b[49m\u001b[43mctx\u001b[49m\u001b[38;5;241;43m=\u001b[39;49m\u001b[38;5;28;43mself\u001b[39;49m\u001b[43m,\u001b[49m\n\u001b[1;32m   1492\u001b[0m \u001b[43m  \u001b[49m\u001b[43m)\u001b[49m\n\u001b[1;32m   1493\u001b[0m \u001b[38;5;28;01melse\u001b[39;00m:\n\u001b[1;32m   1494\u001b[0m   outputs \u001b[38;5;241m=\u001b[39m execute\u001b[38;5;241m.\u001b[39mexecute_with_cancellation(\n\u001b[1;32m   1495\u001b[0m       name\u001b[38;5;241m.\u001b[39mdecode(\u001b[38;5;124m\"\u001b[39m\u001b[38;5;124mutf-8\u001b[39m\u001b[38;5;124m\"\u001b[39m),\n\u001b[1;32m   1496\u001b[0m       num_outputs\u001b[38;5;241m=\u001b[39mnum_outputs,\n\u001b[0;32m   (...)\u001b[0m\n\u001b[1;32m   1500\u001b[0m       cancellation_manager\u001b[38;5;241m=\u001b[39mcancellation_context,\n\u001b[1;32m   1501\u001b[0m   )\n",
      "File \u001b[0;32m/ref/bclab/software/spack-0.17.2/var/spack/environments/tensorflow/.spack-env/._view/rqhmcyh7nypoz5rdv2dhlle4drkq4xlg/lib/python3.10/site-packages/tensorflow/python/eager/execute.py:53\u001b[0m, in \u001b[0;36mquick_execute\u001b[0;34m(op_name, num_outputs, inputs, attrs, ctx, name)\u001b[0m\n\u001b[1;32m     51\u001b[0m \u001b[38;5;28;01mtry\u001b[39;00m:\n\u001b[1;32m     52\u001b[0m   ctx\u001b[38;5;241m.\u001b[39mensure_initialized()\n\u001b[0;32m---> 53\u001b[0m   tensors \u001b[38;5;241m=\u001b[39m \u001b[43mpywrap_tfe\u001b[49m\u001b[38;5;241;43m.\u001b[39;49m\u001b[43mTFE_Py_Execute\u001b[49m\u001b[43m(\u001b[49m\u001b[43mctx\u001b[49m\u001b[38;5;241;43m.\u001b[39;49m\u001b[43m_handle\u001b[49m\u001b[43m,\u001b[49m\u001b[43m \u001b[49m\u001b[43mdevice_name\u001b[49m\u001b[43m,\u001b[49m\u001b[43m \u001b[49m\u001b[43mop_name\u001b[49m\u001b[43m,\u001b[49m\n\u001b[1;32m     54\u001b[0m \u001b[43m                                      \u001b[49m\u001b[43minputs\u001b[49m\u001b[43m,\u001b[49m\u001b[43m \u001b[49m\u001b[43mattrs\u001b[49m\u001b[43m,\u001b[49m\u001b[43m \u001b[49m\u001b[43mnum_outputs\u001b[49m\u001b[43m)\u001b[49m\n\u001b[1;32m     55\u001b[0m \u001b[38;5;28;01mexcept\u001b[39;00m core\u001b[38;5;241m.\u001b[39m_NotOkStatusException \u001b[38;5;28;01mas\u001b[39;00m e:\n\u001b[1;32m     56\u001b[0m   \u001b[38;5;28;01mif\u001b[39;00m name \u001b[38;5;129;01mis\u001b[39;00m \u001b[38;5;129;01mnot\u001b[39;00m \u001b[38;5;28;01mNone\u001b[39;00m:\n",
      "\u001b[0;31mKeyboardInterrupt\u001b[0m: "
     ]
    }
   ],
   "source": [
    "# Early stopping setup\n",
    "earlystop_cb = keras.callbacks.EarlyStopping('val_accuracy', patience=10)\n",
    "\n",
    "# Load model\n",
    "model = cnn_classifier.getClassCNN(len(x_train[0]),num_classes)\n",
    "\n",
    "history = model.fit(\n",
    "    x_train,\n",
    "    y_train,\n",
    "    epochs=epochs,\n",
    "    validation_data=(x_validation, y_validation),\n",
    "    batch_size=batch_size,\n",
    "    shuffle=True,\n",
    "    callbacks =[earlystop_cb],\n",
    "    verbose=1,\n",
    ")"
   ]
  },
  {
   "cell_type": "code",
   "execution_count": 5,
   "id": "2ac37e10",
   "metadata": {},
   "outputs": [
    {
     "name": "stdout",
     "output_type": "stream",
     "text": [
      "Epoch 1/50\n",
      "306/306 [==============================] - 112s 351ms/step - loss: 0.7101 - accuracy: 0.5988 - val_loss: 0.6509 - val_accuracy: 0.6369\n",
      "Epoch 2/50\n",
      "306/306 [==============================] - 109s 357ms/step - loss: 0.6101 - accuracy: 0.6742 - val_loss: 0.5903 - val_accuracy: 0.6973\n",
      "Epoch 3/50\n",
      "306/306 [==============================] - 107s 349ms/step - loss: 0.5851 - accuracy: 0.6945 - val_loss: 0.5788 - val_accuracy: 0.6919\n",
      "Epoch 4/50\n",
      "306/306 [==============================] - 109s 355ms/step - loss: 0.5650 - accuracy: 0.7094 - val_loss: 0.5825 - val_accuracy: 0.6885\n",
      "Epoch 5/50\n",
      "306/306 [==============================] - 108s 352ms/step - loss: 0.5535 - accuracy: 0.7199 - val_loss: 0.5819 - val_accuracy: 0.6846\n",
      "Epoch 6/50\n",
      "306/306 [==============================] - 107s 350ms/step - loss: 0.5387 - accuracy: 0.7316 - val_loss: 0.5602 - val_accuracy: 0.7205\n",
      "Epoch 7/50\n",
      "306/306 [==============================] - 107s 349ms/step - loss: 0.5256 - accuracy: 0.7407 - val_loss: 0.6204 - val_accuracy: 0.6478\n",
      "Epoch 8/50\n",
      "306/306 [==============================] - 109s 356ms/step - loss: 0.5127 - accuracy: 0.7483 - val_loss: 0.5666 - val_accuracy: 0.6999\n",
      "Epoch 9/50\n",
      "306/306 [==============================] - 108s 352ms/step - loss: 0.5068 - accuracy: 0.7542 - val_loss: 0.5435 - val_accuracy: 0.7242\n",
      "Epoch 10/50\n",
      "306/306 [==============================] - 108s 351ms/step - loss: 0.4945 - accuracy: 0.7602 - val_loss: 0.5607 - val_accuracy: 0.7111\n",
      "Epoch 11/50\n",
      "306/306 [==============================] - 111s 361ms/step - loss: 0.4853 - accuracy: 0.7686 - val_loss: 0.5589 - val_accuracy: 0.7151\n",
      "Epoch 12/50\n",
      "306/306 [==============================] - 109s 355ms/step - loss: 0.4752 - accuracy: 0.7746 - val_loss: 0.6193 - val_accuracy: 0.6683\n",
      "Epoch 13/50\n",
      "306/306 [==============================] - 108s 354ms/step - loss: 0.4656 - accuracy: 0.7810 - val_loss: 0.5447 - val_accuracy: 0.7214\n",
      "Epoch 14/50\n",
      "306/306 [==============================] - 109s 356ms/step - loss: 0.4553 - accuracy: 0.7872 - val_loss: 0.5324 - val_accuracy: 0.7339\n",
      "Epoch 15/50\n",
      "306/306 [==============================] - 104s 340ms/step - loss: 0.4439 - accuracy: 0.7914 - val_loss: 0.5302 - val_accuracy: 0.7350\n",
      "Epoch 16/50\n",
      "306/306 [==============================] - 98s 320ms/step - loss: 0.4355 - accuracy: 0.7966 - val_loss: 0.5481 - val_accuracy: 0.7180\n",
      "Epoch 17/50\n",
      "306/306 [==============================] - 101s 331ms/step - loss: 0.4244 - accuracy: 0.8032 - val_loss: 0.5230 - val_accuracy: 0.7398\n",
      "Epoch 18/50\n",
      "306/306 [==============================] - 98s 320ms/step - loss: 0.4132 - accuracy: 0.8114 - val_loss: 0.5309 - val_accuracy: 0.7311\n",
      "Epoch 19/50\n",
      "306/306 [==============================] - 96s 314ms/step - loss: 0.4024 - accuracy: 0.8163 - val_loss: 0.6592 - val_accuracy: 0.6772\n",
      "Epoch 20/50\n",
      "306/306 [==============================] - 98s 321ms/step - loss: 0.3906 - accuracy: 0.8234 - val_loss: 0.5705 - val_accuracy: 0.7202\n",
      "Epoch 21/50\n",
      "306/306 [==============================] - 98s 321ms/step - loss: 0.3816 - accuracy: 0.8275 - val_loss: 0.5850 - val_accuracy: 0.7036\n",
      "Epoch 22/50\n",
      "306/306 [==============================] - 95s 310ms/step - loss: 0.3714 - accuracy: 0.8321 - val_loss: 0.6325 - val_accuracy: 0.6976\n",
      "Epoch 23/50\n",
      "306/306 [==============================] - 96s 312ms/step - loss: 0.3597 - accuracy: 0.8398 - val_loss: 0.8266 - val_accuracy: 0.6380\n",
      "Epoch 24/50\n",
      "306/306 [==============================] - 97s 316ms/step - loss: 0.3540 - accuracy: 0.8441 - val_loss: 0.5283 - val_accuracy: 0.7384\n",
      "Epoch 25/50\n",
      "306/306 [==============================] - 95s 311ms/step - loss: 0.3469 - accuracy: 0.8468 - val_loss: 0.6411 - val_accuracy: 0.6943\n",
      "Epoch 26/50\n",
      "306/306 [==============================] - 95s 310ms/step - loss: 0.3352 - accuracy: 0.8518 - val_loss: 0.6524 - val_accuracy: 0.7026\n",
      "Epoch 27/50\n",
      "306/306 [==============================] - 96s 315ms/step - loss: 0.3275 - accuracy: 0.8569 - val_loss: 0.5760 - val_accuracy: 0.7310\n"
     ]
    }
   ],
   "source": [
    "# Create model and callbacks then fit\n",
    "\n",
    "# Tensorboard setup\n",
    "# tensor_logs = os.path.join(output_dir, \"tb_logs\")\n",
    "# os.makedirs(tensor_logs, exist_ok=True)\n",
    "# tensorboard_cb = keras.callbacks.TensorBoard(tensor_logs, histogram_freq=1)\n",
    "\n",
    "# Early stopping setup\n",
    "earlystop_cb = keras.callbacks.EarlyStopping('val_accuracy', patience=10)\n",
    "\n",
    "# Load model\n",
    "model = cnn_classifier.getClassCNN(len(x_train[0]),num_classes)\n",
    "\n",
    "history = model.fit(\n",
    "    x_train,\n",
    "    y_train,\n",
    "    epochs=epochs,\n",
    "    validation_data=(x_validation, y_validation),\n",
    "    batch_size=batch_size,\n",
    "    callbacks =[earlystop_cb],\n",
    "    verbose=1,\n",
    ")"
   ]
  },
  {
   "cell_type": "code",
   "execution_count": 6,
   "id": "52127ab8",
   "metadata": {},
   "outputs": [],
   "source": [
    "a = pd.DataFrame(history.history)"
   ]
  },
  {
   "cell_type": "code",
   "execution_count": 7,
   "id": "d698ff61",
   "metadata": {},
   "outputs": [
    {
     "data": {
      "text/plain": [
       "[<matplotlib.lines.Line2D at 0x14bcbc885780>]"
      ]
     },
     "execution_count": 7,
     "metadata": {},
     "output_type": "execute_result"
    },
    {
     "data": {
      "image/png": "[encoded data removed]",
      "text/plain": [
       "<Figure size 640x480 with 1 Axes>"
      ]
     },
     "metadata": {},
     "output_type": "display_data"
    }
   ],
   "source": [
    "plt.plot(a['val_loss'], c='g',label = 'Validation Loss' )\n",
    "plt.plot(a['loss'], c='b', label='Train Loss')"
   ]
  },
  {
   "cell_type": "code",
   "execution_count": null,
   "id": "69216f16",
   "metadata": {},
   "outputs": [],
   "source": []
  }
 ],
 "metadata": {
  "kernelspec": {
   "display_name": "Python 3 (ipykernel)",
   "language": "python",
   "name": "python3"
  },
  "language_info": {
   "codemirror_mode": {
    "name": "ipython",
    "version": 3
   },
   "file_extension": ".py",
   "mimetype": "text/x-python",
   "name": "python",
   "nbconvert_exporter": "python",
   "pygments_lexer": "ipython3",
   "version": "3.10.4"
  }
 },
 "nbformat": 4,
 "nbformat_minor": 5
}
