{
 "cells": [
  {
   "cell_type": "code",
   "execution_count": 1,
   "id": "02a74dff",
   "metadata": {},
   "outputs": [
    {
     "name": "stderr",
     "output_type": "stream",
     "text": [
      "2024-02-14 11:12:25.626766: I tensorflow/core/util/port.cc:113] oneDNN custom operations are on. You may see slightly different numerical results due to floating-point round-off errors from different computation orders. To turn them off, set the environment variable `TF_ENABLE_ONEDNN_OPTS=0`.\n",
      "2024-02-14 11:12:26.718020: I external/local_tsl/tsl/cuda/cudart_stub.cc:31] Could not find cuda drivers on your machine, GPU will not be used.\n",
      "2024-02-14 11:12:27.989241: E external/local_xla/xla/stream_executor/cuda/cuda_dnn.cc:9261] Unable to register cuDNN factory: Attempting to register factory for plugin cuDNN when one has already been registered\n",
      "2024-02-14 11:12:27.989290: E external/local_xla/xla/stream_executor/cuda/cuda_fft.cc:607] Unable to register cuFFT factory: Attempting to register factory for plugin cuFFT when one has already been registered\n",
      "2024-02-14 11:12:27.992869: E external/local_xla/xla/stream_executor/cuda/cuda_blas.cc:1515] Unable to register cuBLAS factory: Attempting to register factory for plugin cuBLAS when one has already been registered\n",
      "2024-02-14 11:12:28.300036: I external/local_tsl/tsl/cuda/cudart_stub.cc:31] Could not find cuda drivers on your machine, GPU will not be used.\n",
      "2024-02-14 11:12:28.300639: I tensorflow/core/platform/cpu_feature_guard.cc:182] This TensorFlow binary is optimized to use available CPU instructions in performance-critical operations.\n",
      "To enable the following instructions: AVX2 AVX512F AVX512_VNNI FMA, in other operations, rebuild TensorFlow with the appropriate compiler flags.\n",
      "2024-02-14 11:12:47.043059: W tensorflow/compiler/tf2tensorrt/utils/py_utils.cc:38] TF-TRT Warning: Could not find TensorRT\n"
     ]
    }
   ],
   "source": [
    "import pandas as pd\n",
    "import numpy as np\n",
    "import random\n",
    "import matplotlib.pyplot as plt\n",
    "import os\n",
    "\n",
    "import tensorflow as tf\n",
    "from tensorflow import keras\n",
    "from keras import datasets, layers, models, Input, Model, activations\n",
    "from sklearn.preprocessing import LabelEncoder\n",
    "from sklearn.metrics import confusion_matrix, ConfusionMatrixDisplay, classification_report, f1_score, confusion_matrix, roc_auc_score, precision_recall_curve, PrecisionRecallDisplay, average_precision_score\n",
    "from src.tf_tools import cnn_classifier\n",
    "\n",
    "from src.mpra_tools.fasta_utils import *"
   ]
  },
  {
   "cell_type": "code",
   "execution_count": 69,
   "id": "dce06bc2",
   "metadata": {},
   "outputs": [],
   "source": [
    "def one_hot_seqs(seqs) -> np.array:\n",
    "    static_1hotmap = {\n",
    "        'A' : np.array([1,0,0,0]),\n",
    "        'a' : np.array([1,0,0,0]),\n",
    "        'C' : np.array([0,1,0,0]),\n",
    "        'c' : np.array([0,1,0,0]),\n",
    "        'G' : np.array([0,0,1,0]),\n",
    "        'g' : np.array([0,0,1,0]),\n",
    "        'T' : np.array([0,0,0,1]),\n",
    "        't' : np.array([0,0,0,1]),\n",
    "    }\n",
    "    onehot_seqs = []\n",
    "    for seq in seqs:\n",
    "        onehot_seqs.append(\n",
    "            [static_1hotmap[seq[i]] if seq[i] in static_1hotmap.keys() else static_1hotmap[random.choice(['A','C','G','T'])] for i in range(len(seq))]\n",
    "        )\n",
    "    return np.stack(onehot_seqs)\n"
   ]
  },
  {
   "cell_type": "code",
   "execution_count": 70,
   "id": "27b3a070",
   "metadata": {},
   "outputs": [],
   "source": [
    "LABEL_KEY = 'open'\n",
    "data_file = \"Data/ATAC/labeled_data_164.csv\"\n",
    "FEATURE_KEY = 'sequence'\n",
    "fold=1"
   ]
  },
  {
   "cell_type": "code",
   "execution_count": null,
   "id": "e9faf5ad",
   "metadata": {},
   "outputs": [],
   "source": [
    "\n",
    "data_df = pd.read_csv(data_file, index_col = 0)\n",
    "test_df = data_df[data_df['set'] == 'TEST']\n",
    "validation_df = data_df[(data_df['fold'] == fold) & ((data_df['set'] != 'TEST'))]\n",
    "train_df = data_df[(data_df['fold'] != fold) & (data_df['set'] != 'TEST')]\n",
    "\n",
    "print(len(train_df), \": training points\", flush=True)\n",
    "print(len(validation_df), \": validation points\", flush=True)\n",
    "print(len(test_df), \": reserved testing points\", flush=True)\n",
    "\n",
    "#############################################################\n",
    "# Prepare data for fitting\n",
    "x_train = one_hot_seqs(train_df[FEATURE_KEY])\n",
    "x_validation = one_hot_seqs(validation_df[FEATURE_KEY])\n",
    "x_test = one_hot_seqs(test_df[FEATURE_KEY])\n",
    "\n",
    "encoder = LabelEncoder()\n",
    "encoder.fit(data_df[LABEL_KEY])\n",
    "classes = encoder.classes_\n",
    "num_classes = len(classes)\n",
    "y_train = encoder.transform(train_df[LABEL_KEY])\n",
    "y_validation = encoder.transform(validation_df[LABEL_KEY])\n",
    "y_test = encoder.transform(test_df[LABEL_KEY])\n",
    "\n",
    "y_train = keras.utils.to_categorical(y_train, num_classes)\n",
    "y_validation = keras.utils.to_categorical(y_validation, num_classes)\n",
    "y_test = keras.utils.to_categorical(y_test, num_classes)\n"
   ]
  },
  {
   "cell_type": "code",
   "execution_count": null,
   "id": "2ac37e10",
   "metadata": {},
   "outputs": [],
   "source": [
    "# Create model and callbacks then fit\n",
    "\n",
    "# Tensorboard setup\n",
    "# tensor_logs = os.path.join(output_dir, \"tb_logs\")\n",
    "# os.makedirs(tensor_logs, exist_ok=True)\n",
    "# tensorboard_cb = keras.callbacks.TensorBoard(tensor_logs, histogram_freq=1)\n",
    "\n",
    "# Early stopping setup\n",
    "earlystop_cb = keras.callbacks.EarlyStopping('val_loss', patience=10)\n",
    "\n",
    "# Load model\n",
    "model = cnn_classifier.getClassCNN(len(x_train[0]),num_classes)\n",
    "\n",
    "history = model.fit(\n",
    "    x_train,\n",
    "    y_train,\n",
    "    epochs=epochs,\n",
    "    validation_data=(x_validation, y_validation),\n",
    "    batch_size=batch_size,\n",
    "    callbacks =[earlystop_cb],\n",
    "    verbose=0,\n",
    ")"
   ]
  }
 ],
 "metadata": {
  "kernelspec": {
   "display_name": "Python 3 (ipykernel)",
   "language": "python",
   "name": "python3"
  },
  "language_info": {
   "codemirror_mode": {
    "name": "ipython",
    "version": 3
   },
   "file_extension": ".py",
   "mimetype": "text/x-python",
   "name": "python",
   "nbconvert_exporter": "python",
   "pygments_lexer": "ipython3",
   "version": "3.10.4"
  }
 },
 "nbformat": 4,
 "nbformat_minor": 5
}
