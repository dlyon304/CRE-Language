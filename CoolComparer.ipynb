{
 "cells": [
  {
   "cell_type": "code",
   "execution_count": 1,
   "id": "02a74dff",
   "metadata": {},
   "outputs": [
    {
     "name": "stderr",
     "output_type": "stream",
     "text": [
      "2024-02-14 17:18:11.909634: I tensorflow/core/util/port.cc:113] oneDNN custom operations are on. You may see slightly different numerical results due to floating-point round-off errors from different computation orders. To turn them off, set the environment variable `TF_ENABLE_ONEDNN_OPTS=0`.\n",
      "2024-02-14 17:18:11.914799: I external/local_tsl/tsl/cuda/cudart_stub.cc:31] Could not find cuda drivers on your machine, GPU will not be used.\n",
      "2024-02-14 17:18:11.960616: E external/local_xla/xla/stream_executor/cuda/cuda_dnn.cc:9261] Unable to register cuDNN factory: Attempting to register factory for plugin cuDNN when one has already been registered\n",
      "2024-02-14 17:18:11.960647: E external/local_xla/xla/stream_executor/cuda/cuda_fft.cc:607] Unable to register cuFFT factory: Attempting to register factory for plugin cuFFT when one has already been registered\n",
      "2024-02-14 17:18:11.962044: E external/local_xla/xla/stream_executor/cuda/cuda_blas.cc:1515] Unable to register cuBLAS factory: Attempting to register factory for plugin cuBLAS when one has already been registered\n",
      "2024-02-14 17:18:11.970227: I external/local_tsl/tsl/cuda/cudart_stub.cc:31] Could not find cuda drivers on your machine, GPU will not be used.\n",
      "2024-02-14 17:18:11.970933: I tensorflow/core/platform/cpu_feature_guard.cc:182] This TensorFlow binary is optimized to use available CPU instructions in performance-critical operations.\n",
      "To enable the following instructions: AVX2 AVX512F AVX512_VNNI FMA, in other operations, rebuild TensorFlow with the appropriate compiler flags.\n",
      "2024-02-14 17:18:22.445908: W tensorflow/compiler/tf2tensorrt/utils/py_utils.cc:38] TF-TRT Warning: Could not find TensorRT\n"
     ]
    }
   ],
   "source": [
    "import pandas as pd\n",
    "import numpy as np\n",
    "import random\n",
    "import matplotlib.pyplot as plt\n",
    "import os\n",
    "\n",
    "import tensorflow as tf\n",
    "import tensorboard as tb\n",
    "from tensorflow import keras\n",
    "from keras import datasets, layers, models, Input, Model, activations\n",
    "from sklearn.preprocessing import LabelEncoder\n",
    "from sklearn.metrics import confusion_matrix, ConfusionMatrixDisplay, classification_report, f1_score, confusion_matrix, roc_auc_score, precision_recall_curve, PrecisionRecallDisplay, average_precision_score\n",
    "import scipy\n"
   ]
  },
  {
   "cell_type": "code",
   "execution_count": 3,
   "id": "65474d12",
   "metadata": {},
   "outputs": [
    {
     "data": {
      "text/plain": [
       "(118364, 53632)"
      ]
     },
     "execution_count": 3,
     "metadata": {},
     "output_type": "execute_result"
    }
   ],
   "source": [
    "LABEL_KEY = 'open'\n",
    "\n",
    "activity_df = pd.read_csv(\"Data/activity.csv\", index_col=0)\n",
    "activity_df['open'] = np.repeat('Open',len(activity_df))\n",
    "atac_df = pd.read_csv(\"Data/ATAC/labeled_data_164.csv\", index_col=0)\n",
    "len(activity_df), len(atac_df)\n"
   ]
  },
  {
   "cell_type": "code",
   "execution_count": 22,
   "id": "ed49dfc6",
   "metadata": {},
   "outputs": [],
   "source": [
    "#Experiment 3\n",
    "n_folds = 7\n",
    "take_activity = activity_df[activity_df['data_batch_name']=='Genomic'][atac_df.columns.to_list()].copy()\n",
    "take_atac = atac_df[atac_df['open'] == 'Closed'].copy()\n",
    "df_3 = pd.concat([take_activity,take_atac])\n",
    "df_3['set'] = random.choices(['TRAIN','TEST'], cum_weights=[1-0.15,1], k=len(df_3))\n",
    "df_3['fold'] = random.choices(range(1,n_folds+1), k=len(df_3))\n",
    "\n",
    "#df_1['set'].value_counts(), df_1['fold'].value_counts(), df_1['open'].value_counts()\n",
    "\n",
    "df_3.to_csv(\"Data/Experimental/df_3.csv\", index_label='label')"
   ]
  },
  {
   "cell_type": "code",
   "execution_count": 20,
   "id": "34bb6bdf",
   "metadata": {},
   "outputs": [
    {
     "data": {
      "image/png": "[encoded data removed]",
      "text/plain": [
       "<Figure size 640x480 with 1 Axes>"
      ]
     },
     "metadata": {},
     "output_type": "display_data"
    },
    {
     "data": {
      "text/plain": [
       "(set\n",
       " TRAIN    42505\n",
       " TEST      7495\n",
       " Name: count, dtype: int64,\n",
       " fold\n",
       " 4    7329\n",
       " 6    7317\n",
       " 1    7153\n",
       " 3    7122\n",
       " 5    7060\n",
       " 7    7029\n",
       " 2    6990\n",
       " Name: count, dtype: int64,\n",
       " open\n",
       " Closed    25000\n",
       " Open      25000\n",
       " Name: count, dtype: int64)"
      ]
     },
     "execution_count": 20,
     "metadata": {},
     "output_type": "execute_result"
    }
   ],
   "source": [
    "# # Experiment 2\n",
    "# num_samples = 50000\n",
    "# n_folds = 7\n",
    "# df_2 = activity_df.iloc[:num_samples].copy()\n",
    "# df_2['set'] = random.choices(['TRAIN','TEST'], cum_weights=[1-0.15,1], k=len(df_2))\n",
    "# df_2['fold'] = random.choices(range(1,n_folds+1), k=len(df_2))\n",
    "# df_2['expression_log2'] = df_2['expression_log2'].map(abs)\n",
    "\n",
    "# df2_median = df_2['expression_log2'].median()\n",
    "\n",
    "# df_2['open'] = df_2['expression_log2'].map(lambda x: 'Open' if x>df2_median else 'Closed')\n",
    "# df_2.to_csv(\"Data/Experimental/df_2.csv\", index_label='label')\n",
    "\n",
    "\n",
    "# plt.hist(df_2['expression_log2'], bins=20)\n",
    "# plt.plot([df2_median,df2_median],[0,8000])\n",
    "# plt.show()\n",
    "\n",
    "# df_2['set'].value_counts(), df_2['fold'].value_counts(), df_2['open'].value_counts()"
   ]
  },
  {
   "cell_type": "code",
   "execution_count": 8,
   "id": "f7ee39a0",
   "metadata": {},
   "outputs": [],
   "source": [
    "# Experiment 1\n",
    "# n_folds = 7\n",
    "# num_samples = 25000\n",
    "# take_activity = activity_df.iloc[:num_samples][atac_df.columns.to_list()].copy()\n",
    "# take_atac = atac_df[atac_df['open'] == 'Closed'].copy()\n",
    "# df_1 = pd.concat([take_activity,take_atac])\n",
    "# df_1['set'] = random.choices(['TRAIN','TEST'], cum_weights=[1-0.15,1], k=len(df_1))\n",
    "# df_1['fold'] = random.choices(range(1,n_folds+1), k=len(df_1))\n",
    "\n",
    "# #df_1['set'].value_counts(), df_1['fold'].value_counts(), df_1['open'].value_counts()\n",
    "\n",
    "# df_1.to_csv(\"Data/Experimental/df_1.csv\", index_label='label')"
   ]
  },
  {
   "cell_type": "code",
   "execution_count": 115,
   "id": "dce06bc2",
   "metadata": {},
   "outputs": [],
   "source": [
    "def one_hot_seqs(seqs) -> np.array:\n",
    "    static_1hotmap = {\n",
    "        'A' : np.array([1,0,0,0]),\n",
    "        'a' : np.array([1,0,0,0]),\n",
    "        'C' : np.array([0,1,0,0]),\n",
    "        'c' : np.array([0,1,0,0]),\n",
    "        'G' : np.array([0,0,1,0]),\n",
    "        'g' : np.array([0,0,1,0]),\n",
    "        'T' : np.array([0,0,0,1]),\n",
    "        't' : np.array([0,0,0,1]),\n",
    "    }\n",
    "    onehot_seqs = []\n",
    "    for seq in seqs:\n",
    "        onehot_seqs.append(\n",
    "            [static_1hotmap[seq[i]] if seq[i] in static_1hotmap.keys() else static_1hotmap[random.choice(['A','C','G','T'])] for i in range(len(seq))]\n",
    "        )\n",
    "    return np.stack(onehot_seqs)\n",
    "\n"
   ]
  },
  {
   "cell_type": "code",
   "execution_count": null,
   "id": "85a6c365",
   "metadata": {},
   "outputs": [],
   "source": []
  },
  {
   "cell_type": "code",
   "execution_count": 123,
   "id": "27b3a070",
   "metadata": {},
   "outputs": [
    {
     "name": "stdout",
     "output_type": "stream",
     "text": [
      "data_batch_name\n",
      "Round4a              59645\n",
      "NOT_TRAINING_DATA    14650\n",
      "Round4b              11169\n",
      "Round3b               7526\n",
      "Round3c               6183\n",
      "Genomic               4658\n",
      "Round3a               4438\n",
      "CrxMotifMutant        4221\n",
      "Round2                3820\n",
      "HighConfidence        2054\n",
      "Name: count, dtype: int64\n"
     ]
    }
   ],
   "source": [
    "LABEL_KEY = 'open'\n",
    "activity_df = pd.read_csv(\"Data/activity.csv\", index_col=0)\n",
    "print(activity_df['data_batch_name'].value_counts())\n",
    "activity_df = activity_df[activity_df['data_batch_name'].isin([\"Genomic\"])]\n",
    "\n",
    "\n",
    "# Enhancer:Open - Inactive:Closed\n",
    "activity_df[LABEL_KEY] = activity_df['activity_bin'].map(lambda x: 'Open' if x in ['WeakEnhancer'] else 'Closed')\n",
    "test_df = activity_df[activity_df['activity_bin'].isin([\"WeakEnhancer\",\"Inactive\"])]\n",
    "groups = [['Inactive'],['WeakEnhancer']]\n",
    "\n",
    "# Silencer:Open - Inactive:Closed \n",
    "# activity_df[LABEL_KEY] = activity_df['activity_bin'].map(lambda x: 'Open' if x == 'Silencer' else 'Closed')\n",
    "# test_df = activity_df[activity_df['activity_bin'].isin(['Silencer','Inactive'])]\n",
    "# groups = [['Inactive'],['Silencer']]\n",
    "\n",
    "# Enhancer+Silencer:Open - Inactive:Closed\n",
    "# activity_df[LABEL_KEY] = activity_df['activity_bin'].map(lambda x: 'Closed' if x=='Inactive' else 'Open')\n",
    "# test_df = activity_df\n",
    "# groups = [['Inactive'],['Enhancer','Silencer']]\n",
    "\n",
    "# Enhancer:Open - Silencers:Closed\n",
    "# activity_df[LABEL_KEY] = activity_df['activity_bin'].map(lambda x: 'Closed' if x=='Silencer' else 'Open')\n",
    "# test_df = activity_df[activity_df['activity_bin'] != 'Inactive']\n",
    "# groups = [['Silencer'],['Enhancer']]\n",
    "\n",
    "# test_df = activity_df[(activity_df['activity_bin'] != 'Silencer') & (activity_df['expression_log2'] >0)]\n",
    "\n",
    "\n",
    "x_test = one_hot_seqs(test_df['sequence'])\n",
    "encoder = LabelEncoder()\n",
    "encoder.fit(test_df[LABEL_KEY])\n",
    "classes = encoder.classes_\n",
    "num_classes = len(classes)\n",
    "y_test = encoder.transform(test_df[LABEL_KEY])\n",
    "y_test = keras.utils.to_categorical(y_test, num_classes)\n"
   ]
  },
  {
   "cell_type": "code",
   "execution_count": 124,
   "id": "969b49fa",
   "metadata": {},
   "outputs": [
    {
     "data": {
      "text/plain": [
       "(array(['Closed', 'Open'], dtype=object),\n",
       " array([0, 1]),\n",
       " open\n",
       " Closed    1454\n",
       " Open      1437\n",
       " Name: count, dtype: int64)"
      ]
     },
     "execution_count": 124,
     "metadata": {},
     "output_type": "execute_result"
    }
   ],
   "source": [
    "classes, encoder.transform(classes), test_df[LABEL_KEY].value_counts()\n"
   ]
  },
  {
   "cell_type": "code",
   "execution_count": 125,
   "id": "f8c4df55",
   "metadata": {},
   "outputs": [],
   "source": [
    "best_model = keras.models.load_model(os.path.join('ATAC7_164_10663735','5','cnn_model.keras'))"
   ]
  },
  {
   "cell_type": "code",
   "execution_count": 126,
   "id": "8f9a7297",
   "metadata": {},
   "outputs": [
    {
     "name": "stdout",
     "output_type": "stream",
     "text": [
      "23/23 [==============================] - 1s 46ms/step - loss: 1.0985 - accuracy: 0.5092\n",
      "91/91 [==============================] - 2s 15ms/step\n"
     ]
    }
   ],
   "source": [
    "\n",
    "results = best_model.evaluate(x_test,y_test,batch_size=128, verbose=1)\n",
    "\n",
    "predictions_ = best_model.predict(x_test, verbose=1)"
   ]
  },
  {
   "cell_type": "code",
   "execution_count": 127,
   "id": "bcd574e5",
   "metadata": {},
   "outputs": [],
   "source": [
    "entropies = [scipy.stats.entropy(p) for p in predictions_]\n",
    "expression = test_df['expression_log2'].values"
   ]
  },
  {
   "cell_type": "code",
   "execution_count": 128,
   "id": "c7d6591c",
   "metadata": {},
   "outputs": [],
   "source": [
    "truths = np.argmax(y_test, axis=1)\n",
    "predictions = np.argmax(predictions_, axis=1)"
   ]
  },
  {
   "cell_type": "code",
   "execution_count": 129,
   "id": "bb917fae",
   "metadata": {},
   "outputs": [
    {
     "name": "stdout",
     "output_type": "stream",
     "text": [
      "              precision    recall  f1-score   support\n",
      "\n",
      "      Closed       0.53      0.24      0.33      1454\n",
      "        Open       0.50      0.78      0.61      1437\n",
      "\n",
      "    accuracy                           0.51      2891\n",
      "   macro avg       0.51      0.51      0.47      2891\n",
      "weighted avg       0.52      0.51      0.47      2891\n",
      "\n"
     ]
    }
   ],
   "source": [
    "print(classification_report(truths,predictions,target_names=classes))\n",
    "report = classification_report(truths,predictions,target_names=classes, output_dict=True)\n"
   ]
  },
  {
   "cell_type": "code",
   "execution_count": 130,
   "id": "288b8c70",
   "metadata": {},
   "outputs": [
    {
     "data": {
      "text/plain": [
       "<sklearn.metrics._plot.confusion_matrix.ConfusionMatrixDisplay at 0x152759e62c50>"
      ]
     },
     "execution_count": 130,
     "metadata": {},
     "output_type": "execute_result"
    },
    {
     "data": {
      "image/png": "[encoded data removed]",
      "text/plain": [
       "<Figure size 1000x1000 with 2 Axes>"
      ]
     },
     "metadata": {},
     "output_type": "display_data"
    }
   ],
   "source": [
    "ConfusionMatrixDisplay.from_predictions(truths,predictions,display_labels=classes)"
   ]
  },
  {
   "cell_type": "code",
   "execution_count": null,
   "id": "5fdb78bf",
   "metadata": {},
   "outputs": [],
   "source": [
    "open_close = [[0,0],[0,0]]\n",
    "\n",
    "for i in range(len(truths)):\n",
    "    open_close[truths[i]][predictions[i]] += 1\n"
   ]
  },
  {
   "cell_type": "code",
   "execution_count": null,
   "id": "8565041c",
   "metadata": {},
   "outputs": [
    {
     "data": {
      "image/png": "[encoded data removed]",
      "text/plain": [
       "<Figure size 1000x1000 with 1 Axes>"
      ]
     },
     "metadata": {},
     "output_type": "display_data"
    }
   ],
   "source": [
    "\n",
    "bottom = np.zeros(2)\n",
    "x = classes\n",
    "\n",
    "fig, ax = plt.subplots()\n",
    "\n",
    "for i in range(2):\n",
    "    ax.bar(x, open_close[i], width=0.3, label=\"+\".join(groups[i]), bottom=bottom)\n",
    "    bottom += open_close[i]\n",
    "plt.legend()\n",
    "plt.ylabel(\"Number of Samples\")\n",
    "plt.xlabel(\"Predicted Accesability\")\n",
    "plt.title(\"Chromatin Accesability Prediction by Activity Bin\")\n",
    "\n",
    "plt.show()\n"
   ]
  },
  {
   "cell_type": "code",
   "execution_count": null,
   "id": "49791e87",
   "metadata": {},
   "outputs": [],
   "source": []
  },
  {
   "cell_type": "code",
   "execution_count": null,
   "id": "629e70cc",
   "metadata": {},
   "outputs": [],
   "source": []
  },
  {
   "cell_type": "code",
   "execution_count": null,
   "id": "cf1e96d1",
   "metadata": {},
   "outputs": [],
   "source": [
    "#print(classification_report(truths,predictions,target_names=classes))\n",
    "# report1 = classification_report(truths,predictions,target_names=classes, output_dict=True)\n",
    "# report1 = report1['weighted avg']"
   ]
  },
  {
   "cell_type": "code",
   "execution_count": null,
   "id": "d022be99",
   "metadata": {},
   "outputs": [],
   "source": [
    "a = classification_report(truths,predictions,target_names=classes)"
   ]
  },
  {
   "cell_type": "code",
   "execution_count": null,
   "id": "5f40fd99",
   "metadata": {},
   "outputs": [],
   "source": [
    "with open(\"file.txt\", 'a') as file:\n",
    "    file.write('\\n hello world')"
   ]
  },
  {
   "cell_type": "code",
   "execution_count": null,
   "id": "ffe4936a",
   "metadata": {},
   "outputs": [],
   "source": []
  }
 ],
 "metadata": {
  "kernelspec": {
   "display_name": "Python 3 (ipykernel)",
   "language": "python",
   "name": "python3"
  },
  "language_info": {
   "codemirror_mode": {
    "name": "ipython",
    "version": 3
   },
   "file_extension": ".py",
   "mimetype": "text/x-python",
   "name": "python",
   "nbconvert_exporter": "python",
   "pygments_lexer": "ipython3",
   "version": "3.10.4"
  }
 },
 "nbformat": 4,
 "nbformat_minor": 5
}
