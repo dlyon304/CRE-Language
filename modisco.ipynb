{
 "cells": [
  {
   "cell_type": "code",
   "execution_count": 1,
   "id": "02a74dff",
   "metadata": {},
   "outputs": [],
   "source": [
    "%load_ext autoreload\n",
    "\n",
    "%autoreload 2"
   ]
  },
  {
   "cell_type": "code",
   "execution_count": 2,
   "id": "10c145b7",
   "metadata": {},
   "outputs": [
    {
     "name": "stderr",
     "output_type": "stream",
     "text": [
      "2024-03-18 12:04:27.137582: E external/local_xla/xla/stream_executor/cuda/cuda_dnn.cc:9261] Unable to register cuDNN factory: Attempting to register factory for plugin cuDNN when one has already been registered\n",
      "2024-03-18 12:04:27.137644: E external/local_xla/xla/stream_executor/cuda/cuda_fft.cc:607] Unable to register cuFFT factory: Attempting to register factory for plugin cuFFT when one has already been registered\n",
      "2024-03-18 12:04:27.139444: E external/local_xla/xla/stream_executor/cuda/cuda_blas.cc:1515] Unable to register cuBLAS factory: Attempting to register factory for plugin cuBLAS when one has already been registered\n",
      "2024-03-18 12:04:28.438621: W tensorflow/compiler/tf2tensorrt/utils/py_utils.cc:38] TF-TRT Warning: Could not find TensorRT\n"
     ]
    }
   ],
   "source": [
    "\n",
    "import pandas as pd\n",
    "import os\n",
    "os.environ['TF_CPP_MIN_LOG_LEVEL'] = '1'\n",
    "import glob\n",
    "import numpy as np\n",
    "import statistics as stats\n",
    "import scipy\n",
    "import math\n",
    "import matplotlib.pyplot as plt\n",
    "import random\n",
    "import h5py\n",
    "from importlib import reload\n",
    "\n",
    "from src.tf_tools.rnn_regression import coolRNN\n",
    "from src.tf_tools.cnn_regression import originalResNet, tranferNet, MCDropout\n",
    "from src.grammar.sentences import sentences_Cspacer\n",
    "\n",
    "from tensorflow import keras\n",
    "from keras.preprocessing.text import Tokenizer\n",
    "from keras.preprocessing.sequence import pad_sequences\n",
    "from scipy.stats import linregress\n",
    "from sklearn.metrics import ConfusionMatrixDisplay\n",
    "\n",
    "import shap\n",
    "from deeplift.visualization import viz_sequence\n",
    "# 3.10.4"
   ]
  },
  {
   "cell_type": "code",
   "execution_count": 18,
   "id": "4bfd822c",
   "metadata": {},
   "outputs": [],
   "source": [
    "folder = 'modisco/activity'\n",
    "\n",
    "#Load in hypothetical importance scores\n",
    "rawhyp_impscores = np.load(folder+'/sv.npy')\n",
    "#Normalize scores across each basepair by making the mean contribution zero\n",
    "hyp_impscores = [x - np.mean(x, axis=-1)[:,None] for x in rawhyp_impscores]\n",
    "#hyp_impscores = rawhyp_impscores\n",
    "\n",
    "#Load in one hot encoded seq\n",
    "onehot_data = np.load(folder+'/ohe.npy')\n",
    "# Multiply to get actual importance scores\n",
    "impscores = [x*y for x,y in zip(hyp_impscores, onehot_data)]\n",
    "\n",
    "\n",
    "nulldist_perposimp = np.sum(impscores[-100:], axis=-1)"
   ]
  },
  {
   "cell_type": "code",
   "execution_count": 15,
   "id": "d5a4f6e0",
   "metadata": {},
   "outputs": [
    {
     "data": {
      "text/plain": [
       "((4, 164), (4, 164))"
      ]
     },
     "execution_count": 15,
     "metadata": {},
     "output_type": "execute_result"
    }
   ],
   "source": []
  },
  {
   "cell_type": "code",
   "execution_count": 4,
   "id": "48fc7299",
   "metadata": {},
   "outputs": [
    {
     "name": "stdout",
     "output_type": "stream",
     "text": [
      "WARNING:tensorflow:From /ref/bclab/software/spack-0.17.2/var/spack/environments/tensorflow-gpu/.spack-env/._view/gctfpgbf2atvptgnwhwmsyrtv7diigjw/lib/python3.10/site-packages/tensorflow/python/compat/v2_compat.py:108: disable_resource_variables (from tensorflow.python.ops.variable_scope) is deprecated and will be removed in a future version.\n",
      "Instructions for updating:\n",
      "non-resource variables are not supported in the long term\n"
     ]
    },
    {
     "name": "stderr",
     "output_type": "stream",
     "text": [
      "TF-MoDISco is using the TensorFlow backend.\n",
      "TF-MoDISco is using the TensorFlow backend.\n"
     ]
    },
    {
     "data": {
      "text/plain": [
       "<module 'modisco.clusterinit.memeinit' from '/ref/bclab/software/spack-0.17.2/var/spack/environments/tensorflow-gpu/.spack-env/._view/gctfpgbf2atvptgnwhwmsyrtv7diigjw/lib/python3.10/site-packages/modisco/clusterinit/memeinit.py'>"
      ]
     },
     "execution_count": 4,
     "metadata": {},
     "output_type": "execute_result"
    }
   ],
   "source": [
    "import h5py\n",
    "import numpy as np\n",
    "%matplotlib inline\n",
    "import modisco\n",
    "reload(modisco)\n",
    "import modisco.backend\n",
    "reload(modisco.backend.tensorflow_backend)\n",
    "reload(modisco.backend)\n",
    "import modisco.nearest_neighbors\n",
    "reload(modisco.nearest_neighbors)\n",
    "import modisco.affinitymat\n",
    "reload(modisco.affinitymat.core)\n",
    "reload(modisco.affinitymat.transformers)\n",
    "import modisco.tfmodisco_workflow.seqlets_to_patterns\n",
    "reload(modisco.tfmodisco_workflow.seqlets_to_patterns)\n",
    "import modisco.tfmodisco_workflow.workflow\n",
    "reload(modisco.tfmodisco_workflow.workflow)\n",
    "import modisco.tfmodisco_workflow\n",
    "reload(modisco.tfmodisco_workflow)\n",
    "import modisco.aggregator\n",
    "reload(modisco.aggregator)\n",
    "import modisco.cluster\n",
    "reload(modisco.cluster.core)\n",
    "reload(modisco.cluster.phenograph.core)\n",
    "reload(modisco.cluster.phenograph.cluster)\n",
    "import modisco.value_provider\n",
    "reload(modisco.value_provider)\n",
    "import modisco.core\n",
    "reload(modisco.core)\n",
    "import modisco.coordproducers\n",
    "reload(modisco.coordproducers)\n",
    "import modisco.metaclusterers\n",
    "reload(modisco.metaclusterers)\n",
    "import modisco.clusterinit.memeinit\n",
    "reload(modisco.clusterinit.memeinit)"
   ]
  },
  {
   "cell_type": "code",
   "execution_count": 19,
   "id": "4ab75b53",
   "metadata": {},
   "outputs": [
    {
     "name": "stdout",
     "output_type": "stream",
     "text": [
      "MEMORY 5.362597888\n",
      "On task task0\n",
      "Computing windowed sums on original\n",
      "Generating null dist\n",
      "Computing threshold\n"
     ]
    },
    {
     "ename": "ValueError",
     "evalue": "Found array with 0 sample(s) (shape=(0,)) while a minimum of 1 is required.",
     "output_type": "error",
     "traceback": [
      "\u001b[0;31m---------------------------------------------------------------------------\u001b[0m",
      "\u001b[0;31mValueError\u001b[0m                                Traceback (most recent call last)",
      "Cell \u001b[0;32mIn[19], line 1\u001b[0m\n\u001b[0;32m----> 1\u001b[0m modisco_results \u001b[38;5;241m=\u001b[39m \u001b[43mmodisco\u001b[49m\u001b[38;5;241;43m.\u001b[39;49m\u001b[43mtfmodisco_workflow\u001b[49m\u001b[38;5;241;43m.\u001b[39;49m\u001b[43mworkflow\u001b[49m\u001b[38;5;241;43m.\u001b[39;49m\u001b[43mTfModiscoWorkflow\u001b[49m\u001b[43m(\u001b[49m\n\u001b[1;32m      2\u001b[0m \u001b[43m    \u001b[49m\u001b[43mtarget_seqlet_fdr\u001b[49m\u001b[38;5;241;43m=\u001b[39;49m\u001b[38;5;241;43m0.25\u001b[39;49m\u001b[43m,\u001b[49m\n\u001b[1;32m      3\u001b[0m \u001b[43m    \u001b[49m\u001b[43msliding_window_size\u001b[49m\u001b[38;5;241;43m=\u001b[39;49m\u001b[38;5;241;43m15\u001b[39;49m\u001b[43m,\u001b[49m\n\u001b[1;32m      4\u001b[0m \u001b[43m    \u001b[49m\u001b[43mflank_size\u001b[49m\u001b[38;5;241;43m=\u001b[39;49m\u001b[38;5;241;43m5\u001b[39;49m\u001b[43m,\u001b[49m\n\u001b[1;32m      5\u001b[0m \u001b[43m    \u001b[49m\u001b[43mmax_seqlets_per_metacluster\u001b[49m\u001b[38;5;241;43m=\u001b[39;49m\u001b[38;5;241;43m50000\u001b[39;49m\u001b[43m,\u001b[49m\n\u001b[1;32m      6\u001b[0m \u001b[43m    \u001b[49m\u001b[43mseqlets_to_patterns_factory\u001b[49m\u001b[38;5;241;43m=\u001b[39;49m\u001b[43mmodisco\u001b[49m\u001b[38;5;241;43m.\u001b[39;49m\u001b[43mtfmodisco_workflow\u001b[49m\u001b[38;5;241;43m.\u001b[39;49m\u001b[43mseqlets_to_patterns\u001b[49m\u001b[38;5;241;43m.\u001b[39;49m\u001b[43mTfModiscoSeqletsToPatternsFactory\u001b[49m\u001b[43m(\u001b[49m\n\u001b[1;32m      7\u001b[0m \u001b[43m        \u001b[49m\u001b[43mtrim_to_window_size\u001b[49m\u001b[38;5;241;43m=\u001b[39;49m\u001b[38;5;241;43m15\u001b[39;49m\u001b[43m,\u001b[49m\u001b[43minitial_flank_to_add\u001b[49m\u001b[38;5;241;43m=\u001b[39;49m\u001b[38;5;241;43m5\u001b[39;49m\u001b[43m,\u001b[49m\u001b[43mfinal_min_cluster_size\u001b[49m\u001b[38;5;241;43m=\u001b[39;49m\u001b[38;5;241;43m30\u001b[39;49m\n\u001b[1;32m      8\u001b[0m \u001b[43m    \u001b[49m\u001b[43m)\u001b[49m\n\u001b[1;32m      9\u001b[0m \u001b[43m)\u001b[49m\u001b[43m(\u001b[49m\n\u001b[1;32m     10\u001b[0m \u001b[43m    \u001b[49m\u001b[43mtask_names\u001b[49m\u001b[38;5;241;43m=\u001b[39;49m\u001b[43m[\u001b[49m\u001b[38;5;124;43m\"\u001b[39;49m\u001b[38;5;124;43mtask0\u001b[39;49m\u001b[38;5;124;43m\"\u001b[39;49m\u001b[43m]\u001b[49m\u001b[43m,\u001b[49m\n\u001b[1;32m     11\u001b[0m \u001b[43m    \u001b[49m\u001b[43mcontrib_scores\u001b[49m\u001b[38;5;241;43m=\u001b[39;49m\u001b[43m{\u001b[49m\u001b[38;5;124;43m'\u001b[39;49m\u001b[38;5;124;43mtask0\u001b[39;49m\u001b[38;5;124;43m'\u001b[39;49m\u001b[43m:\u001b[49m\u001b[43m \u001b[49m\u001b[43mimpscores\u001b[49m\u001b[43m}\u001b[49m\u001b[43m,\u001b[49m\u001b[43m                \u001b[49m\n\u001b[1;32m     12\u001b[0m \u001b[43m    \u001b[49m\u001b[43mhypothetical_contribs\u001b[49m\u001b[38;5;241;43m=\u001b[39;49m\u001b[43m{\u001b[49m\u001b[38;5;124;43m'\u001b[39;49m\u001b[38;5;124;43mtask0\u001b[39;49m\u001b[38;5;124;43m'\u001b[39;49m\u001b[43m:\u001b[49m\u001b[43m \u001b[49m\u001b[43mhyp_impscores\u001b[49m\u001b[43m}\u001b[49m\u001b[43m,\u001b[49m\n\u001b[1;32m     13\u001b[0m \u001b[43m    \u001b[49m\u001b[43mone_hot\u001b[49m\u001b[38;5;241;43m=\u001b[39;49m\u001b[43monehot_data\u001b[49m\u001b[43m,\u001b[49m\n\u001b[1;32m     14\u001b[0m \u001b[43m    \u001b[49m\u001b[43mnull_per_pos_scores\u001b[49m\u001b[38;5;241;43m=\u001b[39;49m\u001b[43m{\u001b[49m\u001b[38;5;124;43m'\u001b[39;49m\u001b[38;5;124;43mtask0\u001b[39;49m\u001b[38;5;124;43m'\u001b[39;49m\u001b[43m:\u001b[49m\u001b[43m \u001b[49m\u001b[43mnulldist_perposimp\u001b[49m\u001b[43m}\u001b[49m\n\u001b[1;32m     15\u001b[0m \u001b[43m)\u001b[49m\n",
      "File \u001b[0;32m/ref/bclab/software/spack-0.17.2/var/spack/environments/tensorflow-gpu/.spack-env/._view/gctfpgbf2atvptgnwhwmsyrtv7diigjw/lib/python3.10/site-packages/modisco/tfmodisco_workflow/workflow.py:267\u001b[0m, in \u001b[0;36mTfModiscoWorkflow.__call__\u001b[0;34m(self, task_names, contrib_scores, hypothetical_contribs, one_hot, null_per_pos_scores, per_position_contrib_scores, revcomp, other_tracks, just_return_seqlets, plot_save_dir)\u001b[0m\n\u001b[1;32m    254\u001b[0m     per_position_contrib_scores \u001b[38;5;241m=\u001b[39m OrderedDict([\n\u001b[1;32m    255\u001b[0m         (x, [np\u001b[38;5;241m.\u001b[39msum(s,axis\u001b[38;5;241m=\u001b[39m\u001b[38;5;241m1\u001b[39m) \u001b[38;5;28;01mfor\u001b[39;00m s \u001b[38;5;129;01min\u001b[39;00m contrib_scores[x]])\n\u001b[1;32m    256\u001b[0m         \u001b[38;5;28;01mfor\u001b[39;00m x \u001b[38;5;129;01min\u001b[39;00m task_names])\n\u001b[1;32m    258\u001b[0m track_set \u001b[38;5;241m=\u001b[39m prep_track_set(\n\u001b[1;32m    259\u001b[0m                 task_names\u001b[38;5;241m=\u001b[39mtask_names,\n\u001b[1;32m    260\u001b[0m                 contrib_scores\u001b[38;5;241m=\u001b[39mcontrib_scores,\n\u001b[0;32m   (...)\u001b[0m\n\u001b[1;32m    264\u001b[0m                 custom_perpos_contribs\u001b[38;5;241m=\u001b[39mcustom_perpos_contribs,\n\u001b[1;32m    265\u001b[0m                 other_tracks\u001b[38;5;241m=\u001b[39mother_tracks)\n\u001b[0;32m--> 267\u001b[0m multitask_seqlet_creation_results \u001b[38;5;241m=\u001b[39m \u001b[43mcore\u001b[49m\u001b[38;5;241;43m.\u001b[39;49m\u001b[43mMultiTaskSeqletCreator\u001b[49m\u001b[43m(\u001b[49m\n\u001b[1;32m    268\u001b[0m \u001b[43m    \u001b[49m\u001b[43mcoord_producer\u001b[49m\u001b[38;5;241;43m=\u001b[39;49m\u001b[38;5;28;43mself\u001b[39;49m\u001b[38;5;241;43m.\u001b[39;49m\u001b[43mcoord_producer\u001b[49m\u001b[43m,\u001b[49m\n\u001b[1;32m    269\u001b[0m \u001b[43m    \u001b[49m\u001b[43moverlap_resolver\u001b[49m\u001b[38;5;241;43m=\u001b[39;49m\u001b[38;5;28;43mself\u001b[39;49m\u001b[38;5;241;43m.\u001b[39;49m\u001b[43moverlap_resolver\u001b[49m\u001b[43m)\u001b[49m\u001b[43m(\u001b[49m\n\u001b[1;32m    270\u001b[0m \u001b[43m        \u001b[49m\u001b[43mtask_name_to_score_track\u001b[49m\u001b[38;5;241;43m=\u001b[39;49m\u001b[43mper_position_contrib_scores\u001b[49m\u001b[43m,\u001b[49m\n\u001b[1;32m    271\u001b[0m \u001b[43m        \u001b[49m\u001b[43mnull_tracks\u001b[49m\u001b[38;5;241;43m=\u001b[39;49m\u001b[43mnull_per_pos_scores\u001b[49m\u001b[43m,\u001b[49m\n\u001b[1;32m    272\u001b[0m \u001b[43m        \u001b[49m\u001b[43mtrack_set\u001b[49m\u001b[38;5;241;43m=\u001b[39;49m\u001b[43mtrack_set\u001b[49m\u001b[43m)\u001b[49m\n\u001b[1;32m    274\u001b[0m \u001b[38;5;66;03m#find the weakest transformed threshold used across all tasks\u001b[39;00m\n\u001b[1;32m    275\u001b[0m weakest_transformed_thresh \u001b[38;5;241m=\u001b[39m (\u001b[38;5;28mmin\u001b[39m(\n\u001b[1;32m    276\u001b[0m     [\u001b[38;5;28mmin\u001b[39m(x\u001b[38;5;241m.\u001b[39mtnt_results\u001b[38;5;241m.\u001b[39mtransformed_pos_threshold,\n\u001b[1;32m    277\u001b[0m          \u001b[38;5;28mabs\u001b[39m(x\u001b[38;5;241m.\u001b[39mtnt_results\u001b[38;5;241m.\u001b[39mtransformed_neg_threshold))\n\u001b[1;32m    278\u001b[0m          \u001b[38;5;28;01mfor\u001b[39;00m x \u001b[38;5;129;01min\u001b[39;00m (multitask_seqlet_creation_results\u001b[38;5;241m.\u001b[39m\n\u001b[1;32m    279\u001b[0m                    task_name_to_coord_producer_results\u001b[38;5;241m.\u001b[39mvalues())]) \u001b[38;5;241m-\u001b[39m\n\u001b[1;32m    280\u001b[0m     \u001b[38;5;241m0.0001\u001b[39m) \u001b[38;5;66;03m#subtract 1e-4 to avoid weird numerical issues\u001b[39;00m\n",
      "File \u001b[0;32m/ref/bclab/software/spack-0.17.2/var/spack/environments/tensorflow-gpu/.spack-env/._view/gctfpgbf2atvptgnwhwmsyrtv7diigjw/lib/python3.10/site-packages/modisco/core.py:359\u001b[0m, in \u001b[0;36mMultiTaskSeqletCreator.__call__\u001b[0;34m(self, task_name_to_score_track, null_tracks, track_set, task_name_to_tnt_results)\u001b[0m\n\u001b[1;32m    356\u001b[0m     null_track \u001b[38;5;241m=\u001b[39m null_tracks[task_name]\n\u001b[1;32m    357\u001b[0m \u001b[38;5;28;01mif\u001b[39;00m (task_name_to_tnt_results \u001b[38;5;129;01mis\u001b[39;00m \u001b[38;5;28;01mNone\u001b[39;00m):\n\u001b[1;32m    358\u001b[0m     coord_producer_results \u001b[38;5;241m=\u001b[39m\\\n\u001b[0;32m--> 359\u001b[0m         \u001b[38;5;28;43mself\u001b[39;49m\u001b[38;5;241;43m.\u001b[39;49m\u001b[43mcoord_producer\u001b[49m\u001b[43m(\u001b[49m\n\u001b[1;32m    360\u001b[0m \u001b[43m            \u001b[49m\u001b[43mscore_track\u001b[49m\u001b[38;5;241;43m=\u001b[39;49m\u001b[43mscore_track\u001b[49m\u001b[43m,\u001b[49m\n\u001b[1;32m    361\u001b[0m \u001b[43m            \u001b[49m\u001b[43mnull_track\u001b[49m\u001b[43m \u001b[49m\u001b[38;5;241;43m=\u001b[39;49m\u001b[43m \u001b[49m\u001b[43mnull_track\u001b[49m\u001b[43m)\u001b[49m\n\u001b[1;32m    362\u001b[0m \u001b[38;5;28;01melse\u001b[39;00m:\n\u001b[1;32m    363\u001b[0m     coord_producer_results \u001b[38;5;241m=\u001b[39m\\\n\u001b[1;32m    364\u001b[0m         \u001b[38;5;28mself\u001b[39m\u001b[38;5;241m.\u001b[39mcoord_producer(\n\u001b[1;32m    365\u001b[0m          score_track\u001b[38;5;241m=\u001b[39mscore_track,\n\u001b[1;32m    366\u001b[0m          null_track \u001b[38;5;241m=\u001b[39m null_track,\n\u001b[1;32m    367\u001b[0m          tnt_results\u001b[38;5;241m=\u001b[39m\n\u001b[1;32m    368\u001b[0m           task_name_to_tnt_results[task_name])\n",
      "File \u001b[0;32m/ref/bclab/software/spack-0.17.2/var/spack/environments/tensorflow-gpu/.spack-env/._view/gctfpgbf2atvptgnwhwmsyrtv7diigjw/lib/python3.10/site-packages/modisco/coordproducers.py:957\u001b[0m, in \u001b[0;36mFixedWindowAroundChunks.__call__\u001b[0;34m(self, score_track, null_track, tnt_results)\u001b[0m\n\u001b[1;32m    952\u001b[0m orig_vals \u001b[38;5;241m=\u001b[39m \u001b[38;5;28mlist\u001b[39m(\n\u001b[1;32m    953\u001b[0m     np\u001b[38;5;241m.\u001b[39mconcatenate(original_summed_score_track, axis\u001b[38;5;241m=\u001b[39m\u001b[38;5;241m0\u001b[39m))\n\u001b[1;32m    955\u001b[0m \u001b[38;5;66;03m#Note that orig_vals may have been subsampled at this point\u001b[39;00m\n\u001b[1;32m    956\u001b[0m pos_ir, neg_ir, subsampled_orig_vals, subsampled_null_vals \u001b[38;5;241m=\u001b[39m\\\n\u001b[0;32m--> 957\u001b[0m     \u001b[43mget_isotonic_regression_classifier\u001b[49m\u001b[43m(\u001b[49m\n\u001b[1;32m    958\u001b[0m \u001b[43m        \u001b[49m\u001b[43morig_vals\u001b[49m\u001b[38;5;241;43m=\u001b[39;49m\u001b[43morig_vals\u001b[49m\u001b[43m,\u001b[49m\n\u001b[1;32m    959\u001b[0m \u001b[43m        \u001b[49m\u001b[43mnull_vals\u001b[49m\u001b[38;5;241;43m=\u001b[39;49m\u001b[43mnull_vals\u001b[49m\u001b[43m)\u001b[49m\n\u001b[1;32m    961\u001b[0m subsampled_pos_orig_vals \u001b[38;5;241m=\u001b[39m (\n\u001b[1;32m    962\u001b[0m     np\u001b[38;5;241m.\u001b[39marray(\u001b[38;5;28msorted\u001b[39m([x \u001b[38;5;28;01mfor\u001b[39;00m x \u001b[38;5;129;01min\u001b[39;00m subsampled_orig_vals \u001b[38;5;28;01mif\u001b[39;00m x \u001b[38;5;241m>\u001b[39m\u001b[38;5;241m=\u001b[39m \u001b[38;5;241m0\u001b[39m])))\n\u001b[1;32m    963\u001b[0m subsampled_neg_orig_vals \u001b[38;5;241m=\u001b[39m (\n\u001b[1;32m    964\u001b[0m     np\u001b[38;5;241m.\u001b[39marray(\u001b[38;5;28msorted\u001b[39m([x \u001b[38;5;28;01mfor\u001b[39;00m x \u001b[38;5;129;01min\u001b[39;00m subsampled_orig_vals \u001b[38;5;28;01mif\u001b[39;00m x \u001b[38;5;241m<\u001b[39m \u001b[38;5;241m0\u001b[39m],\n\u001b[1;32m    965\u001b[0m              key\u001b[38;5;241m=\u001b[39m\u001b[38;5;28;01mlambda\u001b[39;00m x: \u001b[38;5;28mabs\u001b[39m(x))))\n",
      "File \u001b[0;32m/ref/bclab/software/spack-0.17.2/var/spack/environments/tensorflow-gpu/.spack-env/._view/gctfpgbf2atvptgnwhwmsyrtv7diigjw/lib/python3.10/site-packages/modisco/coordproducers.py:470\u001b[0m, in \u001b[0;36mget_isotonic_regression_classifier\u001b[0;34m(orig_vals, null_vals)\u001b[0m\n\u001b[1;32m    468\u001b[0m pos_null_vals \u001b[38;5;241m=\u001b[39m [x \u001b[38;5;28;01mfor\u001b[39;00m x \u001b[38;5;129;01min\u001b[39;00m null_vals \u001b[38;5;28;01mif\u001b[39;00m x \u001b[38;5;241m>\u001b[39m\u001b[38;5;241m=\u001b[39m \u001b[38;5;241m0\u001b[39m]\n\u001b[1;32m    469\u001b[0m neg_null_vals \u001b[38;5;241m=\u001b[39m [x \u001b[38;5;28;01mfor\u001b[39;00m x \u001b[38;5;129;01min\u001b[39;00m null_vals \u001b[38;5;28;01mif\u001b[39;00m x \u001b[38;5;241m<\u001b[39m \u001b[38;5;241m0\u001b[39m]\n\u001b[0;32m--> 470\u001b[0m pos_ir \u001b[38;5;241m=\u001b[39m \u001b[43mSavableIsotonicRegression\u001b[49m\u001b[43m(\u001b[49m\u001b[43morigvals\u001b[49m\u001b[38;5;241;43m=\u001b[39;49m\u001b[43mpos_orig_vals\u001b[49m\u001b[43m,\u001b[49m\n\u001b[1;32m    471\u001b[0m \u001b[43m            \u001b[49m\u001b[43mnullvals\u001b[49m\u001b[38;5;241;43m=\u001b[39;49m\u001b[43mpos_null_vals\u001b[49m\u001b[43m,\u001b[49m\u001b[43m \u001b[49m\u001b[43mincreasing\u001b[49m\u001b[38;5;241;43m=\u001b[39;49m\u001b[38;5;28;43;01mTrue\u001b[39;49;00m\u001b[43m)\u001b[49m \n\u001b[1;32m    473\u001b[0m \u001b[38;5;28;01mif\u001b[39;00m (\u001b[38;5;28mlen\u001b[39m(neg_orig_vals) \u001b[38;5;241m>\u001b[39m \u001b[38;5;241m0\u001b[39m):\n\u001b[1;32m    474\u001b[0m     neg_ir \u001b[38;5;241m=\u001b[39m SavableIsotonicRegression(origvals\u001b[38;5;241m=\u001b[39mneg_orig_vals,\n\u001b[1;32m    475\u001b[0m                 nullvals\u001b[38;5;241m=\u001b[39mneg_null_vals, increasing\u001b[38;5;241m=\u001b[39m\u001b[38;5;28;01mFalse\u001b[39;00m)\n",
      "File \u001b[0;32m/ref/bclab/software/spack-0.17.2/var/spack/environments/tensorflow-gpu/.spack-env/._view/gctfpgbf2atvptgnwhwmsyrtv7diigjw/lib/python3.10/site-packages/modisco/coordproducers.py:418\u001b[0m, in \u001b[0;36mSavableIsotonicRegression.__init__\u001b[0;34m(self, origvals, nullvals, increasing, min_frac_neg)\u001b[0m\n\u001b[1;32m    416\u001b[0m \u001b[38;5;28mself\u001b[39m\u001b[38;5;241m.\u001b[39mincreasing \u001b[38;5;241m=\u001b[39m increasing\n\u001b[1;32m    417\u001b[0m \u001b[38;5;28mself\u001b[39m\u001b[38;5;241m.\u001b[39mmin_frac_neg \u001b[38;5;241m=\u001b[39m min_frac_neg\n\u001b[0;32m--> 418\u001b[0m \u001b[38;5;28mself\u001b[39m\u001b[38;5;241m.\u001b[39mir \u001b[38;5;241m=\u001b[39m \u001b[43mIsotonicRegression\u001b[49m\u001b[43m(\u001b[49m\u001b[43mout_of_bounds\u001b[49m\u001b[38;5;241;43m=\u001b[39;49m\u001b[38;5;124;43m'\u001b[39;49m\u001b[38;5;124;43mclip\u001b[39;49m\u001b[38;5;124;43m'\u001b[39;49m\u001b[43m,\u001b[49m\n\u001b[1;32m    419\u001b[0m \u001b[43m                             \u001b[49m\u001b[43mincreasing\u001b[49m\u001b[38;5;241;43m=\u001b[39;49m\u001b[43mincreasing\u001b[49m\u001b[43m)\u001b[49m\u001b[38;5;241;43m.\u001b[39;49m\u001b[43mfit\u001b[49m\u001b[43m(\u001b[49m\n\u001b[1;32m    420\u001b[0m \u001b[43m    \u001b[49m\u001b[43mX\u001b[49m\u001b[38;5;241;43m=\u001b[39;49m\u001b[43mnp\u001b[49m\u001b[38;5;241;43m.\u001b[39;49m\u001b[43mconcatenate\u001b[49m\u001b[43m(\u001b[49m\u001b[43m[\u001b[49m\u001b[38;5;28;43mself\u001b[39;49m\u001b[38;5;241;43m.\u001b[39;49m\u001b[43morigvals\u001b[49m\u001b[43m,\u001b[49m\u001b[43m \u001b[49m\u001b[38;5;28;43mself\u001b[39;49m\u001b[38;5;241;43m.\u001b[39;49m\u001b[43mnullvals\u001b[49m\u001b[43m]\u001b[49m\u001b[43m,\u001b[49m\u001b[43m \u001b[49m\u001b[43maxis\u001b[49m\u001b[38;5;241;43m=\u001b[39;49m\u001b[38;5;241;43m0\u001b[39;49m\u001b[43m)\u001b[49m\u001b[43m,\u001b[49m\n\u001b[1;32m    421\u001b[0m \u001b[43m    \u001b[49m\u001b[43my\u001b[49m\u001b[38;5;241;43m=\u001b[39;49m\u001b[43m(\u001b[49m\u001b[43m[\u001b[49m\u001b[38;5;241;43m1.0\u001b[39;49m\u001b[43m \u001b[49m\u001b[38;5;28;43;01mfor\u001b[39;49;00m\u001b[43m \u001b[49m\u001b[43mx\u001b[49m\u001b[43m \u001b[49m\u001b[38;5;129;43;01min\u001b[39;49;00m\u001b[43m \u001b[49m\u001b[38;5;28;43mself\u001b[39;49m\u001b[38;5;241;43m.\u001b[39;49m\u001b[43morigvals\u001b[49m\u001b[43m]\u001b[49m\u001b[43m \u001b[49m\u001b[38;5;241;43m+\u001b[39;49m\u001b[43m \u001b[49m\u001b[43m[\u001b[49m\u001b[38;5;241;43m0.0\u001b[39;49m\u001b[43m \u001b[49m\u001b[38;5;28;43;01mfor\u001b[39;49;00m\u001b[43m \u001b[49m\u001b[43mx\u001b[49m\u001b[43m \u001b[49m\u001b[38;5;129;43;01min\u001b[39;49;00m\u001b[43m \u001b[49m\u001b[38;5;28;43mself\u001b[39;49m\u001b[38;5;241;43m.\u001b[39;49m\u001b[43mnullvals\u001b[49m\u001b[43m]\u001b[49m\u001b[43m)\u001b[49m\u001b[43m,\u001b[49m\n\u001b[1;32m    422\u001b[0m \u001b[43m    \u001b[49m\u001b[43msample_weight\u001b[49m\u001b[38;5;241;43m=\u001b[39;49m\u001b[43m(\u001b[49m\u001b[43m[\u001b[49m\u001b[38;5;241;43m1.0\u001b[39;49m\u001b[43m \u001b[49m\u001b[38;5;28;43;01mfor\u001b[39;49;00m\u001b[43m \u001b[49m\u001b[43mx\u001b[49m\u001b[43m \u001b[49m\u001b[38;5;129;43;01min\u001b[39;49;00m\u001b[43m \u001b[49m\u001b[38;5;28;43mself\u001b[39;49m\u001b[38;5;241;43m.\u001b[39;49m\u001b[43morigvals\u001b[49m\u001b[43m]\u001b[49m\n\u001b[1;32m    423\u001b[0m \u001b[43m                   \u001b[49m\u001b[38;5;241;43m+\u001b[39;49m\u001b[43m[\u001b[49m\u001b[38;5;28;43mfloat\u001b[39;49m\u001b[43m(\u001b[49m\u001b[38;5;28;43mlen\u001b[39;49m\u001b[43m(\u001b[49m\u001b[38;5;28;43mself\u001b[39;49m\u001b[38;5;241;43m.\u001b[39;49m\u001b[43morigvals\u001b[49m\u001b[43m)\u001b[49m\u001b[43m)\u001b[49m\u001b[38;5;241;43m/\u001b[39;49m\u001b[38;5;28;43mlen\u001b[39;49m\u001b[43m(\u001b[49m\u001b[38;5;28;43mself\u001b[39;49m\u001b[38;5;241;43m.\u001b[39;49m\u001b[43mnullvals\u001b[49m\u001b[43m)\u001b[49m\n\u001b[1;32m    424\u001b[0m \u001b[43m                     \u001b[49m\u001b[38;5;28;43;01mfor\u001b[39;49;00m\u001b[43m \u001b[49m\u001b[43mx\u001b[49m\u001b[43m \u001b[49m\u001b[38;5;129;43;01min\u001b[39;49;00m\u001b[43m \u001b[49m\u001b[38;5;28;43mself\u001b[39;49m\u001b[38;5;241;43m.\u001b[39;49m\u001b[43mnullvals\u001b[49m\u001b[43m]\u001b[49m\u001b[43m)\u001b[49m\u001b[43m)\u001b[49m\n\u001b[1;32m    425\u001b[0m \u001b[38;5;66;03m#Infer frac_pos based on the minimum value of the ir probs\u001b[39;00m\n\u001b[1;32m    426\u001b[0m \u001b[38;5;66;03m#See derivation in irval_to_probpos function\u001b[39;00m\n\u001b[1;32m    427\u001b[0m min_prec_x \u001b[38;5;241m=\u001b[39m \u001b[38;5;28mself\u001b[39m\u001b[38;5;241m.\u001b[39mir\u001b[38;5;241m.\u001b[39mX_min_ \u001b[38;5;28;01mif\u001b[39;00m \u001b[38;5;28mself\u001b[39m\u001b[38;5;241m.\u001b[39mincreasing \u001b[38;5;28;01melse\u001b[39;00m \u001b[38;5;28mself\u001b[39m\u001b[38;5;241m.\u001b[39mir\u001b[38;5;241m.\u001b[39mX_max_ \n",
      "File \u001b[0;32m/ref/bclab/software/spack-0.17.2/var/spack/environments/tensorflow-gpu/.spack-env/._view/gctfpgbf2atvptgnwhwmsyrtv7diigjw/lib/python3.10/site-packages/sklearn/base.py:1474\u001b[0m, in \u001b[0;36m_fit_context.<locals>.decorator.<locals>.wrapper\u001b[0;34m(estimator, *args, **kwargs)\u001b[0m\n\u001b[1;32m   1467\u001b[0m     estimator\u001b[38;5;241m.\u001b[39m_validate_params()\n\u001b[1;32m   1469\u001b[0m \u001b[38;5;28;01mwith\u001b[39;00m config_context(\n\u001b[1;32m   1470\u001b[0m     skip_parameter_validation\u001b[38;5;241m=\u001b[39m(\n\u001b[1;32m   1471\u001b[0m         prefer_skip_nested_validation \u001b[38;5;129;01mor\u001b[39;00m global_skip_validation\n\u001b[1;32m   1472\u001b[0m     )\n\u001b[1;32m   1473\u001b[0m ):\n\u001b[0;32m-> 1474\u001b[0m     \u001b[38;5;28;01mreturn\u001b[39;00m \u001b[43mfit_method\u001b[49m\u001b[43m(\u001b[49m\u001b[43mestimator\u001b[49m\u001b[43m,\u001b[49m\u001b[43m \u001b[49m\u001b[38;5;241;43m*\u001b[39;49m\u001b[43margs\u001b[49m\u001b[43m,\u001b[49m\u001b[43m \u001b[49m\u001b[38;5;241;43m*\u001b[39;49m\u001b[38;5;241;43m*\u001b[39;49m\u001b[43mkwargs\u001b[49m\u001b[43m)\u001b[49m\n",
      "File \u001b[0;32m/ref/bclab/software/spack-0.17.2/var/spack/environments/tensorflow-gpu/.spack-env/._view/gctfpgbf2atvptgnwhwmsyrtv7diigjw/lib/python3.10/site-packages/sklearn/isotonic.py:377\u001b[0m, in \u001b[0;36mIsotonicRegression.fit\u001b[0;34m(self, X, y, sample_weight)\u001b[0m\n\u001b[1;32m    349\u001b[0m \u001b[38;5;250m\u001b[39m\u001b[38;5;124;03m\"\"\"Fit the model using X, y as training data.\u001b[39;00m\n\u001b[1;32m    350\u001b[0m \n\u001b[1;32m    351\u001b[0m \u001b[38;5;124;03mParameters\u001b[39;00m\n\u001b[0;32m   (...)\u001b[0m\n\u001b[1;32m    374\u001b[0m \u001b[38;5;124;03mnew input data.\u001b[39;00m\n\u001b[1;32m    375\u001b[0m \u001b[38;5;124;03m\"\"\"\u001b[39;00m\n\u001b[1;32m    376\u001b[0m check_params \u001b[38;5;241m=\u001b[39m \u001b[38;5;28mdict\u001b[39m(accept_sparse\u001b[38;5;241m=\u001b[39m\u001b[38;5;28;01mFalse\u001b[39;00m, ensure_2d\u001b[38;5;241m=\u001b[39m\u001b[38;5;28;01mFalse\u001b[39;00m)\n\u001b[0;32m--> 377\u001b[0m X \u001b[38;5;241m=\u001b[39m \u001b[43mcheck_array\u001b[49m\u001b[43m(\u001b[49m\n\u001b[1;32m    378\u001b[0m \u001b[43m    \u001b[49m\u001b[43mX\u001b[49m\u001b[43m,\u001b[49m\u001b[43m \u001b[49m\u001b[43minput_name\u001b[49m\u001b[38;5;241;43m=\u001b[39;49m\u001b[38;5;124;43m\"\u001b[39;49m\u001b[38;5;124;43mX\u001b[39;49m\u001b[38;5;124;43m\"\u001b[39;49m\u001b[43m,\u001b[49m\u001b[43m \u001b[49m\u001b[43mdtype\u001b[49m\u001b[38;5;241;43m=\u001b[39;49m\u001b[43m[\u001b[49m\u001b[43mnp\u001b[49m\u001b[38;5;241;43m.\u001b[39;49m\u001b[43mfloat64\u001b[49m\u001b[43m,\u001b[49m\u001b[43m \u001b[49m\u001b[43mnp\u001b[49m\u001b[38;5;241;43m.\u001b[39;49m\u001b[43mfloat32\u001b[49m\u001b[43m]\u001b[49m\u001b[43m,\u001b[49m\u001b[43m \u001b[49m\u001b[38;5;241;43m*\u001b[39;49m\u001b[38;5;241;43m*\u001b[39;49m\u001b[43mcheck_params\u001b[49m\n\u001b[1;32m    379\u001b[0m \u001b[43m\u001b[49m\u001b[43m)\u001b[49m\n\u001b[1;32m    380\u001b[0m y \u001b[38;5;241m=\u001b[39m check_array(y, input_name\u001b[38;5;241m=\u001b[39m\u001b[38;5;124m\"\u001b[39m\u001b[38;5;124my\u001b[39m\u001b[38;5;124m\"\u001b[39m, dtype\u001b[38;5;241m=\u001b[39mX\u001b[38;5;241m.\u001b[39mdtype, \u001b[38;5;241m*\u001b[39m\u001b[38;5;241m*\u001b[39mcheck_params)\n\u001b[1;32m    381\u001b[0m check_consistent_length(X, y, sample_weight)\n",
      "File \u001b[0;32m/ref/bclab/software/spack-0.17.2/var/spack/environments/tensorflow-gpu/.spack-env/._view/gctfpgbf2atvptgnwhwmsyrtv7diigjw/lib/python3.10/site-packages/sklearn/utils/validation.py:1072\u001b[0m, in \u001b[0;36mcheck_array\u001b[0;34m(array, accept_sparse, accept_large_sparse, dtype, order, copy, force_all_finite, ensure_2d, allow_nd, ensure_min_samples, ensure_min_features, estimator, input_name)\u001b[0m\n\u001b[1;32m   1070\u001b[0m     n_samples \u001b[38;5;241m=\u001b[39m _num_samples(array)\n\u001b[1;32m   1071\u001b[0m     \u001b[38;5;28;01mif\u001b[39;00m n_samples \u001b[38;5;241m<\u001b[39m ensure_min_samples:\n\u001b[0;32m-> 1072\u001b[0m         \u001b[38;5;28;01mraise\u001b[39;00m \u001b[38;5;167;01mValueError\u001b[39;00m(\n\u001b[1;32m   1073\u001b[0m             \u001b[38;5;124m\"\u001b[39m\u001b[38;5;124mFound array with \u001b[39m\u001b[38;5;132;01m%d\u001b[39;00m\u001b[38;5;124m sample(s) (shape=\u001b[39m\u001b[38;5;132;01m%s\u001b[39;00m\u001b[38;5;124m) while a\u001b[39m\u001b[38;5;124m\"\u001b[39m\n\u001b[1;32m   1074\u001b[0m             \u001b[38;5;124m\"\u001b[39m\u001b[38;5;124m minimum of \u001b[39m\u001b[38;5;132;01m%d\u001b[39;00m\u001b[38;5;124m is required\u001b[39m\u001b[38;5;132;01m%s\u001b[39;00m\u001b[38;5;124m.\u001b[39m\u001b[38;5;124m\"\u001b[39m\n\u001b[1;32m   1075\u001b[0m             \u001b[38;5;241m%\u001b[39m (n_samples, array\u001b[38;5;241m.\u001b[39mshape, ensure_min_samples, context)\n\u001b[1;32m   1076\u001b[0m         )\n\u001b[1;32m   1078\u001b[0m \u001b[38;5;28;01mif\u001b[39;00m ensure_min_features \u001b[38;5;241m>\u001b[39m \u001b[38;5;241m0\u001b[39m \u001b[38;5;129;01mand\u001b[39;00m array\u001b[38;5;241m.\u001b[39mndim \u001b[38;5;241m==\u001b[39m \u001b[38;5;241m2\u001b[39m:\n\u001b[1;32m   1079\u001b[0m     n_features \u001b[38;5;241m=\u001b[39m array\u001b[38;5;241m.\u001b[39mshape[\u001b[38;5;241m1\u001b[39m]\n",
      "\u001b[0;31mValueError\u001b[0m: Found array with 0 sample(s) (shape=(0,)) while a minimum of 1 is required."
     ]
    }
   ],
   "source": [
    "\n",
    "modisco_results = modisco.tfmodisco_workflow.workflow.TfModiscoWorkflow(\n",
    "    target_seqlet_fdr=0.25,\n",
    "    sliding_window_size=15,\n",
    "    flank_size=5,\n",
    "    max_seqlets_per_metacluster=50000,\n",
    "    seqlets_to_patterns_factory=modisco.tfmodisco_workflow.seqlets_to_patterns.TfModiscoSeqletsToPatternsFactory(\n",
    "        trim_to_window_size=15,initial_flank_to_add=5,final_min_cluster_size=30\n",
    "    )\n",
    ")(\n",
    "    task_names=[\"task0\"],\n",
    "    contrib_scores={'task0': impscores},                \n",
    "    hypothetical_contribs={'task0': hyp_impscores},\n",
    "    one_hot=onehot_data,\n",
    "    null_per_pos_scores={'task0': nulldist_perposimp}\n",
    ")\n"
   ]
  },
  {
   "cell_type": "code",
   "execution_count": null,
   "id": "d927c4fa",
   "metadata": {},
   "outputs": [],
   "source": [
    "\n",
    "\n",
    "\n"
   ]
  },
  {
   "cell_type": "code",
   "execution_count": null,
   "id": "7526c246",
   "metadata": {},
   "outputs": [
    {
     "ename": "",
     "evalue": "",
     "output_type": "error",
     "traceback": [
      "\u001b[1;31mFailed to connect to the remote Jupyter Server 'http://n209:9823/'. Verify the server is running and reachable. (Failed to connect to the remote Jupyter Server 'http://n209:9823/'. Verify the server is running and reachable. (request to http://n209:9823/api/kernels?1710615424140 failed, reason: connect ECONNREFUSED 192.168.82.209:9823).)."
     ]
    }
   ],
   "source": [
    "with h5py.File('data.h5', 'r') as file:\n",
    "    print(\"Keys: %s\" % file.keys())\n",
    "    a_group_key = list(file.keys())[0]\n",
    "     \n",
    "    # Getting the data\n",
    "    data = list(file[a_group_key])\n",
    "    print(data)"
   ]
  }
 ],
 "metadata": {
  "kernelspec": {
   "display_name": "Python 3 (ipykernel)",
   "language": "python",
   "name": "python3"
  },
  "language_info": {
   "codemirror_mode": {
    "name": "ipython",
    "version": 3
   },
   "file_extension": ".py",
   "mimetype": "text/x-python",
   "name": "python",
   "nbconvert_exporter": "python",
   "pygments_lexer": "ipython3",
   "version": "3.10.4"
  }
 },
 "nbformat": 4,
 "nbformat_minor": 5
}
