{
 "cells": [
  {
   "cell_type": "code",
   "execution_count": 46,
   "id": "02a74dff",
   "metadata": {},
   "outputs": [],
   "source": [
    "import pandas as pd\n",
    "import os\n",
    "import glob\n",
    "import numpy as np\n",
    "import statistics as stats\n",
    "import scipy\n",
    "import math\n",
    "import matplotlib\n",
    "import matplotlib.pyplot as plt\n",
    "import random\n",
    "\n",
    "from src.tf_tools.rnn_regression import coolRNN\n",
    "from src.tf_tools.cnn_regression import smallerResNet\n",
    "from src.grammar.sentences import sentences_Cspacer\n",
    "\n",
    "from tensorflow import keras\n",
    "from keras.preprocessing.text import Tokenizer\n",
    "from keras.preprocessing.sequence import pad_sequences\n",
    "# 3.10.4"
   ]
  },
  {
   "cell_type": "code",
   "execution_count": null,
   "id": "a4d9f415",
   "metadata": {},
   "outputs": [],
   "source": []
  },
  {
   "cell_type": "code",
   "execution_count": 47,
   "id": "2dcdc92d",
   "metadata": {},
   "outputs": [],
   "source": [
    "def one_hot_seqs(seqs) -> np.array:\n",
    "    static_1hotmap = {\n",
    "        'A' : np.array([1,0,0,0]),\n",
    "        'a' : np.array([1,0,0,0]),\n",
    "        'C' : np.array([0,1,0,0]),\n",
    "        'c' : np.array([0,1,0,0]),\n",
    "        'G' : np.array([0,0,1,0]),\n",
    "        'g' : np.array([0,0,1,0]),\n",
    "        'T' : np.array([0,0,0,1]),\n",
    "        't' : np.array([0,0,0,1]),\n",
    "    }\n",
    "    onehot_seqs = []\n",
    "    for seq in seqs:\n",
    "        onehot_seqs.append(\n",
    "            [static_1hotmap[seq[i]] if seq[i] in static_1hotmap.keys() else static_1hotmap[random.choice(['A','C','G','T'])] for i in range(len(seq))]\n",
    "        )\n",
    "    return np.stack(onehot_seqs)"
   ]
  },
  {
   "cell_type": "code",
   "execution_count": null,
   "id": "27dc6b60",
   "metadata": {},
   "outputs": [],
   "source": [
    "activity_df = pd.read_csv('Data/activity.csv', index_col=0)\n",
    "activity_df = activity_df.set_index('label')\n",
    "activity_df['sentence'] = sentences_Cspacer(activity_df.index.to_list(), \"Data/Motifs/summarized_motifs.parquet\")"
   ]
  },
  {
   "cell_type": "code",
   "execution_count": 17,
   "id": "e002f9a5",
   "metadata": {},
   "outputs": [],
   "source": [
    "FEATURE_KEY = 'sequence'\n",
    "LABEL_KEY = 'expression_log2'"
   ]
  },
  {
   "cell_type": "code",
   "execution_count": 32,
   "id": "1dece3c2",
   "metadata": {},
   "outputs": [],
   "source": [
    "sentence_df = pd.read_csv(\"Data/Sentences/sentences.csv\", index_col=0)\n"
   ]
  },
  {
   "cell_type": "code",
   "execution_count": 37,
   "id": "54e68a99",
   "metadata": {},
   "outputs": [
    {
     "data": {
      "text/plain": [
       "36"
      ]
     },
     "execution_count": 37,
     "metadata": {},
     "output_type": "execute_result"
    }
   ],
   "source": [
    "max([len(s.split()) for s in test_df['sentence']])"
   ]
  },
  {
   "cell_type": "code",
   "execution_count": 21,
   "id": "8f2028de",
   "metadata": {},
   "outputs": [],
   "source": [
    "\n",
    "vocab = set()\n",
    "\n",
    "for sentence in sentence_df['sentence'].values:\n",
    "    vocab.update(sentence.split())\n",
    "    \n",
    "vocab_size = len(vocab)+1"
   ]
  },
  {
   "cell_type": "code",
   "execution_count": 19,
   "id": "08f585dc",
   "metadata": {},
   "outputs": [],
   "source": [
    "def tokenize(sentences):\n",
    "    # Create tokenizer\n",
    "    text_tokenizer = Tokenizer()\n",
    "    # Fit texts\n",
    "    text_tokenizer.fit_on_texts(sentences)\n",
    "    return text_tokenizer.texts_to_sequences(sentences)"
   ]
  },
  {
   "cell_type": "code",
   "execution_count": 41,
   "id": "c90d8c6b",
   "metadata": {},
   "outputs": [],
   "source": [
    "sentence_df['tokenized'] = tokenize(sentence_df['sentence'].values)\n",
    "train_df = sentence_df[sentence_df['label'].isin(train_i)]\n",
    "validation_df = sentence_df[sentence_df['label'].isin(validation_i)]\n",
    "test_df = sentence_df[sentence_df['label'].isin(test_i)]"
   ]
  },
  {
   "cell_type": "code",
   "execution_count": 42,
   "id": "6c70c90c",
   "metadata": {},
   "outputs": [
    {
     "data": {
      "text/plain": [
       "81"
      ]
     },
     "execution_count": 42,
     "metadata": {},
     "output_type": "execute_result"
    }
   ],
   "source": [
    "max([len(s) for s in sentence_df['tokenized'].values])"
   ]
  },
  {
   "cell_type": "code",
   "execution_count": 38,
   "id": "273626ed",
   "metadata": {},
   "outputs": [],
   "source": [
    "train_tokenized = tokenize(train_df['sentence'].to_list())\n",
    "validation_tokenized = tokenize(validation_df['sentence'].to_list())\n",
    "test_tokenized = tokenize(test_df['sentence'].to_list())"
   ]
  },
  {
   "cell_type": "code",
   "execution_count": 39,
   "id": "2fcf1fa4",
   "metadata": {},
   "outputs": [
    {
     "data": {
      "text/plain": [
       "(81, 1)"
      ]
     },
     "execution_count": 39,
     "metadata": {},
     "output_type": "execute_result"
    }
   ],
   "source": [
    "max_sentence_length = max([\n",
    "    max([len(s) for s in train_tokenized]),\n",
    "    max([len(s) for s in validation_tokenized]),\n",
    "    max([len(s) for s in test_tokenized])\n",
    "])\n",
    "input_shape = (max_sentence_length,1)\n",
    "input_shape"
   ]
  },
  {
   "cell_type": "code",
   "execution_count": 59,
   "id": "d73e675b",
   "metadata": {},
   "outputs": [],
   "source": [
    "x_train = pad_sequences(train_tokenized, max_sentence_length, padding='post')\n",
    "x_train = x_train.reshape(*x_train.shape,1)\n",
    "y_train = train_df['expression_log2'].values\n",
    "\n",
    "x_validation = pad_sequences(validation_tokenized, max_sentence_length, padding='post')\n",
    "x_validation = x_validation.reshape(*x_validation.shape,1)\n",
    "y_validation = validation_df['expression_log2'].values\n",
    "\n",
    "x_test = pad_sequences(test_tokenized, max_sentence_length, padding='post')\n",
    "x_test = x_test.reshape(*x_test.shape,1)\n",
    "y_test = test_df['expression_log2'].values\n"
   ]
  },
  {
   "cell_type": "code",
   "execution_count": 22,
   "id": "80f7a85b",
   "metadata": {},
   "outputs": [],
   "source": [
    "def coolRNN(input_shape=(input_shape)):\n",
    "    X_input = keras.Input(input_shape, name='InputLayer')\n",
    "\n",
    "    X = keras.layers.LSTM(64,return_sequences=True)(X_input)\n",
    "    X = keras.layers.Flatten()(X)\n",
    "    X = keras.layers.Dense(1)(X)\n",
    "\n",
    "    model = keras.Model(inputs=X_input, outputs=X, name='coolRNN')\n",
    "    \n",
    "    return model"
   ]
  },
  {
   "cell_type": "code",
   "execution_count": 23,
   "id": "20c62c2e",
   "metadata": {},
   "outputs": [
    {
     "name": "stdout",
     "output_type": "stream",
     "text": [
      "Model: \"coolRNN\"\n",
      "_________________________________________________________________\n",
      " Layer (type)                Output Shape              Param #   \n",
      "=================================================================\n",
      " InputLayer (InputLayer)     [(None, 33, 1)]           0         \n",
      "                                                                 \n",
      " lstm (LSTM)                 (None, 33, 64)            16896     \n",
      "                                                                 \n",
      " flatten_3 (Flatten)         (None, 2112)              0         \n",
      "                                                                 \n",
      " dense_9 (Dense)             (None, 1)                 2113      \n",
      "                                                                 \n",
      "=================================================================\n",
      "Total params: 19009 (74.25 KB)\n",
      "Trainable params: 19009 (74.25 KB)\n",
      "Non-trainable params: 0 (0.00 Byte)\n",
      "_________________________________________________________________\n"
     ]
    }
   ],
   "source": [
    "\n",
    "model = coolRNN()\n",
    "model.compile(loss='mean_squared_error', optimizer='adam')\n",
    "model.summary()"
   ]
  },
  {
   "cell_type": "code",
   "execution_count": 24,
   "id": "4a44c2be",
   "metadata": {},
   "outputs": [
    {
     "name": "stdout",
     "output_type": "stream",
     "text": [
      "Epoch 1/20\n"
     ]
    },
    {
     "ename": "ValueError",
     "evalue": "in user code:\n\n    File \"/ref/bclab/software/spack-0.17.2/var/spack/environments/tensorflow-gpu/.spack-env/._view/gctfpgbf2atvptgnwhwmsyrtv7diigjw/lib/python3.10/site-packages/keras/src/engine/training.py\", line 1401, in train_function  *\n        return step_function(self, iterator)\n    File \"/ref/bclab/software/spack-0.17.2/var/spack/environments/tensorflow-gpu/.spack-env/._view/gctfpgbf2atvptgnwhwmsyrtv7diigjw/lib/python3.10/site-packages/keras/src/engine/training.py\", line 1384, in step_function  **\n        outputs = model.distribute_strategy.run(run_step, args=(data,))\n    File \"/ref/bclab/software/spack-0.17.2/var/spack/environments/tensorflow-gpu/.spack-env/._view/gctfpgbf2atvptgnwhwmsyrtv7diigjw/lib/python3.10/site-packages/keras/src/engine/training.py\", line 1373, in run_step  **\n        outputs = model.train_step(data)\n    File \"/ref/bclab/software/spack-0.17.2/var/spack/environments/tensorflow-gpu/.spack-env/._view/gctfpgbf2atvptgnwhwmsyrtv7diigjw/lib/python3.10/site-packages/keras/src/engine/training.py\", line 1150, in train_step\n        y_pred = self(x, training=True)\n    File \"/ref/bclab/software/spack-0.17.2/var/spack/environments/tensorflow-gpu/.spack-env/._view/gctfpgbf2atvptgnwhwmsyrtv7diigjw/lib/python3.10/site-packages/keras/src/utils/traceback_utils.py\", line 70, in error_handler\n        raise e.with_traceback(filtered_tb) from None\n    File \"/ref/bclab/software/spack-0.17.2/var/spack/environments/tensorflow-gpu/.spack-env/._view/gctfpgbf2atvptgnwhwmsyrtv7diigjw/lib/python3.10/site-packages/keras/src/engine/input_spec.py\", line 298, in assert_input_compatibility\n        raise ValueError(\n\n    ValueError: Input 0 of layer \"coolRNN\" is incompatible with the layer: expected shape=(None, 33, 1), found shape=(None, 164, 4)\n",
     "output_type": "error",
     "traceback": [
      "\u001b[0;31m---------------------------------------------------------------------------\u001b[0m",
      "\u001b[0;31mValueError\u001b[0m                                Traceback (most recent call last)",
      "Cell \u001b[0;32mIn[24], line 1\u001b[0m\n\u001b[0;32m----> 1\u001b[0m history \u001b[38;5;241m=\u001b[39m \u001b[43mmodel\u001b[49m\u001b[38;5;241;43m.\u001b[39;49m\u001b[43mfit\u001b[49m\u001b[43m(\u001b[49m\u001b[43mx_train\u001b[49m\u001b[43m,\u001b[49m\u001b[43my_train\u001b[49m\u001b[43m,\u001b[49m\u001b[43mbatch_size\u001b[49m\u001b[38;5;241;43m=\u001b[39;49m\u001b[38;5;241;43m128\u001b[39;49m\u001b[43m,\u001b[49m\u001b[43mepochs\u001b[49m\u001b[38;5;241;43m=\u001b[39;49m\u001b[38;5;241;43m20\u001b[39;49m\u001b[43m)\u001b[49m\n",
      "File \u001b[0;32m/ref/bclab/software/spack-0.17.2/var/spack/environments/tensorflow-gpu/.spack-env/._view/gctfpgbf2atvptgnwhwmsyrtv7diigjw/lib/python3.10/site-packages/keras/src/utils/traceback_utils.py:70\u001b[0m, in \u001b[0;36mfilter_traceback.<locals>.error_handler\u001b[0;34m(*args, **kwargs)\u001b[0m\n\u001b[1;32m     67\u001b[0m     filtered_tb \u001b[38;5;241m=\u001b[39m _process_traceback_frames(e\u001b[38;5;241m.\u001b[39m__traceback__)\n\u001b[1;32m     68\u001b[0m     \u001b[38;5;66;03m# To get the full stack trace, call:\u001b[39;00m\n\u001b[1;32m     69\u001b[0m     \u001b[38;5;66;03m# `tf.debugging.disable_traceback_filtering()`\u001b[39;00m\n\u001b[0;32m---> 70\u001b[0m     \u001b[38;5;28;01mraise\u001b[39;00m e\u001b[38;5;241m.\u001b[39mwith_traceback(filtered_tb) \u001b[38;5;28;01mfrom\u001b[39;00m \u001b[38;5;28;01mNone\u001b[39;00m\n\u001b[1;32m     71\u001b[0m \u001b[38;5;28;01mfinally\u001b[39;00m:\n\u001b[1;32m     72\u001b[0m     \u001b[38;5;28;01mdel\u001b[39;00m filtered_tb\n",
      "File \u001b[0;32m/tmp/__autograph_generated_file6afawwt5.py:15\u001b[0m, in \u001b[0;36mouter_factory.<locals>.inner_factory.<locals>.tf__train_function\u001b[0;34m(iterator)\u001b[0m\n\u001b[1;32m     13\u001b[0m \u001b[38;5;28;01mtry\u001b[39;00m:\n\u001b[1;32m     14\u001b[0m     do_return \u001b[38;5;241m=\u001b[39m \u001b[38;5;28;01mTrue\u001b[39;00m\n\u001b[0;32m---> 15\u001b[0m     retval_ \u001b[38;5;241m=\u001b[39m ag__\u001b[38;5;241m.\u001b[39mconverted_call(ag__\u001b[38;5;241m.\u001b[39mld(step_function), (ag__\u001b[38;5;241m.\u001b[39mld(\u001b[38;5;28mself\u001b[39m), ag__\u001b[38;5;241m.\u001b[39mld(iterator)), \u001b[38;5;28;01mNone\u001b[39;00m, fscope)\n\u001b[1;32m     16\u001b[0m \u001b[38;5;28;01mexcept\u001b[39;00m:\n\u001b[1;32m     17\u001b[0m     do_return \u001b[38;5;241m=\u001b[39m \u001b[38;5;28;01mFalse\u001b[39;00m\n",
      "\u001b[0;31mValueError\u001b[0m: in user code:\n\n    File \"/ref/bclab/software/spack-0.17.2/var/spack/environments/tensorflow-gpu/.spack-env/._view/gctfpgbf2atvptgnwhwmsyrtv7diigjw/lib/python3.10/site-packages/keras/src/engine/training.py\", line 1401, in train_function  *\n        return step_function(self, iterator)\n    File \"/ref/bclab/software/spack-0.17.2/var/spack/environments/tensorflow-gpu/.spack-env/._view/gctfpgbf2atvptgnwhwmsyrtv7diigjw/lib/python3.10/site-packages/keras/src/engine/training.py\", line 1384, in step_function  **\n        outputs = model.distribute_strategy.run(run_step, args=(data,))\n    File \"/ref/bclab/software/spack-0.17.2/var/spack/environments/tensorflow-gpu/.spack-env/._view/gctfpgbf2atvptgnwhwmsyrtv7diigjw/lib/python3.10/site-packages/keras/src/engine/training.py\", line 1373, in run_step  **\n        outputs = model.train_step(data)\n    File \"/ref/bclab/software/spack-0.17.2/var/spack/environments/tensorflow-gpu/.spack-env/._view/gctfpgbf2atvptgnwhwmsyrtv7diigjw/lib/python3.10/site-packages/keras/src/engine/training.py\", line 1150, in train_step\n        y_pred = self(x, training=True)\n    File \"/ref/bclab/software/spack-0.17.2/var/spack/environments/tensorflow-gpu/.spack-env/._view/gctfpgbf2atvptgnwhwmsyrtv7diigjw/lib/python3.10/site-packages/keras/src/utils/traceback_utils.py\", line 70, in error_handler\n        raise e.with_traceback(filtered_tb) from None\n    File \"/ref/bclab/software/spack-0.17.2/var/spack/environments/tensorflow-gpu/.spack-env/._view/gctfpgbf2atvptgnwhwmsyrtv7diigjw/lib/python3.10/site-packages/keras/src/engine/input_spec.py\", line 298, in assert_input_compatibility\n        raise ValueError(\n\n    ValueError: Input 0 of layer \"coolRNN\" is incompatible with the layer: expected shape=(None, 33, 1), found shape=(None, 164, 4)\n"
     ]
    }
   ],
   "source": [
    "history = model.fit(x_train,y_train,batch_size=128,epochs=20)"
   ]
  },
  {
   "cell_type": "code",
   "execution_count": 70,
   "id": "d490437b",
   "metadata": {},
   "outputs": [
    {
     "data": {
      "text/plain": [
       "{'loss': [10.18856143951416,\n",
       "  9.812065124511719,\n",
       "  9.742993354797363,\n",
       "  9.688549995422363,\n",
       "  9.623767852783203,\n",
       "  9.544726371765137,\n",
       "  9.47740650177002,\n",
       "  9.3971529006958,\n",
       "  9.326369285583496,\n",
       "  9.242609024047852,\n",
       "  9.166191101074219,\n",
       "  9.083224296569824,\n",
       "  8.992240905761719,\n",
       "  8.901432991027832,\n",
       "  8.835554122924805,\n",
       "  8.741174697875977,\n",
       "  8.670454978942871,\n",
       "  8.584476470947266,\n",
       "  8.509294509887695,\n",
       "  8.434361457824707]}"
      ]
     },
     "execution_count": 70,
     "metadata": {},
     "output_type": "execute_result"
    }
   ],
   "source": [
    "history.history"
   ]
  },
  {
   "cell_type": "code",
   "execution_count": 72,
   "id": "010dbdcc",
   "metadata": {},
   "outputs": [
    {
     "name": "stdout",
     "output_type": "stream",
     "text": [
      "Model: \"ResNet50\"\n",
      "__________________________________________________________________________________________________\n",
      " Layer (type)                Output Shape                 Param #   Connected to                  \n",
      "==================================================================================================\n",
      " input_1 (InputLayer)        [(None, 164, 4)]             0         []                            \n",
      "                                                                                                  \n",
      " zero_padding1d (ZeroPaddin  (None, 170, 4)               0         ['input_1[0][0]']             \n",
      " g1D)                                                                                             \n",
      "                                                                                                  \n",
      " conv1 (Conv1D)              (None, 82, 64)               1856      ['zero_padding1d[0][0]']      \n",
      "                                                                                                  \n",
      " bn_conv1 (BatchNormalizati  (None, 82, 64)               256       ['conv1[0][0]']               \n",
      " on)                                                                                              \n",
      "                                                                                                  \n",
      " activation (Activation)     (None, 82, 64)               0         ['bn_conv1[0][0]']            \n",
      "                                                                                                  \n",
      " dropout1 (MCDropout)        (None, 82, 64)               0         ['activation[0][0]']          \n",
      "                                                                                                  \n",
      " max_pooling1d (MaxPooling1  (None, 40, 64)               0         ['dropout1[0][0]']            \n",
      " D)                                                                                               \n",
      "                                                                                                  \n",
      " res2a_branch2a (Conv1D)     (None, 40, 64)               4160      ['max_pooling1d[0][0]']       \n",
      "                                                                                                  \n",
      " bn2a_branch2a (BatchNormal  (None, 40, 64)               256       ['res2a_branch2a[0][0]']      \n",
      " ization)                                                                                         \n",
      "                                                                                                  \n",
      " activation_1 (Activation)   (None, 40, 64)               0         ['bn2a_branch2a[0][0]']       \n",
      "                                                                                                  \n",
      " res2a_branch2b (Conv1D)     (None, 40, 64)               12352     ['activation_1[0][0]']        \n",
      "                                                                                                  \n",
      " bn2a_branch2b (BatchNormal  (None, 40, 64)               256       ['res2a_branch2b[0][0]']      \n",
      " ization)                                                                                         \n",
      "                                                                                                  \n",
      " activation_2 (Activation)   (None, 40, 64)               0         ['bn2a_branch2b[0][0]']       \n",
      "                                                                                                  \n",
      " res2a_branch2c (Conv1D)     (None, 40, 256)              16640     ['activation_2[0][0]']        \n",
      "                                                                                                  \n",
      " res2a_branch1 (Conv1D)      (None, 40, 256)              16640     ['max_pooling1d[0][0]']       \n",
      "                                                                                                  \n",
      " bn2a_branch2c (BatchNormal  (None, 40, 256)              1024      ['res2a_branch2c[0][0]']      \n",
      " ization)                                                                                         \n",
      "                                                                                                  \n",
      " bn2a_branch1 (BatchNormali  (None, 40, 256)              1024      ['res2a_branch1[0][0]']       \n",
      " zation)                                                                                          \n",
      "                                                                                                  \n",
      " add (Add)                   (None, 40, 256)              0         ['bn2a_branch2c[0][0]',       \n",
      "                                                                     'bn2a_branch1[0][0]']        \n",
      "                                                                                                  \n",
      " activation_3 (Activation)   (None, 40, 256)              0         ['add[0][0]']                 \n",
      "                                                                                                  \n",
      " res2b_branch2a (Conv1D)     (None, 40, 64)               16448     ['activation_3[0][0]']        \n",
      "                                                                                                  \n",
      " bn2b_branch2a (BatchNormal  (None, 40, 64)               256       ['res2b_branch2a[0][0]']      \n",
      " ization)                                                                                         \n",
      "                                                                                                  \n",
      " activation_4 (Activation)   (None, 40, 64)               0         ['bn2b_branch2a[0][0]']       \n",
      "                                                                                                  \n",
      " res2b_branch2b (Conv1D)     (None, 40, 64)               12352     ['activation_4[0][0]']        \n",
      "                                                                                                  \n",
      " bn2b_branch2b (BatchNormal  (None, 40, 64)               256       ['res2b_branch2b[0][0]']      \n",
      " ization)                                                                                         \n",
      "                                                                                                  \n",
      " activation_5 (Activation)   (None, 40, 64)               0         ['bn2b_branch2b[0][0]']       \n",
      "                                                                                                  \n",
      " res2b_branch2c (Conv1D)     (None, 40, 256)              16640     ['activation_5[0][0]']        \n",
      "                                                                                                  \n",
      " bn2b_branch2c (BatchNormal  (None, 40, 256)              1024      ['res2b_branch2c[0][0]']      \n",
      " ization)                                                                                         \n",
      "                                                                                                  \n",
      " add_1 (Add)                 (None, 40, 256)              0         ['bn2b_branch2c[0][0]',       \n",
      "                                                                     'activation_3[0][0]']        \n",
      "                                                                                                  \n",
      " activation_6 (Activation)   (None, 40, 256)              0         ['add_1[0][0]']               \n",
      "                                                                                                  \n",
      " res2c_branch2a (Conv1D)     (None, 40, 64)               16448     ['activation_6[0][0]']        \n",
      "                                                                                                  \n",
      " bn2c_branch2a (BatchNormal  (None, 40, 64)               256       ['res2c_branch2a[0][0]']      \n",
      " ization)                                                                                         \n",
      "                                                                                                  \n",
      " activation_7 (Activation)   (None, 40, 64)               0         ['bn2c_branch2a[0][0]']       \n",
      "                                                                                                  \n",
      " res2c_branch2b (Conv1D)     (None, 40, 64)               12352     ['activation_7[0][0]']        \n",
      "                                                                                                  \n",
      " bn2c_branch2b (BatchNormal  (None, 40, 64)               256       ['res2c_branch2b[0][0]']      \n",
      " ization)                                                                                         \n",
      "                                                                                                  \n",
      " activation_8 (Activation)   (None, 40, 64)               0         ['bn2c_branch2b[0][0]']       \n",
      "                                                                                                  \n",
      " res2c_branch2c (Conv1D)     (None, 40, 256)              16640     ['activation_8[0][0]']        \n",
      "                                                                                                  \n",
      " bn2c_branch2c (BatchNormal  (None, 40, 256)              1024      ['res2c_branch2c[0][0]']      \n",
      " ization)                                                                                         \n",
      "                                                                                                  \n",
      " add_2 (Add)                 (None, 40, 256)              0         ['bn2c_branch2c[0][0]',       \n",
      "                                                                     'activation_6[0][0]']        \n",
      "                                                                                                  \n",
      " activation_9 (Activation)   (None, 40, 256)              0         ['add_2[0][0]']               \n",
      "                                                                                                  \n",
      " dropout2 (MCDropout)        (None, 40, 256)              0         ['activation_9[0][0]']        \n",
      "                                                                                                  \n",
      " res3a_branch2a (Conv1D)     (None, 20, 128)              32896     ['dropout2[0][0]']            \n",
      "                                                                                                  \n",
      " bn3a_branch2a (BatchNormal  (None, 20, 128)              512       ['res3a_branch2a[0][0]']      \n",
      " ization)                                                                                         \n",
      "                                                                                                  \n",
      " activation_10 (Activation)  (None, 20, 128)              0         ['bn3a_branch2a[0][0]']       \n",
      "                                                                                                  \n",
      " res3a_branch2b (Conv1D)     (None, 20, 128)              49280     ['activation_10[0][0]']       \n",
      "                                                                                                  \n",
      " bn3a_branch2b (BatchNormal  (None, 20, 128)              512       ['res3a_branch2b[0][0]']      \n",
      " ization)                                                                                         \n",
      "                                                                                                  \n",
      " activation_11 (Activation)  (None, 20, 128)              0         ['bn3a_branch2b[0][0]']       \n",
      "                                                                                                  \n",
      " res3a_branch2c (Conv1D)     (None, 20, 512)              66048     ['activation_11[0][0]']       \n",
      "                                                                                                  \n",
      " res3a_branch1 (Conv1D)      (None, 20, 512)              131584    ['dropout2[0][0]']            \n",
      "                                                                                                  \n",
      " bn3a_branch2c (BatchNormal  (None, 20, 512)              2048      ['res3a_branch2c[0][0]']      \n",
      " ization)                                                                                         \n",
      "                                                                                                  \n",
      " bn3a_branch1 (BatchNormali  (None, 20, 512)              2048      ['res3a_branch1[0][0]']       \n",
      " zation)                                                                                          \n",
      "                                                                                                  \n",
      " add_3 (Add)                 (None, 20, 512)              0         ['bn3a_branch2c[0][0]',       \n",
      "                                                                     'bn3a_branch1[0][0]']        \n",
      "                                                                                                  \n",
      " activation_12 (Activation)  (None, 20, 512)              0         ['add_3[0][0]']               \n",
      "                                                                                                  \n",
      " res3b_branch2a (Conv1D)     (None, 20, 128)              65664     ['activation_12[0][0]']       \n",
      "                                                                                                  \n",
      " bn3b_branch2a (BatchNormal  (None, 20, 128)              512       ['res3b_branch2a[0][0]']      \n",
      " ization)                                                                                         \n",
      "                                                                                                  \n",
      " activation_13 (Activation)  (None, 20, 128)              0         ['bn3b_branch2a[0][0]']       \n",
      "                                                                                                  \n",
      " res3b_branch2b (Conv1D)     (None, 20, 128)              49280     ['activation_13[0][0]']       \n",
      "                                                                                                  \n",
      " bn3b_branch2b (BatchNormal  (None, 20, 128)              512       ['res3b_branch2b[0][0]']      \n",
      " ization)                                                                                         \n",
      "                                                                                                  \n",
      " activation_14 (Activation)  (None, 20, 128)              0         ['bn3b_branch2b[0][0]']       \n",
      "                                                                                                  \n",
      " res3b_branch2c (Conv1D)     (None, 20, 512)              66048     ['activation_14[0][0]']       \n",
      "                                                                                                  \n",
      " bn3b_branch2c (BatchNormal  (None, 20, 512)              2048      ['res3b_branch2c[0][0]']      \n",
      " ization)                                                                                         \n",
      "                                                                                                  \n",
      " add_4 (Add)                 (None, 20, 512)              0         ['bn3b_branch2c[0][0]',       \n",
      "                                                                     'activation_12[0][0]']       \n",
      "                                                                                                  \n",
      " activation_15 (Activation)  (None, 20, 512)              0         ['add_4[0][0]']               \n",
      "                                                                                                  \n",
      " res3c_branch2a (Conv1D)     (None, 20, 128)              65664     ['activation_15[0][0]']       \n",
      "                                                                                                  \n",
      " bn3c_branch2a (BatchNormal  (None, 20, 128)              512       ['res3c_branch2a[0][0]']      \n",
      " ization)                                                                                         \n",
      "                                                                                                  \n",
      " activation_16 (Activation)  (None, 20, 128)              0         ['bn3c_branch2a[0][0]']       \n",
      "                                                                                                  \n",
      " res3c_branch2b (Conv1D)     (None, 20, 128)              49280     ['activation_16[0][0]']       \n",
      "                                                                                                  \n",
      " bn3c_branch2b (BatchNormal  (None, 20, 128)              512       ['res3c_branch2b[0][0]']      \n",
      " ization)                                                                                         \n",
      "                                                                                                  \n",
      " activation_17 (Activation)  (None, 20, 128)              0         ['bn3c_branch2b[0][0]']       \n",
      "                                                                                                  \n",
      " res3c_branch2c (Conv1D)     (None, 20, 512)              66048     ['activation_17[0][0]']       \n",
      "                                                                                                  \n",
      " bn3c_branch2c (BatchNormal  (None, 20, 512)              2048      ['res3c_branch2c[0][0]']      \n",
      " ization)                                                                                         \n",
      "                                                                                                  \n",
      " add_5 (Add)                 (None, 20, 512)              0         ['bn3c_branch2c[0][0]',       \n",
      "                                                                     'activation_15[0][0]']       \n",
      "                                                                                                  \n",
      " activation_18 (Activation)  (None, 20, 512)              0         ['add_5[0][0]']               \n",
      "                                                                                                  \n",
      " dropout3 (MCDropout)        (None, 20, 512)              0         ['activation_18[0][0]']       \n",
      "                                                                                                  \n",
      " res4a_branch2a (Conv1D)     (None, 10, 256)              131328    ['dropout3[0][0]']            \n",
      "                                                                                                  \n",
      " bn4a_branch2a (BatchNormal  (None, 10, 256)              1024      ['res4a_branch2a[0][0]']      \n",
      " ization)                                                                                         \n",
      "                                                                                                  \n",
      " activation_19 (Activation)  (None, 10, 256)              0         ['bn4a_branch2a[0][0]']       \n",
      "                                                                                                  \n",
      " res4a_branch2b (Conv1D)     (None, 10, 256)              196864    ['activation_19[0][0]']       \n",
      "                                                                                                  \n",
      " bn4a_branch2b (BatchNormal  (None, 10, 256)              1024      ['res4a_branch2b[0][0]']      \n",
      " ization)                                                                                         \n",
      "                                                                                                  \n",
      " activation_20 (Activation)  (None, 10, 256)              0         ['bn4a_branch2b[0][0]']       \n",
      "                                                                                                  \n",
      " res4a_branch2c (Conv1D)     (None, 10, 1024)             263168    ['activation_20[0][0]']       \n",
      "                                                                                                  \n",
      " res4a_branch1 (Conv1D)      (None, 10, 1024)             525312    ['dropout3[0][0]']            \n",
      "                                                                                                  \n",
      " bn4a_branch2c (BatchNormal  (None, 10, 1024)             4096      ['res4a_branch2c[0][0]']      \n",
      " ization)                                                                                         \n",
      "                                                                                                  \n",
      " bn4a_branch1 (BatchNormali  (None, 10, 1024)             4096      ['res4a_branch1[0][0]']       \n",
      " zation)                                                                                          \n",
      "                                                                                                  \n",
      " add_6 (Add)                 (None, 10, 1024)             0         ['bn4a_branch2c[0][0]',       \n",
      "                                                                     'bn4a_branch1[0][0]']        \n",
      "                                                                                                  \n",
      " activation_21 (Activation)  (None, 10, 1024)             0         ['add_6[0][0]']               \n",
      "                                                                                                  \n",
      " res4b_branch2a (Conv1D)     (None, 10, 256)              262400    ['activation_21[0][0]']       \n",
      "                                                                                                  \n",
      " bn4b_branch2a (BatchNormal  (None, 10, 256)              1024      ['res4b_branch2a[0][0]']      \n",
      " ization)                                                                                         \n",
      "                                                                                                  \n",
      " activation_22 (Activation)  (None, 10, 256)              0         ['bn4b_branch2a[0][0]']       \n",
      "                                                                                                  \n",
      " res4b_branch2b (Conv1D)     (None, 10, 256)              196864    ['activation_22[0][0]']       \n",
      "                                                                                                  \n",
      " bn4b_branch2b (BatchNormal  (None, 10, 256)              1024      ['res4b_branch2b[0][0]']      \n",
      " ization)                                                                                         \n",
      "                                                                                                  \n",
      " activation_23 (Activation)  (None, 10, 256)              0         ['bn4b_branch2b[0][0]']       \n",
      "                                                                                                  \n",
      " res4b_branch2c (Conv1D)     (None, 10, 1024)             263168    ['activation_23[0][0]']       \n",
      "                                                                                                  \n",
      " bn4b_branch2c (BatchNormal  (None, 10, 1024)             4096      ['res4b_branch2c[0][0]']      \n",
      " ization)                                                                                         \n",
      "                                                                                                  \n",
      " add_7 (Add)                 (None, 10, 1024)             0         ['bn4b_branch2c[0][0]',       \n",
      "                                                                     'activation_21[0][0]']       \n",
      "                                                                                                  \n",
      " activation_24 (Activation)  (None, 10, 1024)             0         ['add_7[0][0]']               \n",
      "                                                                                                  \n",
      " res4c_branch2a (Conv1D)     (None, 10, 256)              262400    ['activation_24[0][0]']       \n",
      "                                                                                                  \n",
      " bn4c_branch2a (BatchNormal  (None, 10, 256)              1024      ['res4c_branch2a[0][0]']      \n",
      " ization)                                                                                         \n",
      "                                                                                                  \n",
      " activation_25 (Activation)  (None, 10, 256)              0         ['bn4c_branch2a[0][0]']       \n",
      "                                                                                                  \n",
      " res4c_branch2b (Conv1D)     (None, 10, 256)              196864    ['activation_25[0][0]']       \n",
      "                                                                                                  \n",
      " bn4c_branch2b (BatchNormal  (None, 10, 256)              1024      ['res4c_branch2b[0][0]']      \n",
      " ization)                                                                                         \n",
      "                                                                                                  \n",
      " activation_26 (Activation)  (None, 10, 256)              0         ['bn4c_branch2b[0][0]']       \n",
      "                                                                                                  \n",
      " res4c_branch2c (Conv1D)     (None, 10, 1024)             263168    ['activation_26[0][0]']       \n",
      "                                                                                                  \n",
      " bn4c_branch2c (BatchNormal  (None, 10, 1024)             4096      ['res4c_branch2c[0][0]']      \n",
      " ization)                                                                                         \n",
      "                                                                                                  \n",
      " add_8 (Add)                 (None, 10, 1024)             0         ['bn4c_branch2c[0][0]',       \n",
      "                                                                     'activation_24[0][0]']       \n",
      "                                                                                                  \n",
      " activation_27 (Activation)  (None, 10, 1024)             0         ['add_8[0][0]']               \n",
      "                                                                                                  \n",
      " res4d_branch2a (Conv1D)     (None, 10, 256)              262400    ['activation_27[0][0]']       \n",
      "                                                                                                  \n",
      " bn4d_branch2a (BatchNormal  (None, 10, 256)              1024      ['res4d_branch2a[0][0]']      \n",
      " ization)                                                                                         \n",
      "                                                                                                  \n",
      " activation_28 (Activation)  (None, 10, 256)              0         ['bn4d_branch2a[0][0]']       \n",
      "                                                                                                  \n",
      " res4d_branch2b (Conv1D)     (None, 10, 256)              196864    ['activation_28[0][0]']       \n",
      "                                                                                                  \n",
      " bn4d_branch2b (BatchNormal  (None, 10, 256)              1024      ['res4d_branch2b[0][0]']      \n",
      " ization)                                                                                         \n",
      "                                                                                                  \n",
      " activation_29 (Activation)  (None, 10, 256)              0         ['bn4d_branch2b[0][0]']       \n",
      "                                                                                                  \n",
      " res4d_branch2c (Conv1D)     (None, 10, 1024)             263168    ['activation_29[0][0]']       \n",
      "                                                                                                  \n",
      " bn4d_branch2c (BatchNormal  (None, 10, 1024)             4096      ['res4d_branch2c[0][0]']      \n",
      " ization)                                                                                         \n",
      "                                                                                                  \n",
      " add_9 (Add)                 (None, 10, 1024)             0         ['bn4d_branch2c[0][0]',       \n",
      "                                                                     'activation_27[0][0]']       \n",
      "                                                                                                  \n",
      " activation_30 (Activation)  (None, 10, 1024)             0         ['add_9[0][0]']               \n",
      "                                                                                                  \n",
      " dropout4 (MCDropout)        (None, 10, 1024)             0         ['activation_30[0][0]']       \n",
      "                                                                                                  \n",
      " average_pooling1d (Average  (None, 3, 1024)              0         ['dropout4[0][0]']            \n",
      " Pooling1D)                                                                                       \n",
      "                                                                                                  \n",
      " flatten_5 (Flatten)         (None, 3072)                 0         ['average_pooling1d[0][0]']   \n",
      "                                                                                                  \n",
      " dense_15 (Dense)            (None, 256)                  786688    ['flatten_5[0][0]']           \n",
      "                                                                                                  \n",
      " dense_16 (Dense)            (None, 128)                  32896     ['dense_15[0][0]']            \n",
      "                                                                                                  \n",
      " dense_17 (Dense)            (None, 1)                    129       ['dense_16[0][0]']            \n",
      "                                                                                                  \n",
      "==================================================================================================\n",
      "Total params: 4933825 (18.82 MB)\n",
      "Trainable params: 4910913 (18.73 MB)\n",
      "Non-trainable params: 22912 (89.50 KB)\n",
      "__________________________________________________________________________________________________\n"
     ]
    }
   ],
   "source": [
    "test = smallerResNet()\n",
    "test.summary()"
   ]
  },
  {
   "cell_type": "code",
   "execution_count": null,
   "id": "4b06af0c",
   "metadata": {},
   "outputs": [],
   "source": []
  }
 ],
 "metadata": {
  "kernelspec": {
   "display_name": "Python 3 (ipykernel)",
   "language": "python",
   "name": "python3"
  },
  "language_info": {
   "codemirror_mode": {
    "name": "ipython",
    "version": 3
   },
   "file_extension": ".py",
   "mimetype": "text/x-python",
   "name": "python",
   "nbconvert_exporter": "python",
   "pygments_lexer": "ipython3",
   "version": "3.10.4"
  }
 },
 "nbformat": 4,
 "nbformat_minor": 5
}
