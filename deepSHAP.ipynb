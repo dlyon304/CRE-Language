{
 "cells": [
  {
   "cell_type": "code",
   "execution_count": 1,
   "id": "02a74dff",
   "metadata": {},
   "outputs": [],
   "source": [
    "%load_ext autoreload\n",
    "\n",
    "%autoreload 2"
   ]
  },
  {
   "cell_type": "code",
   "execution_count": 2,
   "id": "10c145b7",
   "metadata": {},
   "outputs": [
    {
     "name": "stderr",
     "output_type": "stream",
     "text": [
      "2024-03-20 13:31:27.572392: E external/local_xla/xla/stream_executor/cuda/cuda_dnn.cc:9261] Unable to register cuDNN factory: Attempting to register factory for plugin cuDNN when one has already been registered\n",
      "2024-03-20 13:31:27.572448: E external/local_xla/xla/stream_executor/cuda/cuda_fft.cc:607] Unable to register cuFFT factory: Attempting to register factory for plugin cuFFT when one has already been registered\n",
      "2024-03-20 13:31:27.596900: E external/local_xla/xla/stream_executor/cuda/cuda_blas.cc:1515] Unable to register cuBLAS factory: Attempting to register factory for plugin cuBLAS when one has already been registered\n",
      "2024-03-20 13:31:35.851844: W tensorflow/compiler/tf2tensorrt/utils/py_utils.cc:38] TF-TRT Warning: Could not find TensorRT\n"
     ]
    }
   ],
   "source": [
    "\n",
    "import pandas as pd\n",
    "import os\n",
    "os.environ['TF_CPP_MIN_LOG_LEVEL'] = '1'\n",
    "import glob\n",
    "import numpy as np\n",
    "import statistics as stats\n",
    "import scipy\n",
    "import math\n",
    "import matplotlib.pyplot as plt\n",
    "import random\n",
    "import h5py\n",
    "\n",
    "from src.tf_tools.rnn_regression import coolRNN\n",
    "from src.tf_tools.cnn_regression import originalResNet, tranferNet, MCDropout\n",
    "from src.grammar.sentences import sentences_Cspacer\n",
    "\n",
    "from tensorflow import keras\n",
    "from keras import layers\n",
    "from keras.preprocessing.text import Tokenizer\n",
    "from keras.preprocessing.sequence import pad_sequences\n",
    "from scipy.stats import linregress, spearmanr\n",
    "from sklearn.metrics import ConfusionMatrixDisplay\n",
    "\n",
    "import shap\n",
    "from deeplift.visualization import viz_sequence\n",
    "# 3.10.4"
   ]
  },
  {
   "cell_type": "code",
   "execution_count": null,
   "id": "8b2594d9",
   "metadata": {},
   "outputs": [],
   "source": []
  },
  {
   "cell_type": "code",
   "execution_count": null,
   "id": "865c7166",
   "metadata": {},
   "outputs": [],
   "source": []
  },
  {
   "cell_type": "code",
   "execution_count": 40,
   "id": "2dcdc92d",
   "metadata": {},
   "outputs": [],
   "source": [
    "def one_hot_seqs(seqs) -> np.array:\n",
    "    static_1hotmap = {\n",
    "        'A' : np.array([1,0,0,0]),\n",
    "        'a' : np.array([1,0,0,0]),\n",
    "        'C' : np.array([0,1,0,0]),\n",
    "        'c' : np.array([0,1,0,0]),\n",
    "        'G' : np.array([0,0,1,0]),\n",
    "        'g' : np.array([0,0,1,0]),\n",
    "        'T' : np.array([0,0,0,1]),\n",
    "        't' : np.array([0,0,0,1]),\n",
    "    }\n",
    "    onehot_seqs = []\n",
    "    for seq in seqs:\n",
    "        onehot_seqs.append(\n",
    "            [static_1hotmap[seq[i]] if seq[i] in static_1hotmap.keys() else static_1hotmap[random.choice(['A','C','G','T'])] for i in range(len(seq))]\n",
    "        )\n",
    "    return np.stack(onehot_seqs)\n",
    "\n",
    "def eval_models(paths,x,y, batch_size=64,type='sigmoid'):\n",
    "    best_loss = [None,-1]\n",
    "    best_acc = [None,0,[]]\n",
    "\n",
    "    for path in paths:\n",
    "        model = keras.models.load_model(path)\n",
    "        \n",
    "        # Find model with lowest loss\n",
    "        loss = model.evaluate(x,y,batch_size=batch_size,verbose=0)\n",
    "        if best_loss[1] == -1:\n",
    "            best_loss = [path,loss]\n",
    "        else:\n",
    "            if loss < best_loss[1]:\n",
    "                best_loss = [path,loss]\n",
    "        \n",
    "        if type == 'sigmoid':\n",
    "            #Find model with best accuracy\n",
    "            preds = model.predict(x,verbose=0).flatten()\n",
    "            rounder = np.vectorize(lambda x: 1 if x>=0.5 else 0)\n",
    "            preds = rounder(preds)\n",
    "            incorrect = np.count_nonzero((preds+y) == 1)\n",
    "            accuracy = (len(preds) - incorrect)/len(preds)\n",
    "            #print('accuracy:', accuracy)\n",
    "            if accuracy > best_acc[1]:\n",
    "                best_acc = [path,accuracy,preds]\n",
    "        elif type == 'softmax':\n",
    "            y_pred1 = model.predict(x, verbose=0)\n",
    "            y_pred = np.argmax(y_pred1, axis=1).flatten(),\n",
    "            correct = 0\n",
    "            y_true = np.argmax(y,axis=1)\n",
    "            n = len(y)\n",
    "            for i in range(n):\n",
    "                if y_true[i] == y_pred[0][i]:\n",
    "                    correct += 1\n",
    "            accuracy = correct/n\n",
    "            if accuracy > best_acc[1]:\n",
    "                best_acc = [path,accuracy,y_pred1]\n",
    "            \n",
    "    return {'loss': best_loss, 'accuracy': best_acc}\n",
    "        \n",
    "        \n",
    "        \n",
    "def cc_performance(model,x,y,num_test=20):\n",
    "    \n",
    "    predictions = []\n",
    "    for _ in range(num_test):\n",
    "        predictions.append(model.predict(x, verbose=0).flatten())\n",
    "    predictions = np.stack(predictions)\n",
    "    print(predictions.shape)\n",
    "    preds_mean = np.mean(predictions,axis=0)\n",
    "    pcc = linregress(preds_mean, y).rvalue\n",
    "    scc = spearmanr(preds_mean,y).statistic\n",
    "    \n",
    "    stats = pd.Series(\n",
    "        [pcc,scc],\n",
    "        index=['pcc','scc'],\n",
    "        name='metrics'\n",
    "    )\n",
    "    \n",
    "    return stats\n",
    "    \n",
    "        \n",
    "    "
   ]
  },
  {
   "cell_type": "code",
   "execution_count": 42,
   "id": "27dc6b60",
   "metadata": {},
   "outputs": [],
   "source": [
    "# activity_df = pd.read_csv('Data/activity.csv', index_col=0)\n",
    "# activity_df = activity_df.set_index('label')\n",
    "\n",
    "activity_df = pd.read_csv('Data/ATAC/ATAC.csv', index_col=0)\n",
    "FEATURE_KEY = 'sequence'\n",
    "LABEL_KEY = 'open'\n",
    "test_df = activity_df[activity_df['test_set']]\n",
    "validation_df = activity_df[activity_df['validation_set']]\n",
    "train_df = activity_df[activity_df['train_set']]\n",
    "\n",
    "x_test = one_hot_seqs(test_df[FEATURE_KEY])\n",
    "x_validation = one_hot_seqs(validation_df[FEATURE_KEY])\n",
    "x_train = one_hot_seqs(train_df[FEATURE_KEY])\n",
    "\n",
    "y_test = test_df[LABEL_KEY].values\n",
    "y_validation = validation_df[LABEL_KEY].values\n",
    "y_train = train_df[LABEL_KEY].values\n",
    "\n",
    "num_classes=2\n",
    "y_train = keras.utils.to_categorical(y_train, num_classes)\n",
    "y_validation = keras.utils.to_categorical(y_validation, num_classes)\n",
    "y_test = keras.utils.to_categorical(y_test, num_classes)\n"
   ]
  },
  {
   "cell_type": "code",
   "execution_count": 43,
   "id": "38638dbe",
   "metadata": {},
   "outputs": [],
   "source": [
    "folder = \"Runs/atac_best\"\n",
    "folds = [str(i+1) for i in range(10)]\n",
    "\n",
    "#paths = [os.path.join(folder,fold,'cnn_model.keras') for fold in folds]\n",
    "paths = glob.glob(folder+'/*/cnn_model.keras')\n",
    "\n",
    "best_models = eval_models(paths,x_test,y_test,type='softmax')\n",
    "\n"
   ]
  },
  {
   "cell_type": "code",
   "execution_count": 45,
   "id": "e002f9a5",
   "metadata": {},
   "outputs": [
    {
     "name": "stdout",
     "output_type": "stream",
     "text": [
      "Best Model Accuracy: 0.7076263285474548\n"
     ]
    },
    {
     "data": {
      "image/png": "[encoded data removed]",
      "text/plain": [
       "<Figure size 640x480 with 2 Axes>"
      ]
     },
     "metadata": {},
     "output_type": "display_data"
    }
   ],
   "source": [
    "\n",
    "\n",
    "ConfusionMatrixDisplay.from_predictions(np.argmax(y_test,axis=1),np.argmax(best_models['accuracy'][2],axis=1))\n",
    "print(\"Best Model Accuracy:\", best_models['accuracy'][1])\n",
    "\n"
   ]
  },
  {
   "cell_type": "code",
   "execution_count": 55,
   "id": "3fcd7b76",
   "metadata": {},
   "outputs": [],
   "source": [
    "atac_model = keras.models.load_model(best_models['loss'][0])\n",
    "atac_model_copy = keras.models.clone_model(atac_model)\n",
    "atac_model_copy.set_weights(atac_model.get_weights())"
   ]
  },
  {
   "cell_type": "code",
   "execution_count": 98,
   "id": "9fa6485c",
   "metadata": {},
   "outputs": [],
   "source": [
    "atac_model.set_weights(atac_model_copy.get_weights())"
   ]
  },
  {
   "cell_type": "code",
   "execution_count": 99,
   "id": "b80519fc",
   "metadata": {},
   "outputs": [
    {
     "name": "stdout",
     "output_type": "stream",
     "text": [
      "conv_0\n",
      "conv_bn_0\n",
      "activation\n",
      "conv_1\n",
      "conv_bn_1\n",
      "activation_1\n",
      "conv_2\n",
      "conv_bn_2\n",
      "activation_2\n",
      "conv_3\n",
      "conv_bn_3\n",
      "activation_3\n",
      "conv_4\n",
      "conv_bn_4\n",
      "activation_4\n",
      "pool_4\n",
      "flatten\n",
      "dense\n",
      "dense_bn_0\n",
      "activation_5\n",
      "MCD_0\n",
      "dense_1\n",
      "dense_bn_1\n",
      "activation_6\n",
      "MCD_1\n",
      "output\n"
     ]
    }
   ],
   "source": [
    "atac_layers = [layer.name for layer in atac_model.layers]\n",
    "for l in atac_layers:\n",
    "    print(l)"
   ]
  },
  {
   "cell_type": "code",
   "execution_count": 100,
   "id": "313fcaef",
   "metadata": {},
   "outputs": [
    {
     "name": "stdout",
     "output_type": "stream",
     "text": [
      "conv_0\n",
      "conv_bn_0\n",
      "activation\n",
      "conv_1\n",
      "conv_bn_1\n",
      "activation_1\n",
      "conv_2\n",
      "conv_bn_2\n",
      "activation_2\n",
      "conv_3\n",
      "conv_bn_3\n",
      "activation_3\n",
      "conv_4\n",
      "conv_bn_4\n",
      "activation_4\n",
      "conv_5\n",
      "conv_bn_5\n",
      "activation_5\n",
      "pool\n",
      "flatten_1\n",
      "dense_15\n",
      "dense_bn_0\n",
      "activation_6\n",
      "MCD_0\n",
      "dense_16\n",
      "dense_bn_1\n",
      "activation_7\n",
      "MCD_1\n",
      "output\n"
     ]
    }
   ],
   "source": [
    "combined_1 = keras.models.Sequential(atac_model.layers[:15])\n",
    "combined_1.add(layers.Conv1D(filters=180,kernel_size=3,padding='same',name='conv_5'))\n",
    "combined_1.add(layers.BatchNormalization(name='conv_bn_5'))\n",
    "combined_1.add(layers.Activation('relu', name='activation_5'))\n",
    "combined_1.add(layers.MaxPooling1D(pool_size=4, name='pool'))\n",
    "combined_1.add(layers.Flatten())\n",
    "\n",
    "dense_layers = 2\n",
    "dense_neurons = 128\n",
    "pool_size=3\n",
    "dropout=0.4\n",
    "\n",
    "for i in range(dense_layers):\n",
    "        combined_1.add(layers.Dense(units=dense_neurons))\n",
    "        combined_1.add(layers.BatchNormalization(name='dense_bn_'+str(i)))\n",
    "        combined_1.add(layers.Activation('relu',name='activation_'+str(6+i)))\n",
    "        combined_1.add(layers.Dropout(dropout, name='MCD_'+str(i)))\n",
    "        \n",
    "combined_1.add(layers.Dense(units=1, activation='linear', name='output'))\n",
    "\n",
    "for layer in combined_1.layers[:15]:\n",
    "        layer.trainable=False\n",
    "\n",
    "combined_1.compile(loss='mae',optimizer=keras.optimizers.Adam(learning_rate=1e-3))\n",
    "\n",
    "for l in combined_1.layers:\n",
    "    print(l.name)"
   ]
  },
  {
   "cell_type": "code",
   "execution_count": 101,
   "id": "7c4f0612",
   "metadata": {},
   "outputs": [],
   "source": [
    "genomic_df = pd.read_csv('Data/genomic.csv', index_col=0)\n",
    "FEATURE_KEY = 'sequence'\n",
    "LABEL_KEY = 'expression_log2'\n",
    "test_df = genomic_df[genomic_df['test_set']]\n",
    "validation_df = genomic_df[genomic_df['validation_set']]\n",
    "train_df = genomic_df[genomic_df['train_set']]\n",
    "\n",
    "x_test = one_hot_seqs(test_df[FEATURE_KEY])\n",
    "x_validation = one_hot_seqs(validation_df[FEATURE_KEY])\n",
    "x_train = one_hot_seqs(train_df[FEATURE_KEY])\n",
    "\n",
    "y_test = test_df[LABEL_KEY].values\n",
    "y_validation = validation_df[LABEL_KEY].values\n",
    "y_train = train_df[LABEL_KEY].values\n"
   ]
  },
  {
   "cell_type": "code",
   "execution_count": 104,
   "id": "3bc9413b",
   "metadata": {},
   "outputs": [
    {
     "name": "stdout",
     "output_type": "stream",
     "text": [
      "Epoch 1/100\n",
      "105/105 [==============================] - 7s 65ms/step - loss: 1.0771 - val_loss: 1.8132\n",
      "Epoch 2/100\n",
      "105/105 [==============================] - 7s 62ms/step - loss: 1.0014 - val_loss: 1.7456\n",
      "Epoch 3/100\n",
      "105/105 [==============================] - 7s 63ms/step - loss: 0.9459 - val_loss: 1.7694\n",
      "Epoch 4/100\n",
      "105/105 [==============================] - 6s 62ms/step - loss: 0.9038 - val_loss: 1.9698\n",
      "Epoch 5/100\n",
      "105/105 [==============================] - 7s 62ms/step - loss: 0.8659 - val_loss: 1.7715\n",
      "Epoch 6/100\n",
      "105/105 [==============================] - 6s 62ms/step - loss: 0.8424 - val_loss: 1.8431\n",
      "Epoch 7/100\n",
      "105/105 [==============================] - 6s 62ms/step - loss: 0.8246 - val_loss: 1.7121\n",
      "Epoch 8/100\n",
      "105/105 [==============================] - 6s 62ms/step - loss: 0.7957 - val_loss: 2.0191\n",
      "Epoch 9/100\n",
      "105/105 [==============================] - 7s 62ms/step - loss: 0.7670 - val_loss: 1.7624\n",
      "Epoch 10/100\n",
      "105/105 [==============================] - 6s 62ms/step - loss: 0.7643 - val_loss: 1.7524\n",
      "Epoch 11/100\n",
      "105/105 [==============================] - 7s 62ms/step - loss: 0.7465 - val_loss: 1.7818\n",
      "Epoch 12/100\n",
      "105/105 [==============================] - 7s 62ms/step - loss: 0.7064 - val_loss: 1.7182\n",
      "Epoch 13/100\n",
      "105/105 [==============================] - 7s 62ms/step - loss: 0.7037 - val_loss: 1.7463\n",
      "Epoch 14/100\n",
      "105/105 [==============================] - 7s 62ms/step - loss: 0.7019 - val_loss: 1.7638\n",
      "Epoch 15/100\n",
      "105/105 [==============================] - 7s 62ms/step - loss: 0.6832 - val_loss: 1.7544\n",
      "Epoch 16/100\n",
      "105/105 [==============================] - 7s 62ms/step - loss: 0.6629 - val_loss: 1.7510\n",
      "Epoch 17/100\n",
      "105/105 [==============================] - 7s 62ms/step - loss: 0.6722 - val_loss: 1.9506\n",
      "Epoch 18/100\n",
      "105/105 [==============================] - 7s 62ms/step - loss: 0.6549 - val_loss: 1.7207\n",
      "Epoch 19/100\n",
      "105/105 [==============================] - 6s 62ms/step - loss: 0.6683 - val_loss: 1.7504\n",
      "Epoch 20/100\n",
      "105/105 [==============================] - 7s 62ms/step - loss: 0.6482 - val_loss: 1.7222\n",
      "Epoch 21/100\n",
      "105/105 [==============================] - 7s 62ms/step - loss: 0.6682 - val_loss: 1.7462\n",
      "Epoch 22/100\n",
      "105/105 [==============================] - 6s 62ms/step - loss: 0.6478 - val_loss: 1.7218\n"
     ]
    }
   ],
   "source": [
    "x = x_train.astype('float')\n",
    "y = y_train.astype('float')\n",
    "x_val = x_validation.astype('float')\n",
    "earlystop_cb = keras.callbacks.EarlyStopping('val_loss', patience=15)\n",
    "\n",
    "hitsory1 = combined_1.fit(\n",
    "    x,\n",
    "    y,\n",
    "    validation_data=(x_validation, y_validation),\n",
    "    epochs=100,\n",
    "    callbacks=[earlystop_cb]\n",
    ")\n"
   ]
  },
  {
   "cell_type": "code",
   "execution_count": 105,
   "id": "c5f93fee",
   "metadata": {},
   "outputs": [
    {
     "name": "stdout",
     "output_type": "stream",
     "text": [
      "(20, 414)\n"
     ]
    },
    {
     "data": {
      "text/plain": [
       "pcc    0.273716\n",
       "scc    0.283964\n",
       "Name: metrics, dtype: float64"
      ]
     },
     "execution_count": 105,
     "metadata": {},
     "output_type": "execute_result"
    }
   ],
   "source": [
    "stats = cc_performance(combined_1,x_test.astype('float'),y_test)\n",
    "stats"
   ]
  },
  {
   "cell_type": "code",
   "execution_count": null,
   "id": "95d04f37",
   "metadata": {},
   "outputs": [],
   "source": []
  },
  {
   "cell_type": "code",
   "execution_count": null,
   "id": "53fd06dd",
   "metadata": {},
   "outputs": [],
   "source": []
  }
 ],
 "metadata": {
  "kernelspec": {
   "display_name": "Python 3 (ipykernel)",
   "language": "python",
   "name": "python3"
  },
  "language_info": {
   "codemirror_mode": {
    "name": "ipython",
    "version": 3
   },
   "file_extension": ".py",
   "mimetype": "text/x-python",
   "name": "python",
   "nbconvert_exporter": "python",
   "pygments_lexer": "ipython3",
   "version": "3.10.4"
  }
 },
 "nbformat": 4,
 "nbformat_minor": 5
}
