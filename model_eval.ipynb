{
 "cells": [
  {
   "cell_type": "code",
   "execution_count": 34,
   "id": "02a74dff",
   "metadata": {},
   "outputs": [],
   "source": [
    "import pandas as pd\n",
    "import numpy as np\n",
    "import random\n",
    "import matplotlib.pyplot as plt\n",
    "import os\n",
    "\n",
    "from scipy.stats import linregress, pearsonr\n",
    "from scipy.io import loadmat\n",
    "\n",
    "import tensorflow as tf\n",
    "from tensorflow import keras\n",
    "from keras import datasets, layers, models, Input, Model, activations\n",
    "from sklearn.preprocessing import LabelEncoder\n",
    "from sklearn.metrics import confusion_matrix, ConfusionMatrixDisplay, classification_report, f1_score, confusion_matrix, roc_auc_score, precision_recall_curve, PrecisionRecallDisplay, average_precision_score\n",
    "\n",
    "from src.mpra_tools.fasta_utils import *\n",
    "from src.tf_tools.cnn_regression import MCDropout"
   ]
  },
  {
   "cell_type": "code",
   "execution_count": 35,
   "id": "dce06bc2",
   "metadata": {},
   "outputs": [],
   "source": [
    "def one_hot_seqs(seqs) -> np.array:\n",
    "    static_1hotmap = {\n",
    "        'A' : np.array([1,0,0,0]),\n",
    "        'a' : np.array([1,0,0,0]),\n",
    "        'C' : np.array([0,1,0,0]),\n",
    "        'c' : np.array([0,1,0,0]),\n",
    "        'G' : np.array([0,0,1,0]),\n",
    "        'g' : np.array([0,0,1,0]),\n",
    "        'T' : np.array([0,0,0,1]),\n",
    "        't' : np.array([0,0,0,1]),\n",
    "    }\n",
    "    onehot_seqs = []\n",
    "    for seq in seqs:\n",
    "        onehot_seqs.append(\n",
    "            [static_1hotmap[seq[i]] if seq[i] in static_1hotmap.keys() else static_1hotmap[random.choice(['A','C','G','T'])] for i in range(len(seq))]\n",
    "        )\n",
    "    return np.stack(onehot_seqs)\n"
   ]
  },
  {
   "cell_type": "code",
   "execution_count": 36,
   "id": "27b3a070",
   "metadata": {},
   "outputs": [],
   "source": [
    "LABEL_KEY = 'expression_log2'\n",
    "activity_df = pd.read_csv(\"Data/activity.csv\")\n",
    "retinopathy_df = pd.read_csv(\"Data/retinopathy.csv\")\n",
    "x_ret = one_hot_seqs(retinopathy_df['sequence'])\n",
    "\n",
    "test_df = activity_df[activity_df['test_set']]\n",
    "len(test_df)\n",
    "x_test = one_hot_seqs(test_df['sequence'])\n",
    "\n",
    "y_test = test_df['expression_log2'].values\n",
    "\n",
    "# encoder = LabelEncoder()\n",
    "# encoder.fit(data_df[LABEL_KEY])\n",
    "# classes = encoder.classes_\n",
    "# num_classes = len(classes)\n",
    "# y_test = encoder.transform(test_df[LABEL_KEY])\n",
    "# y_test = keras.utils.to_categorical(y_test, num_classes)\n"
   ]
  },
  {
   "cell_type": "code",
   "execution_count": 37,
   "id": "0e28fafa",
   "metadata": {},
   "outputs": [],
   "source": [
    "folder = \"Reg2_MCD_11597680\"\n",
    "nsamples = range(20)\n",
    "model_name = \"cnn_model.keras\"\n",
    "folds = np.arange(7)+1"
   ]
  },
  {
   "cell_type": "code",
   "execution_count": 38,
   "id": "48cf9927",
   "metadata": {},
   "outputs": [
    {
     "name": "stdout",
     "output_type": "stream",
     "text": [
      "161/161 [==============================] - 14s 81ms/step - loss: 5.2056\n",
      "Done with fold 1\n",
      "161/161 [==============================] - 15s 84ms/step - loss: 4.4824\n",
      "Done with fold 2\n",
      "161/161 [==============================] - 15s 84ms/step - loss: 4.2452\n",
      "Done with fold 3\n",
      "161/161 [==============================] - 16s 90ms/step - loss: 4.6641\n",
      "Done with fold 4\n",
      "161/161 [==============================] - 14s 77ms/step - loss: 4.4910\n",
      "Done with fold 5\n",
      "161/161 [==============================] - 13s 74ms/step - loss: 5.0748\n",
      "Done with fold 6\n",
      "161/161 [==============================] - 14s 83ms/step - loss: 4.5843\n",
      "Done with fold 7\n"
     ]
    }
   ],
   "source": [
    "# results = []\n",
    "# predictions = []\n",
    "# ret_predictions = []\n",
    "# for fold in folds:\n",
    "#     model = keras.models.load_model(os.path.join(folder,str(fold),model_name), custom_objects={'MCDropout':MCDropout})\n",
    "#     results.append(model.evaluate(x_test,y_test,batch_size=64, verbose=1))\n",
    "#     drop = []\n",
    "#     ret_drop = []\n",
    "#     for _ in nsamples:\n",
    "#         drop.append(model.predict(x_test, verbose=0).flatten())\n",
    "#         ret_drop.append(model.predict(x_ret, verbose=0).flatten())\n",
    "#     predictions.append(np.stack(drop))\n",
    "#     ret_predictions.append(np.stack(ret_drop))\n",
    "#     print(f\"Done with fold {fold}\")"
   ]
  },
  {
   "cell_type": "code",
   "execution_count": 80,
   "id": "d5d06d80",
   "metadata": {},
   "outputs": [],
   "source": [
    "# MCD_predictions = predictions"
   ]
  },
  {
   "cell_type": "code",
   "execution_count": 87,
   "id": "27b2e012",
   "metadata": {},
   "outputs": [],
   "source": [
    "\n",
    "# mean_preds = [np.mean(preds, axis=0) for preds in predictions]\n",
    "# std_preds = [np.std(preds,axis=0) for preds in predictions]\n",
    "# mean_rvals = [linregress(preds, predictions[i][1]).rvalue for i, preds in enumerate(mean_preds)]\n",
    "\n",
    "ret_mean_preds = [np.mean(preds, axis=0) for preds in ret_predictions]\n",
    "ret_std_preds = [np.std(preds,axis=0) for preds in ret_predictions]\n",
    "ret_mean_rvals = [linregress(preds, retinopathy_df['expression_log2']).rvalue for preds in ret_mean_preds]"
   ]
  },
  {
   "cell_type": "code",
   "execution_count": 88,
   "id": "25a065cd",
   "metadata": {},
   "outputs": [
    {
     "data": {
      "text/plain": [
       "[0.4139677064395499,\n",
       " 0.4311395237414155,\n",
       " 0.3840810766690879,\n",
       " 0.43808107750881625,\n",
       " 0.40739761586247675,\n",
       " 0.4559503706595654,\n",
       " 0.4367598479834121]"
      ]
     },
     "execution_count": 88,
     "metadata": {},
     "output_type": "execute_result"
    }
   ],
   "source": [
    "ret_mean_rvals"
   ]
  },
  {
   "cell_type": "code",
   "execution_count": 89,
   "id": "eac94f83",
   "metadata": {},
   "outputs": [
    {
     "data": {
      "text/plain": [
       "[0.408320916260335,\n",
       " 0.41134238842927384,\n",
       " 0.4552449643612125,\n",
       " 0.43610947811315776,\n",
       " 0.3853631649160763,\n",
       " 0.4412920642424504,\n",
       " 0.41730414653867126,\n",
       " 0.43411587005808133,\n",
       " 0.42887860614961015,\n",
       " 0.43178759697686364]"
      ]
     },
     "execution_count": 89,
     "metadata": {},
     "output_type": "execute_result"
    }
   ],
   "source": [
    "mean_rvals"
   ]
  },
  {
   "cell_type": "code",
   "execution_count": null,
   "id": "2c9b8ce7",
   "metadata": {},
   "outputs": [],
   "source": []
  },
  {
   "cell_type": "code",
   "execution_count": 81,
   "id": "d240475c",
   "metadata": {},
   "outputs": [],
   "source": [
    "folder = \"Reg2_Rand_11600107\"\n",
    "folds = np.arange(10)+1\n",
    "\n",
    "predictions = []\n",
    "\n",
    "for fold in folds:\n",
    "    mat_path = os.path.join(folder,str(fold),'test_preds.mat')\n",
    "    pmat = loadmat(mat_path)\n",
    "    predictions.append((pmat['preds'], pmat['truths']))\n",
    "    \n",
    "    "
   ]
  },
  {
   "cell_type": "code",
   "execution_count": null,
   "id": "f261e1d8",
   "metadata": {},
   "outputs": [],
   "source": []
  },
  {
   "cell_type": "code",
   "execution_count": 82,
   "id": "6eea75ae",
   "metadata": {},
   "outputs": [],
   "source": [
    "mean_preds = [np.mean(preds[0], axis=0) for preds in predictions]\n",
    "std_preds = [np.std(preds[0],axis=0) for preds in predictions]\n",
    "mean_rvals = [linregress(preds, predictions[i][1]).rvalue for i, preds in enumerate(mean_preds)]"
   ]
  },
  {
   "cell_type": "code",
   "execution_count": 83,
   "id": "bfa1e081",
   "metadata": {},
   "outputs": [
    {
     "data": {
      "text/plain": [
       "[0.408320916260335,\n",
       " 0.41134238842927384,\n",
       " 0.4552449643612125,\n",
       " 0.43610947811315776,\n",
       " 0.3853631649160763,\n",
       " 0.4412920642424504,\n",
       " 0.41730414653867126,\n",
       " 0.43411587005808133,\n",
       " 0.42887860614961015,\n",
       " 0.43178759697686364]"
      ]
     },
     "execution_count": 83,
     "metadata": {},
     "output_type": "execute_result"
    }
   ],
   "source": [
    "mean_rvals"
   ]
  },
  {
   "cell_type": "code",
   "execution_count": null,
   "id": "d4ccb7ca",
   "metadata": {},
   "outputs": [],
   "source": []
  },
  {
   "cell_type": "code",
   "execution_count": null,
   "id": "95345cd7",
   "metadata": {},
   "outputs": [],
   "source": []
  },
  {
   "cell_type": "code",
   "execution_count": 84,
   "id": "66c407be",
   "metadata": {},
   "outputs": [],
   "source": [
    "best_model = keras.models.load_model(os.path.join(folder,'3',model_name), custom_objects={'MCDropout':MCDropout})"
   ]
  },
  {
   "cell_type": "code",
   "execution_count": 85,
   "id": "d6114026",
   "metadata": {},
   "outputs": [
    {
     "name": "stdout",
     "output_type": "stream",
     "text": [
      "54/54 [==============================] - 2s 46ms/step\n",
      "54/54 [==============================] - 2s 46ms/step\n",
      "54/54 [==============================] - 2s 46ms/step\n",
      "54/54 [==============================] - 2s 46ms/step\n",
      "54/54 [==============================] - 2s 46ms/step\n",
      "54/54 [==============================] - 2s 45ms/step\n",
      "54/54 [==============================] - 2s 46ms/step\n",
      "54/54 [==============================] - 2s 46ms/step\n",
      "54/54 [==============================] - 2s 46ms/step\n",
      "54/54 [==============================] - 2s 45ms/step\n",
      "54/54 [==============================] - 2s 45ms/step\n",
      "54/54 [==============================] - 2s 44ms/step\n",
      "54/54 [==============================] - 2s 45ms/step\n",
      "54/54 [==============================] - 2s 45ms/step\n",
      "54/54 [==============================] - 2s 45ms/step\n",
      "54/54 [==============================] - 2s 45ms/step\n",
      "54/54 [==============================] - 2s 44ms/step\n",
      "54/54 [==============================] - 2s 44ms/step\n",
      "54/54 [==============================] - 2s 45ms/step\n",
      "54/54 [==============================] - 2s 45ms/step\n"
     ]
    }
   ],
   "source": [
    "q_preds = []\n",
    "\n",
    "for _ in range(20):\n",
    "    q_preds.append(model.predict(x_ret, verbose=1).flatten())"
   ]
  },
  {
   "cell_type": "code",
   "execution_count": null,
   "id": "16991bd2",
   "metadata": {},
   "outputs": [],
   "source": []
  }
 ],
 "metadata": {
  "kernelspec": {
   "display_name": "Python 3 (ipykernel)",
   "language": "python",
   "name": "python3"
  },
  "language_info": {
   "codemirror_mode": {
    "name": "ipython",
    "version": 3
   },
   "file_extension": ".py",
   "mimetype": "text/x-python",
   "name": "python",
   "nbconvert_exporter": "python",
   "pygments_lexer": "ipython3",
   "version": "3.10.4"
  }
 },
 "nbformat": 4,
 "nbformat_minor": 5
}
