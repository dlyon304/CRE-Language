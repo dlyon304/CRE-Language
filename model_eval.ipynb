{
 "cells": [
  {
   "cell_type": "code",
   "execution_count": 95,
   "id": "02a74dff",
   "metadata": {},
   "outputs": [],
   "source": [
    "import pandas as pd\n",
    "import numpy as np\n",
    "import random\n",
    "import matplotlib.pyplot as plt\n",
    "import os\n",
    "\n",
    "import tensorflow as tf\n",
    "from tensorflow import keras\n",
    "from keras import datasets, layers, models, Input, Model, activations\n",
    "from sklearn.preprocessing import LabelEncoder\n",
    "from sklearn.metrics import confusion_matrix, ConfusionMatrixDisplay, classification_report, f1_score, confusion_matrix, roc_auc_score, precision_recall_curve, PrecisionRecallDisplay, average_precision_score\n",
    "\n",
    "from src.mpra_tools.fasta_utils import *"
   ]
  },
  {
   "cell_type": "code",
   "execution_count": 69,
   "id": "dce06bc2",
   "metadata": {},
   "outputs": [],
   "source": [
    "def one_hot_seqs(seqs) -> np.array:\n",
    "    static_1hotmap = {\n",
    "        'A' : np.array([1,0,0,0]),\n",
    "        'a' : np.array([1,0,0,0]),\n",
    "        'C' : np.array([0,1,0,0]),\n",
    "        'c' : np.array([0,1,0,0]),\n",
    "        'G' : np.array([0,0,1,0]),\n",
    "        'g' : np.array([0,0,1,0]),\n",
    "        'T' : np.array([0,0,0,1]),\n",
    "        't' : np.array([0,0,0,1]),\n",
    "    }\n",
    "    onehot_seqs = []\n",
    "    for seq in seqs:\n",
    "        onehot_seqs.append(\n",
    "            [static_1hotmap[seq[i]] if seq[i] in static_1hotmap.keys() else static_1hotmap[random.choice(['A','C','G','T'])] for i in range(len(seq))]\n",
    "        )\n",
    "    return np.stack(onehot_seqs)\n"
   ]
  },
  {
   "cell_type": "code",
   "execution_count": 70,
   "id": "27b3a070",
   "metadata": {},
   "outputs": [],
   "source": [
    "LABEL_KEY = 'open'\n",
    "data_df = pd.read_csv(\"Data/ATAC/labeled_data.csv\", index_col=0)\n",
    "\n",
    "test_df = data_df[data_df['set'] == 'TEST']\n",
    "len(test_df)\n",
    "x_test = one_hot_seqs(test_df['sequence'])\n",
    "\n",
    "encoder = LabelEncoder()\n",
    "encoder.fit(data_df[LABEL_KEY])\n",
    "classes = encoder.classes_\n",
    "num_classes = len(classes)\n",
    "y_test = encoder.transform(test_df[LABEL_KEY])\n",
    "y_test = keras.utils.to_categorical(y_test, num_classes)\n"
   ]
  },
  {
   "cell_type": "code",
   "execution_count": 71,
   "id": "0e62d476",
   "metadata": {},
   "outputs": [],
   "source": [
    "folds = [str(i) for i in range(1,11)]\n",
    "folder = \"ATAC_10660504\"\n",
    "model_name = \"cnn_model.keras\""
   ]
  },
  {
   "cell_type": "code",
   "execution_count": 72,
   "id": "f8c4df55",
   "metadata": {},
   "outputs": [
    {
     "name": "stdout",
     "output_type": "stream",
     "text": [
      "126/126 [==============================] - 6s 44ms/step - loss: 0.6201 - accuracy: 0.7149\n",
      "126/126 [==============================] - 6s 46ms/step - loss: 0.7773 - accuracy: 0.6120\n",
      "126/126 [==============================] - 6s 42ms/step - loss: 1.0052 - accuracy: 0.5627\n",
      "126/126 [==============================] - 6s 42ms/step - loss: 0.8988 - accuracy: 0.5706\n",
      "126/126 [==============================] - 6s 42ms/step - loss: 0.7565 - accuracy: 0.6261\n",
      "126/126 [==============================] - 6s 42ms/step - loss: 0.5290 - accuracy: 0.7259\n",
      "126/126 [==============================] - 6s 42ms/step - loss: 0.9531 - accuracy: 0.5698\n",
      "126/126 [==============================] - 6s 43ms/step - loss: 1.1036 - accuracy: 0.6380\n",
      "126/126 [==============================] - 6s 42ms/step - loss: 0.8470 - accuracy: 0.6043\n",
      "126/126 [==============================] - 6s 42ms/step - loss: 0.5330 - accuracy: 0.7885\n"
     ]
    }
   ],
   "source": [
    "results = []\n",
    "predictions = []\n",
    "for fold in folds:\n",
    "    model = keras.models.load_model(os.path.join(folder,fold,model_name))\n",
    "    results.append(model.evaluate(x_test,y_test,batch_size=64, verbose=1))\n",
    "    \n",
    "    predictions.append(model.predict(x_test, verbose=0))\n",
    "    \n",
    "    "
   ]
  },
  {
   "cell_type": "code",
   "execution_count": 94,
   "id": "c7d6591c",
   "metadata": {},
   "outputs": [
    {
     "name": "stdout",
     "output_type": "stream",
     "text": [
      "              precision    recall  f1-score   support\n",
      "\n",
      "      Closed       0.79      0.83      0.81      4363\n",
      "        Open       0.78      0.74      0.76      3648\n",
      "\n",
      "    accuracy                           0.79      8011\n",
      "   macro avg       0.79      0.78      0.79      8011\n",
      "weighted avg       0.79      0.79      0.79      8011\n",
      "\n"
     ]
    }
   ],
   "source": [
    "truths = np.argmax(y_test, axis=1)\n",
    "preds = [np.argmax(p, axis=1) for p in predictions]\n",
    "best_fold = 10\n",
    "print(classification_report(truths,preds[best_fold-1], target_names=classes))"
   ]
  },
  {
   "cell_type": "code",
   "execution_count": 97,
   "id": "e2f718e6",
   "metadata": {},
   "outputs": [
    {
     "data": {
      "text/plain": [
       "<sklearn.metrics._plot.confusion_matrix.ConfusionMatrixDisplay at 0x1508a2a75750>"
      ]
     },
     "execution_count": 97,
     "metadata": {},
     "output_type": "execute_result"
    },
    {
     "data": {
      "image/png": "[encoded data removed]",
      "text/plain": [
       "<Figure size 640x480 with 2 Axes>"
      ]
     },
     "metadata": {},
     "output_type": "display_data"
    }
   ],
   "source": [
    "ConfusionMatrixDisplay.from_predictions(truths,preds[best_fold-1],display_labels=classes)"
   ]
  },
  {
   "cell_type": "code",
   "execution_count": 90,
   "id": "5fdb78bf",
   "metadata": {},
   "outputs": [],
   "source": [
    "scores = []\n",
    "for fold in folds:\n",
    "    measurements = dict()\n",
    "    measurements[\"roc_auc\"] = roc_auc_score(truths, preds[int(fold)-1])\n",
    "    measurements[\"pr_auc\"] = average_precision_score(truths,preds[int(fold)-1])\n",
    "    scores.append(measurements)\n",
    "    "
   ]
  },
  {
   "cell_type": "code",
   "execution_count": null,
   "id": "220c481f",
   "metadata": {},
   "outputs": [],
   "source": []
  },
  {
   "cell_type": "code",
   "execution_count": 91,
   "id": "2fa7ffa4",
   "metadata": {},
   "outputs": [],
   "source": [
    "measurements_df = pd.DataFrame(\n",
    "    data = scores,\n",
    "    index = folds,\n",
    "    columns = ['roc_auc', 'pr_auc']\n",
    ")\n",
    "measurements_df.to_csv(folder+\"/metrics_df.csv\", index_label=\"fold\")"
   ]
  },
  {
   "cell_type": "code",
   "execution_count": 93,
   "id": "524ae6e6",
   "metadata": {},
   "outputs": [
    {
     "data": {
      "text/html": [
       "<div>\n",
       "<style scoped>\n",
       "    .dataframe tbody tr th:only-of-type {\n",
       "        vertical-align: middle;\n",
       "    }\n",
       "\n",
       "    .dataframe tbody tr th {\n",
       "        vertical-align: top;\n",
       "    }\n",
       "\n",
       "    .dataframe thead th {\n",
       "        text-align: right;\n",
       "    }\n",
       "</style>\n",
       "<table border=\"1\" class=\"dataframe\">\n",
       "  <thead>\n",
       "    <tr style=\"text-align: right;\">\n",
       "      <th></th>\n",
       "      <th>roc_auc</th>\n",
       "      <th>pr_auc</th>\n",
       "    </tr>\n",
       "  </thead>\n",
       "  <tbody>\n",
       "    <tr>\n",
       "      <th>1</th>\n",
       "      <td>0.733334</td>\n",
       "      <td>0.614004</td>\n",
       "    </tr>\n",
       "    <tr>\n",
       "      <th>2</th>\n",
       "      <td>0.642071</td>\n",
       "      <td>0.539080</td>\n",
       "    </tr>\n",
       "    <tr>\n",
       "      <th>3</th>\n",
       "      <td>0.597658</td>\n",
       "      <td>0.509651</td>\n",
       "    </tr>\n",
       "    <tr>\n",
       "      <th>4</th>\n",
       "      <td>0.604720</td>\n",
       "      <td>0.514103</td>\n",
       "    </tr>\n",
       "    <tr>\n",
       "      <th>5</th>\n",
       "      <td>0.654684</td>\n",
       "      <td>0.548139</td>\n",
       "    </tr>\n",
       "    <tr>\n",
       "      <th>6</th>\n",
       "      <td>0.743397</td>\n",
       "      <td>0.623552</td>\n",
       "    </tr>\n",
       "    <tr>\n",
       "      <th>7</th>\n",
       "      <td>0.604257</td>\n",
       "      <td>0.513789</td>\n",
       "    </tr>\n",
       "    <tr>\n",
       "      <th>8</th>\n",
       "      <td>0.665504</td>\n",
       "      <td>0.556119</td>\n",
       "    </tr>\n",
       "    <tr>\n",
       "      <th>9</th>\n",
       "      <td>0.635168</td>\n",
       "      <td>0.534258</td>\n",
       "    </tr>\n",
       "    <tr>\n",
       "      <th>10</th>\n",
       "      <td>0.784597</td>\n",
       "      <td>0.698211</td>\n",
       "    </tr>\n",
       "  </tbody>\n",
       "</table>\n",
       "</div>"
      ],
      "text/plain": [
       "     roc_auc    pr_auc\n",
       "1   0.733334  0.614004\n",
       "2   0.642071  0.539080\n",
       "3   0.597658  0.509651\n",
       "4   0.604720  0.514103\n",
       "5   0.654684  0.548139\n",
       "6   0.743397  0.623552\n",
       "7   0.604257  0.513789\n",
       "8   0.665504  0.556119\n",
       "9   0.635168  0.534258\n",
       "10  0.784597  0.698211"
      ]
     },
     "execution_count": 93,
     "metadata": {},
     "output_type": "execute_result"
    }
   ],
   "source": [
    "measurements_df"
   ]
  },
  {
   "cell_type": "code",
   "execution_count": null,
   "id": "e9faf5ad",
   "metadata": {},
   "outputs": [],
   "source": []
  }
 ],
 "metadata": {
  "kernelspec": {
   "display_name": "Python 3 (ipykernel)",
   "language": "python",
   "name": "python3"
  }
 },
 "nbformat": 4,
 "nbformat_minor": 5
}
