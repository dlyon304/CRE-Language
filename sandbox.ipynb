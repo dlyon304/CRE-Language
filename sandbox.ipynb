{
 "cells": [
  {
   "cell_type": "code",
   "execution_count": 1,
   "id": "02a74dff",
   "metadata": {},
   "outputs": [],
   "source": [
    "import pandas as pd\n",
    "import os\n",
    "import glob\n",
    "import numpy as np\n",
    "import statistics as stats\n",
    "import scipy\n",
    "import src.mpra_tools.predicted_occupancy as po\n",
    "import src.mpra_tools.fasta_utils as fu\n",
    "import math\n",
    "import matplotlib.pyplot as plt\n",
    "from collections import Counter, defaultdict\n",
    "import random\n",
    "from src.mpra_tools.fasta_utils import write_fasta"
   ]
  },
  {
   "cell_type": "code",
   "execution_count": 3,
   "id": "8624e4e1",
   "metadata": {},
   "outputs": [],
   "source": [
    "activity_df = pd.read_csv(\"Data/activity.csv\", index_col=0)\n",
    "retinopathy_df = pd.read_csv(\"Data/retinopathy.csv\", index_col=0)\n",
    "L = 164"
   ]
  },
  {
   "cell_type": "markdown",
   "id": "5fcc6ec1",
   "metadata": {},
   "source": [
    "### Create fasta file for retinopathy data"
   ]
  },
  {
   "cell_type": "code",
   "execution_count": 4,
   "id": "8e5f9205",
   "metadata": {},
   "outputs": [],
   "source": [
    "# ret_s = pd.Series(\n",
    "#     data = retinopathy_df['sequence'],\n",
    "#     index=retinopathy_df.index\n",
    "# )\n",
    "# write_fasta(ret_s, \"Data/Fasta/retinopathy.fasta\")"
   ]
  },
  {
   "cell_type": "code",
   "execution_count": 8,
   "id": "884610de",
   "metadata": {},
   "outputs": [
    {
     "data": {
      "text/html": [
       "<div>\n",
       "<style scoped>\n",
       "    .dataframe tbody tr th:only-of-type {\n",
       "        vertical-align: middle;\n",
       "    }\n",
       "\n",
       "    .dataframe tbody tr th {\n",
       "        vertical-align: top;\n",
       "    }\n",
       "\n",
       "    .dataframe thead th {\n",
       "        text-align: right;\n",
       "    }\n",
       "</style>\n",
       "<table border=\"1\" class=\"dataframe\">\n",
       "  <thead>\n",
       "    <tr style=\"text-align: right;\">\n",
       "      <th></th>\n",
       "      <th>motif_id</th>\n",
       "      <th>sequence_name</th>\n",
       "      <th>start</th>\n",
       "      <th>stop</th>\n",
       "      <th>strand</th>\n",
       "      <th>score</th>\n",
       "      <th>p-value</th>\n",
       "      <th>q-value</th>\n",
       "      <th>matched_sequence</th>\n",
       "    </tr>\n",
       "  </thead>\n",
       "  <tbody>\n",
       "    <tr>\n",
       "      <th>0</th>\n",
       "      <td>MEF2D</td>\n",
       "      <td>CRX.4455</td>\n",
       "      <td>121.0</td>\n",
       "      <td>134.0</td>\n",
       "      <td>-</td>\n",
       "      <td>19.4478</td>\n",
       "      <td>9.400000e-09</td>\n",
       "      <td>0.00489</td>\n",
       "      <td>TGCTATTTTTAGCC</td>\n",
       "    </tr>\n",
       "    <tr>\n",
       "      <th>1</th>\n",
       "      <td>MEF2D</td>\n",
       "      <td>CRX.1423</td>\n",
       "      <td>110.0</td>\n",
       "      <td>123.0</td>\n",
       "      <td>-</td>\n",
       "      <td>19.0896</td>\n",
       "      <td>4.370000e-08</td>\n",
       "      <td>0.01140</td>\n",
       "      <td>AGCTATTTTTAGCT</td>\n",
       "    </tr>\n",
       "    <tr>\n",
       "      <th>2</th>\n",
       "      <td>MAZ</td>\n",
       "      <td>CRX.269</td>\n",
       "      <td>3.0</td>\n",
       "      <td>13.0</td>\n",
       "      <td>+</td>\n",
       "      <td>18.6970</td>\n",
       "      <td>1.130000e-07</td>\n",
       "      <td>0.00737</td>\n",
       "      <td>GAGGGAGGGGG</td>\n",
       "    </tr>\n",
       "    <tr>\n",
       "      <th>3</th>\n",
       "      <td>MAZ</td>\n",
       "      <td>CRX.3724</td>\n",
       "      <td>3.0</td>\n",
       "      <td>13.0</td>\n",
       "      <td>-</td>\n",
       "      <td>18.6970</td>\n",
       "      <td>1.130000e-07</td>\n",
       "      <td>0.00737</td>\n",
       "      <td>GAGGGAGGGGG</td>\n",
       "    </tr>\n",
       "    <tr>\n",
       "      <th>4</th>\n",
       "      <td>MAZ</td>\n",
       "      <td>CRX.4201</td>\n",
       "      <td>41.0</td>\n",
       "      <td>51.0</td>\n",
       "      <td>+</td>\n",
       "      <td>18.6970</td>\n",
       "      <td>1.130000e-07</td>\n",
       "      <td>0.00737</td>\n",
       "      <td>GAGGGAGGGGG</td>\n",
       "    </tr>\n",
       "  </tbody>\n",
       "</table>\n",
       "</div>"
      ],
      "text/plain": [
       "  motif_id sequence_name  start   stop strand    score       p-value  q-value  \\\n",
       "0    MEF2D      CRX.4455  121.0  134.0      -  19.4478  9.400000e-09  0.00489   \n",
       "1    MEF2D      CRX.1423  110.0  123.0      -  19.0896  4.370000e-08  0.01140   \n",
       "2      MAZ       CRX.269    3.0   13.0      +  18.6970  1.130000e-07  0.00737   \n",
       "3      MAZ      CRX.3724    3.0   13.0      -  18.6970  1.130000e-07  0.00737   \n",
       "4      MAZ      CRX.4201   41.0   51.0      +  18.6970  1.130000e-07  0.00737   \n",
       "\n",
       "  matched_sequence  \n",
       "0   TGCTATTTTTAGCC  \n",
       "1   AGCTATTTTTAGCT  \n",
       "2      GAGGGAGGGGG  \n",
       "3      GAGGGAGGGGG  \n",
       "4      GAGGGAGGGGG  "
      ]
     },
     "execution_count": 8,
     "metadata": {},
     "output_type": "execute_result"
    }
   ],
   "source": [
    "fimo_df = pd.read_csv(\"Data/Motifs/fimo_eLife_retinopathy/fimo.tsv\", sep='\\t')\n",
    "del fimo_df['motif_alt_id']\n",
    "fimo_df.dropna(inplace=True)\n",
    "fimo_df['motif_id'] = fimo_df['motif_id'].map(lambda x: x.split('_')[0])\n",
    "fimo_df.head()"
   ]
  },
  {
   "cell_type": "code",
   "execution_count": 9,
   "id": "8abf3afa",
   "metadata": {},
   "outputs": [
    {
     "data": {
      "text/html": [
       "<div>\n",
       "<style scoped>\n",
       "    .dataframe tbody tr th:only-of-type {\n",
       "        vertical-align: middle;\n",
       "    }\n",
       "\n",
       "    .dataframe tbody tr th {\n",
       "        vertical-align: top;\n",
       "    }\n",
       "\n",
       "    .dataframe thead th {\n",
       "        text-align: right;\n",
       "    }\n",
       "</style>\n",
       "<table border=\"1\" class=\"dataframe\">\n",
       "  <thead>\n",
       "    <tr style=\"text-align: right;\">\n",
       "      <th></th>\n",
       "      <th></th>\n",
       "      <th>motif</th>\n",
       "      <th>strand</th>\n",
       "      <th>length</th>\n",
       "      <th>occupancy</th>\n",
       "    </tr>\n",
       "    <tr>\n",
       "      <th>label</th>\n",
       "      <th>position</th>\n",
       "      <th></th>\n",
       "      <th></th>\n",
       "      <th></th>\n",
       "      <th></th>\n",
       "    </tr>\n",
       "  </thead>\n",
       "  <tbody>\n",
       "    <tr>\n",
       "      <th rowspan=\"5\" valign=\"top\">CRX.1003</th>\n",
       "      <th>11</th>\n",
       "      <td>NDF1</td>\n",
       "      <td>R</td>\n",
       "      <td>10</td>\n",
       "      <td>0.209839</td>\n",
       "    </tr>\n",
       "    <tr>\n",
       "      <th>42</th>\n",
       "      <td>CRX</td>\n",
       "      <td>F</td>\n",
       "      <td>8</td>\n",
       "      <td>0.354500</td>\n",
       "    </tr>\n",
       "    <tr>\n",
       "      <th>54</th>\n",
       "      <td>CRX</td>\n",
       "      <td>R</td>\n",
       "      <td>8</td>\n",
       "      <td>0.291680</td>\n",
       "    </tr>\n",
       "    <tr>\n",
       "      <th>64</th>\n",
       "      <td>CRX</td>\n",
       "      <td>R</td>\n",
       "      <td>8</td>\n",
       "      <td>0.641077</td>\n",
       "    </tr>\n",
       "    <tr>\n",
       "      <th>110</th>\n",
       "      <td>NDF1</td>\n",
       "      <td>F</td>\n",
       "      <td>10</td>\n",
       "      <td>0.804350</td>\n",
       "    </tr>\n",
       "  </tbody>\n",
       "</table>\n",
       "</div>"
      ],
      "text/plain": [
       "                  motif strand  length  occupancy\n",
       "label    position                                \n",
       "CRX.1003 11        NDF1      R      10   0.209839\n",
       "         42         CRX      F       8   0.354500\n",
       "         54         CRX      R       8   0.291680\n",
       "         64         CRX      R       8   0.641077\n",
       "         110       NDF1      F      10   0.804350"
      ]
     },
     "execution_count": 9,
     "metadata": {},
     "output_type": "execute_result"
    }
   ],
   "source": [
    "po_df = pd.read_parquet(\"Data/Motifs/retinopathy_motifs.parquet\")\n",
    "po_df.head()"
   ]
  },
  {
   "cell_type": "code",
   "execution_count": 10,
   "id": "54f98382",
   "metadata": {},
   "outputs": [
    {
     "data": {
      "text/plain": [
       "True"
      ]
     },
     "execution_count": 10,
     "metadata": {},
     "output_type": "execute_result"
    }
   ],
   "source": [
    "test = activity_df[activity_df['activity_bin']=='potato']\n",
    "test.empty"
   ]
  },
  {
   "cell_type": "code",
   "execution_count": null,
   "id": "06372ac3",
   "metadata": {},
   "outputs": [],
   "source": []
  }
 ],
 "metadata": {
  "kernelspec": {
   "display_name": "Python 3 (ipykernel)",
   "language": "python",
   "name": "python3"
  },
  "language_info": {
   "codemirror_mode": {
    "name": "ipython",
    "version": 3
   },
   "file_extension": ".py",
   "mimetype": "text/x-python",
   "name": "python",
   "nbconvert_exporter": "python",
   "pygments_lexer": "ipython3",
   "version": "3.12.1"
  }
 },
 "nbformat": 4,
 "nbformat_minor": 5
}
