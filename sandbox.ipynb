{
 "cells": [
  {
   "cell_type": "code",
   "execution_count": 2,
   "id": "02a74dff",
   "metadata": {},
   "outputs": [],
   "source": [
    "import pandas as pd\n",
    "import os\n",
    "import glob\n",
    "import numpy as np\n",
    "import statistics as stats\n",
    "import scipy\n",
    "import mpra_tools.predicted_occupancy as po\n",
    "import mpra_tools.fasta_utils as fu\n",
    "import math\n",
    "import matplotlib.pyplot as plt\n",
    "from collections import Counter, defaultdict\n",
    "import random\n",
    "from mpra_tools.fasta_utils import write_fasta"
   ]
  },
  {
   "cell_type": "code",
   "execution_count": 9,
   "id": "8624e4e1",
   "metadata": {},
   "outputs": [],
   "source": [
    "activity_df = pd.read_csv(\"Data/activity.csv\", index_col=0)\n",
    "retinopathy_df = pd.read_csv(\"Data/retinopathy_reformatted.txt\", sep='\\t', index_col=1)\n",
    "L = 164"
   ]
  },
  {
   "cell_type": "markdown",
   "id": "5fcc6ec1",
   "metadata": {},
   "source": [
    "### Create fasta file for retinopathy data"
   ]
  },
  {
   "cell_type": "code",
   "execution_count": 5,
   "id": "8e5f9205",
   "metadata": {},
   "outputs": [],
   "source": [
    "# ret_s = pd.Series(\n",
    "#     data = retinopathy_df['sequence'],\n",
    "#     index=retinopathy_df.index\n",
    "# )\n",
    "# write_fasta(ret_s, \"Data/Fasta/retinopathy.fasta\")"
   ]
  },
  {
   "cell_type": "code",
   "execution_count": 7,
   "id": "884610de",
   "metadata": {},
   "outputs": [],
   "source": []
  },
  {
   "cell_type": "code",
   "execution_count": null,
   "id": "8abf3afa",
   "metadata": {},
   "outputs": [],
   "source": []
  }
 ],
 "metadata": {
  "kernelspec": {
   "display_name": "Python 3 (ipykernel)",
   "language": "python",
   "name": "python3"
  },
  "language_info": {
   "codemirror_mode": {
    "name": "ipython",
    "version": 3
   },
   "file_extension": ".py",
   "mimetype": "text/x-python",
   "name": "python",
   "nbconvert_exporter": "python",
   "pygments_lexer": "ipython3",
   "version": "3.12.1"
  }
 },
 "nbformat": 4,
 "nbformat_minor": 5
}
