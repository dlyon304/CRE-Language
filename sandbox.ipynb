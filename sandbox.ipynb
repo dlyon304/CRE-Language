{
 "cells": [
  {
   "cell_type": "code",
   "execution_count": 3,
   "id": "02a74dff",
   "metadata": {},
   "outputs": [],
   "source": [
    "import pandas as pd\n",
    "import os\n",
    "import glob\n",
    "import numpy as np\n",
    "import statistics as stats\n",
    "import scipy\n",
    "import src.mpra_tools.predicted_occupancy as po\n",
    "import src.mpra_tools.fasta_utils as fu\n",
    "from src.grammar.sentences import sentences_Cspacer\n",
    "import math\n",
    "import matplotlib.pyplot as plt\n",
    "from collections import Counter, defaultdict\n",
    "import random"
   ]
  },
  {
   "cell_type": "code",
   "execution_count": 14,
   "id": "79955c59",
   "metadata": {},
   "outputs": [],
   "source": [
    "activity_df = pd.read_csv(\"Data/activity.csv\", index_col=0)\n",
    "motif_file = \"Data/Motifs/summarized_motifs.parquet\""
   ]
  },
  {
   "cell_type": "code",
   "execution_count": 15,
   "id": "2a6d9a68",
   "metadata": {},
   "outputs": [],
   "source": [
    "labels = activity_df.index.to_list()"
   ]
  },
  {
   "cell_type": "code",
   "execution_count": 16,
   "id": "ccccacf8",
   "metadata": {},
   "outputs": [
    {
     "name": "stdout",
     "output_type": "stream",
     "text": [
      "118364 sentences to create\n",
      "\t 29591 / 118364 sentences created\n",
      "\t 59182 / 118364 sentences created\n",
      "\t 88773 / 118364 sentences created\n",
      "All sentences created\n"
     ]
    }
   ],
   "source": [
    "sentences = sentences_Cspacer(labels,motif_file)"
   ]
  },
  {
   "cell_type": "code",
   "execution_count": 15,
   "id": "cc69254b",
   "metadata": {},
   "outputs": [
    {
     "data": {
      "text/plain": [
       "1"
      ]
     },
     "execution_count": 15,
     "metadata": {},
     "output_type": "execute_result"
    }
   ],
   "source": [
    "a = np.array([1,2,3])\n",
    "random.choice(a)"
   ]
  },
  {
   "cell_type": "code",
   "execution_count": null,
   "id": "2fc7747a",
   "metadata": {},
   "outputs": [],
   "source": []
  }
 ],
 "metadata": {
  "kernelspec": {
   "display_name": "Python 3 (ipykernel)",
   "language": "python",
   "name": "python3"
  },
  "language_info": {
   "codemirror_mode": {
    "name": "ipython",
    "version": 3
   },
   "file_extension": ".py",
   "mimetype": "text/x-python",
   "name": "python",
   "nbconvert_exporter": "python",
   "pygments_lexer": "ipython3",
   "version": "3.11.7"
  }
 },
 "nbformat": 4,
 "nbformat_minor": 5
}
